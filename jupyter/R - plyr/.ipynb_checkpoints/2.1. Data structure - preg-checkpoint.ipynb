{
 "cells": [
  {
   "cell_type": "markdown",
   "id": "b623823b",
   "metadata": {},
   "source": [
    "# 2.1. Data structure - preg"
   ]
  },
  {
   "cell_type": "code",
   "execution_count": 1,
   "id": "e707a015",
   "metadata": {},
   "outputs": [
    {
     "data": {
      "text/html": [
       "<table>\n",
       "<thead><tr><th></th><th scope=col>treatmenta</th><th scope=col>treatmentb</th></tr></thead>\n",
       "<tbody>\n",
       "\t<tr><th scope=row>John Smith</th><td>NA</td><td>13</td></tr>\n",
       "\t<tr><th scope=row>Jane Doe</th><td>12</td><td> 5</td></tr>\n",
       "\t<tr><th scope=row>Mary Johnson</th><td> 6</td><td>15</td></tr>\n",
       "</tbody>\n",
       "</table>\n"
      ],
      "text/latex": [
       "\\begin{tabular}{r|ll}\n",
       "  & treatmenta & treatmentb\\\\\n",
       "\\hline\n",
       "\tJohn Smith & NA & 13\\\\\n",
       "\tJane Doe & 12 &  5\\\\\n",
       "\tMary Johnson &  6 & 15\\\\\n",
       "\\end{tabular}\n"
      ],
      "text/markdown": [
       "\n",
       "| <!--/--> | treatmenta | treatmentb |\n",
       "|---|---|---|\n",
       "| John Smith | NA | 13 |\n",
       "| Jane Doe | 12 |  5 |\n",
       "| Mary Johnson |  6 | 15 |\n",
       "\n"
      ],
      "text/plain": [
       "             treatmenta treatmentb\n",
       "John Smith   NA         13        \n",
       "Jane Doe     12          5        \n",
       "Mary Johnson  6         15        "
      ]
     },
     "metadata": {},
     "output_type": "display_data"
    },
    {
     "data": {
      "text/html": [
       "<table>\n",
       "<thead><tr><th></th><th scope=col>John Smith</th><th scope=col>Jane Doe</th><th scope=col>Mary Johnson</th></tr></thead>\n",
       "<tbody>\n",
       "\t<tr><th scope=row>treatmenta</th><td>NA</td><td>12</td><td> 6</td></tr>\n",
       "\t<tr><th scope=row>treatmentb</th><td>13</td><td> 5</td><td>15</td></tr>\n",
       "</tbody>\n",
       "</table>\n"
      ],
      "text/latex": [
       "\\begin{tabular}{r|lll}\n",
       "  & John Smith & Jane Doe & Mary Johnson\\\\\n",
       "\\hline\n",
       "\ttreatmenta & NA & 12 &  6\\\\\n",
       "\ttreatmentb & 13 &  5 & 15\\\\\n",
       "\\end{tabular}\n"
      ],
      "text/markdown": [
       "\n",
       "| <!--/--> | John Smith | Jane Doe | Mary Johnson |\n",
       "|---|---|---|---|\n",
       "| treatmenta | NA | 12 |  6 |\n",
       "| treatmentb | 13 |  5 | 15 |\n",
       "\n"
      ],
      "text/plain": [
       "           John Smith Jane Doe Mary Johnson\n",
       "treatmenta NA         12        6          \n",
       "treatmentb 13          5       15          "
      ]
     },
     "metadata": {},
     "output_type": "display_data"
    }
   ],
   "source": [
    "library(reshape2)\n",
    "set.seed(1014)\n",
    "\n",
    "preg <- matrix(c(NA, sample(20, 5)), ncol = 2, byrow = T)\n",
    "colnames(preg) <- paste0(\"treatment\", c(\"a\", \"b\"))\n",
    "rownames(preg) <- c(\"John Smith\", \"Jane Doe\", \"Mary Johnson\")\n",
    "\n",
    "preg\n",
    "t(preg)\n"
   ]
  },
  {
   "cell_type": "code",
   "execution_count": 2,
   "id": "8c807448",
   "metadata": {},
   "outputs": [
    {
     "data": {
      "text/html": [
       "<table>\n",
       "<thead><tr><th scope=col>name</th><th scope=col>trt</th><th scope=col>result</th></tr></thead>\n",
       "<tbody>\n",
       "\t<tr><td>John Smith  </td><td>a           </td><td>NA          </td></tr>\n",
       "\t<tr><td>Jane Doe    </td><td>a           </td><td>12          </td></tr>\n",
       "\t<tr><td>Mary Johnson</td><td>a           </td><td> 6          </td></tr>\n",
       "\t<tr><td>John Smith  </td><td>b           </td><td>13          </td></tr>\n",
       "\t<tr><td>Jane Doe    </td><td>b           </td><td> 5          </td></tr>\n",
       "\t<tr><td>Mary Johnson</td><td>b           </td><td>15          </td></tr>\n",
       "</tbody>\n",
       "</table>\n"
      ],
      "text/latex": [
       "\\begin{tabular}{r|lll}\n",
       " name & trt & result\\\\\n",
       "\\hline\n",
       "\t John Smith   & a            & NA          \\\\\n",
       "\t Jane Doe     & a            & 12          \\\\\n",
       "\t Mary Johnson & a            &  6          \\\\\n",
       "\t John Smith   & b            & 13          \\\\\n",
       "\t Jane Doe     & b            &  5          \\\\\n",
       "\t Mary Johnson & b            & 15          \\\\\n",
       "\\end{tabular}\n"
      ],
      "text/markdown": [
       "\n",
       "| name | trt | result |\n",
       "|---|---|---|\n",
       "| John Smith   | a            | NA           |\n",
       "| Jane Doe     | a            | 12           |\n",
       "| Mary Johnson | a            |  6           |\n",
       "| John Smith   | b            | 13           |\n",
       "| Jane Doe     | b            |  5           |\n",
       "| Mary Johnson | b            | 15           |\n",
       "\n"
      ],
      "text/plain": [
       "  name         trt result\n",
       "1 John Smith   a   NA    \n",
       "2 Jane Doe     a   12    \n",
       "3 Mary Johnson a    6    \n",
       "4 John Smith   b   13    \n",
       "5 Jane Doe     b    5    \n",
       "6 Mary Johnson b   15    "
      ]
     },
     "metadata": {},
     "output_type": "display_data"
    }
   ],
   "source": [
    "# Make tidy version\n",
    "\n",
    "pregm <- melt(preg, id = \"name\")\n",
    "names(pregm) <- c(\"name\", \"trt\", \"result\")\n",
    "pregm$trt <- gsub(\"treatment\", \"\", pregm$trt)\n",
    "\n",
    "pregm"
   ]
  }
 ],
 "metadata": {
  "kernelspec": {
   "display_name": "R",
   "language": "R",
   "name": "ir"
  },
  "language_info": {
   "codemirror_mode": "r",
   "file_extension": ".r",
   "mimetype": "text/x-r-source",
   "name": "R",
   "pygments_lexer": "r",
   "version": "3.6.1"
  }
 },
 "nbformat": 4,
 "nbformat_minor": 5
}
