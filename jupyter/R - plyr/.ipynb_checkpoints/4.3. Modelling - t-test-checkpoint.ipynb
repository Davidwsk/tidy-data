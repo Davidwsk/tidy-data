{
 "cells": [
  {
   "cell_type": "markdown",
   "id": "d8524bad",
   "metadata": {},
   "source": [
    "# 4.3. Modelling - t-test"
   ]
  },
  {
   "cell_type": "code",
   "execution_count": 1,
   "id": "eb985a50",
   "metadata": {},
   "outputs": [
    {
     "name": "stderr",
     "output_type": "stream",
     "text": [
      "Loading required package: Matrix\n"
     ]
    },
    {
     "data": {
      "text/html": [
       "<table>\n",
       "<thead><tr><th scope=col>id</th><th scope=col>x</th><th scope=col>y</th></tr></thead>\n",
       "<tbody>\n",
       "\t<tr><td>1       </td><td>22.18865</td><td>24.04509</td></tr>\n",
       "\t<tr><td>2       </td><td>19.82245</td><td>22.91395</td></tr>\n",
       "\t<tr><td>3       </td><td>19.81472</td><td>21.19178</td></tr>\n",
       "\t<tr><td>4       </td><td>17.49346</td><td>18.58600</td></tr>\n",
       "\t<tr><td>5       </td><td>19.44269</td><td>19.84898</td></tr>\n",
       "</tbody>\n",
       "</table>\n"
      ],
      "text/latex": [
       "\\begin{tabular}{r|lll}\n",
       " id & x & y\\\\\n",
       "\\hline\n",
       "\t 1        & 22.18865 & 24.04509\\\\\n",
       "\t 2        & 19.82245 & 22.91395\\\\\n",
       "\t 3        & 19.81472 & 21.19178\\\\\n",
       "\t 4        & 17.49346 & 18.58600\\\\\n",
       "\t 5        & 19.44269 & 19.84898\\\\\n",
       "\\end{tabular}\n"
      ],
      "text/markdown": [
       "\n",
       "| id | x | y |\n",
       "|---|---|---|\n",
       "| 1        | 22.18865 | 24.04509 |\n",
       "| 2        | 19.82245 | 22.91395 |\n",
       "| 3        | 19.81472 | 21.19178 |\n",
       "| 4        | 17.49346 | 18.58600 |\n",
       "| 5        | 19.44269 | 19.84898 |\n",
       "\n"
      ],
      "text/plain": [
       "  id x        y       \n",
       "1 1  22.18865 24.04509\n",
       "2 2  19.82245 22.91395\n",
       "3 3  19.81472 21.19178\n",
       "4 4  17.49346 18.58600\n",
       "5 5  19.44269 19.84898"
      ]
     },
     "metadata": {},
     "output_type": "display_data"
    },
    {
     "data": {
      "text/html": [
       "<table>\n",
       "<thead><tr><th scope=col>id</th><th scope=col>variable</th><th scope=col>value</th></tr></thead>\n",
       "<tbody>\n",
       "\t<tr><td>1       </td><td>x       </td><td>22.18865</td></tr>\n",
       "\t<tr><td>2       </td><td>x       </td><td>19.82245</td></tr>\n",
       "\t<tr><td>3       </td><td>x       </td><td>19.81472</td></tr>\n",
       "\t<tr><td>4       </td><td>x       </td><td>17.49346</td></tr>\n",
       "\t<tr><td>5       </td><td>x       </td><td>19.44269</td></tr>\n",
       "\t<tr><td>1       </td><td>y       </td><td>24.04509</td></tr>\n",
       "\t<tr><td>2       </td><td>y       </td><td>22.91395</td></tr>\n",
       "\t<tr><td>3       </td><td>y       </td><td>21.19178</td></tr>\n",
       "\t<tr><td>4       </td><td>y       </td><td>18.58600</td></tr>\n",
       "\t<tr><td>5       </td><td>y       </td><td>19.84898</td></tr>\n",
       "</tbody>\n",
       "</table>\n"
      ],
      "text/latex": [
       "\\begin{tabular}{r|lll}\n",
       " id & variable & value\\\\\n",
       "\\hline\n",
       "\t 1        & x        & 22.18865\\\\\n",
       "\t 2        & x        & 19.82245\\\\\n",
       "\t 3        & x        & 19.81472\\\\\n",
       "\t 4        & x        & 17.49346\\\\\n",
       "\t 5        & x        & 19.44269\\\\\n",
       "\t 1        & y        & 24.04509\\\\\n",
       "\t 2        & y        & 22.91395\\\\\n",
       "\t 3        & y        & 21.19178\\\\\n",
       "\t 4        & y        & 18.58600\\\\\n",
       "\t 5        & y        & 19.84898\\\\\n",
       "\\end{tabular}\n"
      ],
      "text/markdown": [
       "\n",
       "| id | variable | value |\n",
       "|---|---|---|\n",
       "| 1        | x        | 22.18865 |\n",
       "| 2        | x        | 19.82245 |\n",
       "| 3        | x        | 19.81472 |\n",
       "| 4        | x        | 17.49346 |\n",
       "| 5        | x        | 19.44269 |\n",
       "| 1        | y        | 24.04509 |\n",
       "| 2        | y        | 22.91395 |\n",
       "| 3        | y        | 21.19178 |\n",
       "| 4        | y        | 18.58600 |\n",
       "| 5        | y        | 19.84898 |\n",
       "\n"
      ],
      "text/plain": [
       "   id variable value   \n",
       "1  1  x        22.18865\n",
       "2  2  x        19.82245\n",
       "3  3  x        19.81472\n",
       "4  4  x        17.49346\n",
       "5  5  x        19.44269\n",
       "6  1  y        24.04509\n",
       "7  2  y        22.91395\n",
       "8  3  y        21.19178\n",
       "9  4  y        18.58600\n",
       "10 5  y        19.84898"
      ]
     },
     "metadata": {},
     "output_type": "display_data"
    },
    {
     "data": {
      "text/html": [
       "<ol class=list-inline>\n",
       "\t<li>'names for target but not for current'</li>\n",
       "\t<li>'Mean relative difference: 2.486978e-05'</li>\n",
       "</ol>\n"
      ],
      "text/latex": [
       "\\begin{enumerate*}\n",
       "\\item 'names for target but not for current'\n",
       "\\item 'Mean relative difference: 2.486978e-05'\n",
       "\\end{enumerate*}\n"
      ],
      "text/markdown": [
       "1. 'names for target but not for current'\n",
       "2. 'Mean relative difference: 2.486978e-05'\n",
       "\n",
       "\n"
      ],
      "text/plain": [
       "[1] \"names for target but not for current\"  \n",
       "[2] \"Mean relative difference: 2.486978e-05\""
      ]
     },
     "metadata": {},
     "output_type": "display_data"
    }
   ],
   "source": [
    "# From Ben Bolker\n",
    "library(reshape2)\n",
    "library(lme4)\n",
    "set.seed(1001)\n",
    "\n",
    "x <- rnorm(5, 20, 1)\n",
    "y <- x + rnorm(5, 2, 1)\n",
    "df1 <- data.frame(id = seq_along(y), x = x, y = y)\n",
    "df2 <- melt(df1, id = \"id\")\n",
    "\n",
    "df1\n",
    "df2\n",
    "\n",
    "t1 <- t.test(df1$x, df1$y, paired = TRUE)\n",
    "m1 <- lmer(value ~ variable + (1 | id) , data = df2, REML = TRUE)\n",
    "\n",
    "all.equal(abs(t1$statistic), coef(summary(m1))[\"variabley\",\"t value\"])\n",
    "\n",
    "# The t statistic is (almost) the same. (all.equal() reports a relative\n",
    "# difference of 4.618215e-07). REML=TRUE isn't necessary (it's the\n",
    "# default) but it emphasizes the fact that the paired t test is exactly\n",
    "# equivalent to REML."
   ]
  }
 ],
 "metadata": {
  "kernelspec": {
   "display_name": "R",
   "language": "R",
   "name": "ir"
  },
  "language_info": {
   "codemirror_mode": "r",
   "file_extension": ".r",
   "mimetype": "text/x-r-source",
   "name": "R",
   "pygments_lexer": "r",
   "version": "3.6.1"
  }
 },
 "nbformat": 4,
 "nbformat_minor": 5
}
