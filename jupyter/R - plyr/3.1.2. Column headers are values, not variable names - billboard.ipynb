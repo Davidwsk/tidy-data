{
 "cells": [
  {
   "cell_type": "markdown",
   "id": "0374f174",
   "metadata": {},
   "source": [
    "# 3.1.2. Column headers are values, not variable names - billboard"
   ]
  },
  {
   "cell_type": "markdown",
   "id": "90dc4bd2",
   "metadata": {},
   "source": [
    "## 3.1.2. Column headers are values, not variable names - billboard"
   ]
  },
  {
   "cell_type": "code",
   "execution_count": 1,
   "id": "1d3c0260",
   "metadata": {},
   "outputs": [
    {
     "name": "stderr",
     "output_type": "stream",
     "text": [
      "\n",
      "Attaching package: 'lubridate'\n",
      "\n",
      "The following object is masked from 'package:base':\n",
      "\n",
      "    date\n",
      "\n",
      "\n",
      "Attaching package: 'plyr'\n",
      "\n",
      "The following object is masked from 'package:lubridate':\n",
      "\n",
      "    here\n",
      "\n"
     ]
    }
   ],
   "source": [
    "options(stringsAsFactors = FALSE)\n",
    "library(lubridate)\n",
    "library(reshape2)\n",
    "library(stringr)\n",
    "library(plyr)\n",
    "\n",
    "raw <- read.csv(\"../../data/billboard.csv\")\n",
    "raw <- raw[, c(\"year\", \"artist.inverted\", \"track\", \"time\", \"date.entered\",\n",
    "               \"x1st.week\", \"x2nd.week\", \"x3rd.week\", \"x4th.week\", \"x5th.week\", \"x6th.week\", \"x7th.week\", \"x8th.week\",\n",
    "               \"x9th.week\", \"x10th.week\", \"x11th.week\", \"x12th.week\", \"x13th.week\", \"x14th.week\", \"x15th.week\", \"x16th.week\",\n",
    "               \"x17th.week\", \"x18th.week\", \"x19th.week\", \"x20th.week\", \"x21st.week\", \"x22nd.week\", \"x23rd.week\", \"x24th.week\",\n",
    "               \"x25th.week\", \"x26th.week\", \"x27th.week\", \"x28th.week\", \"x29th.week\", \"x30th.week\", \"x31st.week\", \"x32nd.week\",\n",
    "               \"x33rd.week\", \"x34th.week\", \"x35th.week\", \"x36th.week\", \"x37th.week\", \"x38th.week\", \"x39th.week\", \"x40th.week\",\n",
    "               \"x41st.week\", \"x42nd.week\", \"x43rd.week\", \"x44th.week\", \"x45th.week\", \"x46th.week\", \"x47th.week\", \"x48th.week\",\n",
    "               \"x49th.week\", \"x50th.week\", \"x51st.week\", \"x52nd.week\", \"x53rd.week\", \"x54th.week\", \"x55th.week\", \"x56th.week\",\n",
    "               \"x57th.week\", \"x58th.week\", \"x59th.week\", \"x60th.week\", \"x61st.week\", \"x62nd.week\", \"x63rd.week\", \"x64th.week\",\n",
    "               \"x65th.week\", \"x66th.week\", \"x67th.week\", \"x68th.week\", \"x69th.week\", \"x70th.week\", \"x71st.week\", \"x72nd.week\",\n",
    "               \"x73rd.week\", \"x74th.week\", \"x75th.week\", \"x76th.week\")]\n",
    "names(raw)[2] <- \"artist\"\n"
   ]
  },
  {
   "cell_type": "code",
   "execution_count": 2,
   "id": "d914aea8",
   "metadata": {},
   "outputs": [
    {
     "data": {
      "text/html": [
       "<ol class=list-inline>\n",
       "\t<li>317</li>\n",
       "\t<li>81</li>\n",
       "</ol>\n"
      ],
      "text/latex": [
       "\\begin{enumerate*}\n",
       "\\item 317\n",
       "\\item 81\n",
       "\\end{enumerate*}\n"
      ],
      "text/markdown": [
       "1. 317\n",
       "2. 81\n",
       "\n",
       "\n"
      ],
      "text/plain": [
       "[1] 317  81"
      ]
     },
     "metadata": {},
     "output_type": "display_data"
    },
    {
     "data": {
      "text/html": [
       "<table>\n",
       "<thead><tr><th scope=col>year</th><th scope=col>artist</th><th scope=col>track</th><th scope=col>time</th><th scope=col>date.entered</th><th scope=col>x1st.week</th><th scope=col>x2nd.week</th><th scope=col>x3rd.week</th><th scope=col>x4th.week</th><th scope=col>x5th.week</th><th scope=col>...</th><th scope=col>x67th.week</th><th scope=col>x68th.week</th><th scope=col>x69th.week</th><th scope=col>x70th.week</th><th scope=col>x71st.week</th><th scope=col>x72nd.week</th><th scope=col>x73rd.week</th><th scope=col>x74th.week</th><th scope=col>x75th.week</th><th scope=col>x76th.week</th></tr></thead>\n",
       "<tbody>\n",
       "\t<tr><td>2000                                 </td><td>Destiny's Child                      </td><td>Independent Women Part I             </td><td>3:38                                 </td><td>2000-09-23                           </td><td>78                                   </td><td>63                                   </td><td>49                                   </td><td>33                                   </td><td>23                                   </td><td>...                                  </td><td>NA                                   </td><td>NA                                   </td><td>NA                                   </td><td>NA                                   </td><td>NA                                   </td><td>NA                                   </td><td>NA                                   </td><td>NA                                   </td><td>NA                                   </td><td>NA                                   </td></tr>\n",
       "\t<tr><td>2000                                 </td><td>Santana                              </td><td>Maria, Maria                         </td><td>4:18                                 </td><td>2000-02-12                           </td><td>15                                   </td><td> 8                                   </td><td> 6                                   </td><td> 5                                   </td><td> 2                                   </td><td>...                                  </td><td>NA                                   </td><td>NA                                   </td><td>NA                                   </td><td>NA                                   </td><td>NA                                   </td><td>NA                                   </td><td>NA                                   </td><td>NA                                   </td><td>NA                                   </td><td>NA                                   </td></tr>\n",
       "\t<tr><td>2000                                 </td><td>Savage Garden                        </td><td>I Knew I Loved You                   </td><td>4:07                                 </td><td>1999-10-23                           </td><td>71                                   </td><td>48                                   </td><td>43                                   </td><td>31                                   </td><td>20                                   </td><td>...                                  </td><td>NA                                   </td><td>NA                                   </td><td>NA                                   </td><td>NA                                   </td><td>NA                                   </td><td>NA                                   </td><td>NA                                   </td><td>NA                                   </td><td>NA                                   </td><td>NA                                   </td></tr>\n",
       "\t<tr><td>2000                                 </td><td>Madonna                              </td><td>Music                                </td><td>3:45                                 </td><td>2000-08-12                           </td><td>41                                   </td><td>23                                   </td><td>18                                   </td><td>14                                   </td><td> 2                                   </td><td>...                                  </td><td>NA                                   </td><td>NA                                   </td><td>NA                                   </td><td>NA                                   </td><td>NA                                   </td><td>NA                                   </td><td>NA                                   </td><td>NA                                   </td><td>NA                                   </td><td>NA                                   </td></tr>\n",
       "\t<tr><td>2000                                 </td><td>Aguilera, Christina                  </td><td>Come On Over Baby (All I Want Is You)</td><td>3:38                                 </td><td>2000-08-05                           </td><td>57                                   </td><td>47                                   </td><td>45                                   </td><td>29                                   </td><td>23                                   </td><td>...                                  </td><td>NA                                   </td><td>NA                                   </td><td>NA                                   </td><td>NA                                   </td><td>NA                                   </td><td>NA                                   </td><td>NA                                   </td><td>NA                                   </td><td>NA                                   </td><td>NA                                   </td></tr>\n",
       "\t<tr><td>2000                                 </td><td>Janet                                </td><td>Doesn't Really Matter                </td><td>4:17                                 </td><td>2000-06-17                           </td><td>59                                   </td><td>52                                   </td><td>43                                   </td><td>30                                   </td><td>29                                   </td><td>...                                  </td><td>NA                                   </td><td>NA                                   </td><td>NA                                   </td><td>NA                                   </td><td>NA                                   </td><td>NA                                   </td><td>NA                                   </td><td>NA                                   </td><td>NA                                   </td><td>NA                                   </td></tr>\n",
       "</tbody>\n",
       "</table>\n"
      ],
      "text/latex": [
       "\\begin{tabular}{r|lllllllllllllllllllllllllllllllllllllllllllllllllllllllllllllllllllllllllllllllll}\n",
       " year & artist & track & time & date.entered & x1st.week & x2nd.week & x3rd.week & x4th.week & x5th.week & ... & x67th.week & x68th.week & x69th.week & x70th.week & x71st.week & x72nd.week & x73rd.week & x74th.week & x75th.week & x76th.week\\\\\n",
       "\\hline\n",
       "\t 2000                                  & Destiny's Child                       & Independent Women Part I              & 3:38                                  & 2000-09-23                            & 78                                    & 63                                    & 49                                    & 33                                    & 23                                    & ...                                   & NA                                    & NA                                    & NA                                    & NA                                    & NA                                    & NA                                    & NA                                    & NA                                    & NA                                    & NA                                   \\\\\n",
       "\t 2000                                  & Santana                               & Maria, Maria                          & 4:18                                  & 2000-02-12                            & 15                                    &  8                                    &  6                                    &  5                                    &  2                                    & ...                                   & NA                                    & NA                                    & NA                                    & NA                                    & NA                                    & NA                                    & NA                                    & NA                                    & NA                                    & NA                                   \\\\\n",
       "\t 2000                                  & Savage Garden                         & I Knew I Loved You                    & 4:07                                  & 1999-10-23                            & 71                                    & 48                                    & 43                                    & 31                                    & 20                                    & ...                                   & NA                                    & NA                                    & NA                                    & NA                                    & NA                                    & NA                                    & NA                                    & NA                                    & NA                                    & NA                                   \\\\\n",
       "\t 2000                                  & Madonna                               & Music                                 & 3:45                                  & 2000-08-12                            & 41                                    & 23                                    & 18                                    & 14                                    &  2                                    & ...                                   & NA                                    & NA                                    & NA                                    & NA                                    & NA                                    & NA                                    & NA                                    & NA                                    & NA                                    & NA                                   \\\\\n",
       "\t 2000                                  & Aguilera, Christina                   & Come On Over Baby (All I Want Is You) & 3:38                                  & 2000-08-05                            & 57                                    & 47                                    & 45                                    & 29                                    & 23                                    & ...                                   & NA                                    & NA                                    & NA                                    & NA                                    & NA                                    & NA                                    & NA                                    & NA                                    & NA                                    & NA                                   \\\\\n",
       "\t 2000                                  & Janet                                 & Doesn't Really Matter                 & 4:17                                  & 2000-06-17                            & 59                                    & 52                                    & 43                                    & 30                                    & 29                                    & ...                                   & NA                                    & NA                                    & NA                                    & NA                                    & NA                                    & NA                                    & NA                                    & NA                                    & NA                                    & NA                                   \\\\\n",
       "\\end{tabular}\n"
      ],
      "text/markdown": [
       "\n",
       "| year | artist | track | time | date.entered | x1st.week | x2nd.week | x3rd.week | x4th.week | x5th.week | ... | x67th.week | x68th.week | x69th.week | x70th.week | x71st.week | x72nd.week | x73rd.week | x74th.week | x75th.week | x76th.week |\n",
       "|---|---|---|---|---|---|---|---|---|---|---|---|---|---|---|---|---|---|---|---|---|\n",
       "| 2000                                  | Destiny's Child                       | Independent Women Part I              | 3:38                                  | 2000-09-23                            | 78                                    | 63                                    | 49                                    | 33                                    | 23                                    | ...                                   | NA                                    | NA                                    | NA                                    | NA                                    | NA                                    | NA                                    | NA                                    | NA                                    | NA                                    | NA                                    |\n",
       "| 2000                                  | Santana                               | Maria, Maria                          | 4:18                                  | 2000-02-12                            | 15                                    |  8                                    |  6                                    |  5                                    |  2                                    | ...                                   | NA                                    | NA                                    | NA                                    | NA                                    | NA                                    | NA                                    | NA                                    | NA                                    | NA                                    | NA                                    |\n",
       "| 2000                                  | Savage Garden                         | I Knew I Loved You                    | 4:07                                  | 1999-10-23                            | 71                                    | 48                                    | 43                                    | 31                                    | 20                                    | ...                                   | NA                                    | NA                                    | NA                                    | NA                                    | NA                                    | NA                                    | NA                                    | NA                                    | NA                                    | NA                                    |\n",
       "| 2000                                  | Madonna                               | Music                                 | 3:45                                  | 2000-08-12                            | 41                                    | 23                                    | 18                                    | 14                                    |  2                                    | ...                                   | NA                                    | NA                                    | NA                                    | NA                                    | NA                                    | NA                                    | NA                                    | NA                                    | NA                                    | NA                                    |\n",
       "| 2000                                  | Aguilera, Christina                   | Come On Over Baby (All I Want Is You) | 3:38                                  | 2000-08-05                            | 57                                    | 47                                    | 45                                    | 29                                    | 23                                    | ...                                   | NA                                    | NA                                    | NA                                    | NA                                    | NA                                    | NA                                    | NA                                    | NA                                    | NA                                    | NA                                    |\n",
       "| 2000                                  | Janet                                 | Doesn't Really Matter                 | 4:17                                  | 2000-06-17                            | 59                                    | 52                                    | 43                                    | 30                                    | 29                                    | ...                                   | NA                                    | NA                                    | NA                                    | NA                                    | NA                                    | NA                                    | NA                                    | NA                                    | NA                                    | NA                                    |\n",
       "\n"
      ],
      "text/plain": [
       "  year artist              track                                 time\n",
       "1 2000 Destiny's Child     Independent Women Part I              3:38\n",
       "2 2000 Santana             Maria, Maria                          4:18\n",
       "3 2000 Savage Garden       I Knew I Loved You                    4:07\n",
       "4 2000 Madonna             Music                                 3:45\n",
       "5 2000 Aguilera, Christina Come On Over Baby (All I Want Is You) 3:38\n",
       "6 2000 Janet               Doesn't Really Matter                 4:17\n",
       "  date.entered x1st.week x2nd.week x3rd.week x4th.week x5th.week ... x67th.week\n",
       "1 2000-09-23   78        63        49        33        23        ... NA        \n",
       "2 2000-02-12   15         8         6         5         2        ... NA        \n",
       "3 1999-10-23   71        48        43        31        20        ... NA        \n",
       "4 2000-08-12   41        23        18        14         2        ... NA        \n",
       "5 2000-08-05   57        47        45        29        23        ... NA        \n",
       "6 2000-06-17   59        52        43        30        29        ... NA        \n",
       "  x68th.week x69th.week x70th.week x71st.week x72nd.week x73rd.week x74th.week\n",
       "1 NA         NA         NA         NA         NA         NA         NA        \n",
       "2 NA         NA         NA         NA         NA         NA         NA        \n",
       "3 NA         NA         NA         NA         NA         NA         NA        \n",
       "4 NA         NA         NA         NA         NA         NA         NA        \n",
       "5 NA         NA         NA         NA         NA         NA         NA        \n",
       "6 NA         NA         NA         NA         NA         NA         NA        \n",
       "  x75th.week x76th.week\n",
       "1 NA         NA        \n",
       "2 NA         NA        \n",
       "3 NA         NA        \n",
       "4 NA         NA        \n",
       "5 NA         NA        \n",
       "6 NA         NA        "
      ]
     },
     "metadata": {},
     "output_type": "display_data"
    }
   ],
   "source": [
    "dim(raw)\n",
    "head(raw)"
   ]
  },
  {
   "cell_type": "code",
   "execution_count": 3,
   "id": "0703c5cc",
   "metadata": {},
   "outputs": [
    {
     "data": {
      "text/html": [
       "'98¡'"
      ],
      "text/latex": [
       "'98¡'"
      ],
      "text/markdown": [
       "'98¡'"
      ],
      "text/plain": [
       "[1] \"98¡\""
      ]
     },
     "metadata": {},
     "output_type": "display_data"
    },
    {
     "data": {
      "text/html": [
       "'98?'"
      ],
      "text/latex": [
       "'98?'"
      ],
      "text/markdown": [
       "'98?'"
      ],
      "text/plain": [
       "[1] \"98?\""
      ]
     },
     "metadata": {},
     "output_type": "display_data"
    }
   ],
   "source": [
    "artist1 <- iconv(raw$artist, \"MAC\", \"ASCII//translit\")\n",
    "diff <- raw$artist != artist1\n",
    "raw$artist[diff]\n",
    "artist1[diff]"
   ]
  },
  {
   "cell_type": "code",
   "execution_count": 4,
   "id": "d255f535",
   "metadata": {},
   "outputs": [
    {
     "data": {
      "text/html": [
       "<ol class=list-inline>\n",
       "\t<li>'Come On Over Baby (All I Want Is You)'</li>\n",
       "\t<li>'Case Of The Ex (Whatcha Gonna Do)'</li>\n",
       "\t<li>'Give Me Just One Night (Una Noche)'</li>\n",
       "\t<li>'Absolutely (Story Of A Girl)'</li>\n",
       "\t<li>'Blue (Da Ba Dee)'</li>\n",
       "\t<li>'Auld Lang Syne (The Millenium Mix)'</li>\n",
       "\t<li>'I Just Wanna Love U (Give It 2 Me)'</li>\n",
       "\t<li>'Untitled (How Does It Feel)'</li>\n",
       "\t<li>'A Puro Dolor (Purest Of Pain)'</li>\n",
       "\t<li>'Party Up (Up In Here)'</li>\n",
       "\t<li>'Shackles (Praise You)'</li>\n",
       "\t<li>'Just Friends (Sunny)'</li>\n",
       "\t<li>'Aaron\\'s Party (Come Get It)'</li>\n",
       "\t<li>'Graduation (Friends Forever)'</li>\n",
       "\t<li>'Sexual (Li Da Di)'</li>\n",
       "\t<li>'No More Rain (In This Cloud)'</li>\n",
       "\t<li>'Do It Again (Put Ya Hands Up)'</li>\n",
       "\t<li>'Baby Don\\'t Cry (Keep Ya Head Up II)'</li>\n",
       "\t<li>'No Leaf Clover (Live)'</li>\n",
       "\t<li>'The Hardest Part Of Breaking Up (Is Getting Back Your Stuff)'</li>\n",
       "</ol>\n"
      ],
      "text/latex": [
       "\\begin{enumerate*}\n",
       "\\item 'Come On Over Baby (All I Want Is You)'\n",
       "\\item 'Case Of The Ex (Whatcha Gonna Do)'\n",
       "\\item 'Give Me Just One Night (Una Noche)'\n",
       "\\item 'Absolutely (Story Of A Girl)'\n",
       "\\item 'Blue (Da Ba Dee)'\n",
       "\\item 'Auld Lang Syne (The Millenium Mix)'\n",
       "\\item 'I Just Wanna Love U (Give It 2 Me)'\n",
       "\\item 'Untitled (How Does It Feel)'\n",
       "\\item 'A Puro Dolor (Purest Of Pain)'\n",
       "\\item 'Party Up (Up In Here)'\n",
       "\\item 'Shackles (Praise You)'\n",
       "\\item 'Just Friends (Sunny)'\n",
       "\\item 'Aaron\\textbackslash{}'s Party (Come Get It)'\n",
       "\\item 'Graduation (Friends Forever)'\n",
       "\\item 'Sexual (Li Da Di)'\n",
       "\\item 'No More Rain (In This Cloud)'\n",
       "\\item 'Do It Again (Put Ya Hands Up)'\n",
       "\\item 'Baby Don\\textbackslash{}'t Cry (Keep Ya Head Up II)'\n",
       "\\item 'No Leaf Clover (Live)'\n",
       "\\item 'The Hardest Part Of Breaking Up (Is Getting Back Your Stuff)'\n",
       "\\end{enumerate*}\n"
      ],
      "text/markdown": [
       "1. 'Come On Over Baby (All I Want Is You)'\n",
       "2. 'Case Of The Ex (Whatcha Gonna Do)'\n",
       "3. 'Give Me Just One Night (Una Noche)'\n",
       "4. 'Absolutely (Story Of A Girl)'\n",
       "5. 'Blue (Da Ba Dee)'\n",
       "6. 'Auld Lang Syne (The Millenium Mix)'\n",
       "7. 'I Just Wanna Love U (Give It 2 Me)'\n",
       "8. 'Untitled (How Does It Feel)'\n",
       "9. 'A Puro Dolor (Purest Of Pain)'\n",
       "10. 'Party Up (Up In Here)'\n",
       "11. 'Shackles (Praise You)'\n",
       "12. 'Just Friends (Sunny)'\n",
       "13. 'Aaron\\'s Party (Come Get It)'\n",
       "14. 'Graduation (Friends Forever)'\n",
       "15. 'Sexual (Li Da Di)'\n",
       "16. 'No More Rain (In This Cloud)'\n",
       "17. 'Do It Again (Put Ya Hands Up)'\n",
       "18. 'Baby Don\\'t Cry (Keep Ya Head Up II)'\n",
       "19. 'No Leaf Clover (Live)'\n",
       "20. 'The Hardest Part Of Breaking Up (Is Getting Back Your Stuff)'\n",
       "\n",
       "\n"
      ],
      "text/plain": [
       " [1] \"Come On Over Baby (All I Want Is You)\"                       \n",
       " [2] \"Case Of The Ex (Whatcha Gonna Do)\"                           \n",
       " [3] \"Give Me Just One Night (Una Noche)\"                          \n",
       " [4] \"Absolutely (Story Of A Girl)\"                                \n",
       " [5] \"Blue (Da Ba Dee)\"                                            \n",
       " [6] \"Auld Lang Syne (The Millenium Mix)\"                          \n",
       " [7] \"I Just Wanna Love U (Give It 2 Me)\"                          \n",
       " [8] \"Untitled (How Does It Feel)\"                                 \n",
       " [9] \"A Puro Dolor (Purest Of Pain)\"                               \n",
       "[10] \"Party Up (Up In Here)\"                                       \n",
       "[11] \"Shackles (Praise You)\"                                       \n",
       "[12] \"Just Friends (Sunny)\"                                        \n",
       "[13] \"Aaron's Party (Come Get It)\"                                 \n",
       "[14] \"Graduation (Friends Forever)\"                                \n",
       "[15] \"Sexual (Li Da Di)\"                                           \n",
       "[16] \"No More Rain (In This Cloud)\"                                \n",
       "[17] \"Do It Again (Put Ya Hands Up)\"                               \n",
       "[18] \"Baby Don't Cry (Keep Ya Head Up II)\"                         \n",
       "[19] \"No Leaf Clover (Live)\"                                       \n",
       "[20] \"The Hardest Part Of Breaking Up (Is Getting Back Your Stuff)\""
      ]
     },
     "metadata": {},
     "output_type": "display_data"
    },
    {
     "data": {
      "text/html": [
       "<ol class=list-inline>\n",
       "\t<li>'Come On Over Baby'</li>\n",
       "\t<li>'Case Of The Ex'</li>\n",
       "\t<li>'Give Me Just One Night'</li>\n",
       "\t<li>'Absolutely'</li>\n",
       "\t<li>'Blue'</li>\n",
       "\t<li>'Auld Lang Syne'</li>\n",
       "\t<li>'I Just Wanna Love U'</li>\n",
       "\t<li>'Untitled'</li>\n",
       "\t<li>'A Puro Dolor'</li>\n",
       "\t<li>'Party Up'</li>\n",
       "\t<li>'Shackles'</li>\n",
       "\t<li>'Just Friends'</li>\n",
       "\t<li>'Aaron\\'s Party'</li>\n",
       "\t<li>'Graduation'</li>\n",
       "\t<li>'Sexual'</li>\n",
       "\t<li>'No More Rain'</li>\n",
       "\t<li>'Do It Again'</li>\n",
       "\t<li>'Baby Don\\'t Cry'</li>\n",
       "\t<li>'No Leaf Clover'</li>\n",
       "\t<li>'The Hardest Part Of Breaking Up'</li>\n",
       "</ol>\n"
      ],
      "text/latex": [
       "\\begin{enumerate*}\n",
       "\\item 'Come On Over Baby'\n",
       "\\item 'Case Of The Ex'\n",
       "\\item 'Give Me Just One Night'\n",
       "\\item 'Absolutely'\n",
       "\\item 'Blue'\n",
       "\\item 'Auld Lang Syne'\n",
       "\\item 'I Just Wanna Love U'\n",
       "\\item 'Untitled'\n",
       "\\item 'A Puro Dolor'\n",
       "\\item 'Party Up'\n",
       "\\item 'Shackles'\n",
       "\\item 'Just Friends'\n",
       "\\item 'Aaron\\textbackslash{}'s Party'\n",
       "\\item 'Graduation'\n",
       "\\item 'Sexual'\n",
       "\\item 'No More Rain'\n",
       "\\item 'Do It Again'\n",
       "\\item 'Baby Don\\textbackslash{}'t Cry'\n",
       "\\item 'No Leaf Clover'\n",
       "\\item 'The Hardest Part Of Breaking Up'\n",
       "\\end{enumerate*}\n"
      ],
      "text/markdown": [
       "1. 'Come On Over Baby'\n",
       "2. 'Case Of The Ex'\n",
       "3. 'Give Me Just One Night'\n",
       "4. 'Absolutely'\n",
       "5. 'Blue'\n",
       "6. 'Auld Lang Syne'\n",
       "7. 'I Just Wanna Love U'\n",
       "8. 'Untitled'\n",
       "9. 'A Puro Dolor'\n",
       "10. 'Party Up'\n",
       "11. 'Shackles'\n",
       "12. 'Just Friends'\n",
       "13. 'Aaron\\'s Party'\n",
       "14. 'Graduation'\n",
       "15. 'Sexual'\n",
       "16. 'No More Rain'\n",
       "17. 'Do It Again'\n",
       "18. 'Baby Don\\'t Cry'\n",
       "19. 'No Leaf Clover'\n",
       "20. 'The Hardest Part Of Breaking Up'\n",
       "\n",
       "\n"
      ],
      "text/plain": [
       " [1] \"Come On Over Baby\"               \"Case Of The Ex\"                 \n",
       " [3] \"Give Me Just One Night\"          \"Absolutely\"                     \n",
       " [5] \"Blue\"                            \"Auld Lang Syne\"                 \n",
       " [7] \"I Just Wanna Love U\"             \"Untitled\"                       \n",
       " [9] \"A Puro Dolor\"                    \"Party Up\"                       \n",
       "[11] \"Shackles\"                        \"Just Friends\"                   \n",
       "[13] \"Aaron's Party\"                   \"Graduation\"                     \n",
       "[15] \"Sexual\"                          \"No More Rain\"                   \n",
       "[17] \"Do It Again\"                     \"Baby Don't Cry\"                 \n",
       "[19] \"No Leaf Clover\"                  \"The Hardest Part Of Breaking Up\""
      ]
     },
     "metadata": {},
     "output_type": "display_data"
    }
   ],
   "source": [
    "track1 <- str_replace(raw$track, \" \\\\(.*?\\\\)\", \"\")\n",
    "diff <- raw$track != track1\n",
    "raw$track[diff]\n",
    "track1[diff]"
   ]
  },
  {
   "cell_type": "code",
   "execution_count": 5,
   "id": "645278ee",
   "metadata": {},
   "outputs": [],
   "source": [
    "raw$artist <- iconv(raw$artist, \"MAC\", \"ASCII//translit\")\n",
    "\n",
    "raw$track <- str_replace(raw$track, \" \\\\(.*?\\\\)\", \"\")\n",
    "long_name <- nchar(raw$track) > 20\n",
    "raw$track[long_name] <- paste0(substr(raw$track[long_name], 0, 20), \"...\")\n",
    "\n",
    "names(raw)[-(1:5)] <- str_c(\"wk\", 1:76)\n",
    "\n",
    "raw <- arrange(raw, year, artist, track)\n"
   ]
  },
  {
   "cell_type": "code",
   "execution_count": 6,
   "id": "21403136",
   "metadata": {},
   "outputs": [
    {
     "data": {
      "text/html": [
       "<ol class=list-inline>\n",
       "\t<li>317</li>\n",
       "\t<li>81</li>\n",
       "</ol>\n"
      ],
      "text/latex": [
       "\\begin{enumerate*}\n",
       "\\item 317\n",
       "\\item 81\n",
       "\\end{enumerate*}\n"
      ],
      "text/markdown": [
       "1. 317\n",
       "2. 81\n",
       "\n",
       "\n"
      ],
      "text/plain": [
       "[1] 317  81"
      ]
     },
     "metadata": {},
     "output_type": "display_data"
    },
    {
     "data": {
      "text/html": [
       "<table>\n",
       "<thead><tr><th scope=col>year</th><th scope=col>artist</th><th scope=col>track</th><th scope=col>time</th><th scope=col>date.entered</th><th scope=col>wk1</th><th scope=col>wk2</th><th scope=col>wk3</th><th scope=col>wk4</th><th scope=col>wk5</th><th scope=col>...</th><th scope=col>wk67</th><th scope=col>wk68</th><th scope=col>wk69</th><th scope=col>wk70</th><th scope=col>wk71</th><th scope=col>wk72</th><th scope=col>wk73</th><th scope=col>wk74</th><th scope=col>wk75</th><th scope=col>wk76</th></tr></thead>\n",
       "<tbody>\n",
       "\t<tr><td>2000                   </td><td>2 Pac                  </td><td>Baby Don't Cry         </td><td>4:22                   </td><td>2000-02-26             </td><td>87                     </td><td>82                     </td><td>72                     </td><td>77                     </td><td>87                     </td><td>...                    </td><td>NA                     </td><td>NA                     </td><td>NA                     </td><td>NA                     </td><td>NA                     </td><td>NA                     </td><td>NA                     </td><td>NA                     </td><td>NA                     </td><td>NA                     </td></tr>\n",
       "\t<tr><td>2000                   </td><td>2Ge+her                </td><td>The Hardest Part Of ...</td><td>3:15                   </td><td>2000-09-02             </td><td>91                     </td><td>87                     </td><td>92                     </td><td>NA                     </td><td>NA                     </td><td>...                    </td><td>NA                     </td><td>NA                     </td><td>NA                     </td><td>NA                     </td><td>NA                     </td><td>NA                     </td><td>NA                     </td><td>NA                     </td><td>NA                     </td><td>NA                     </td></tr>\n",
       "\t<tr><td>2000                   </td><td>3 Doors Down           </td><td>Kryptonite             </td><td>3:53                   </td><td>2000-04-08             </td><td>81                     </td><td>70                     </td><td>68                     </td><td>67                     </td><td>66                     </td><td>...                    </td><td>NA                     </td><td>NA                     </td><td>NA                     </td><td>NA                     </td><td>NA                     </td><td>NA                     </td><td>NA                     </td><td>NA                     </td><td>NA                     </td><td>NA                     </td></tr>\n",
       "\t<tr><td>2000                   </td><td>3 Doors Down           </td><td>Loser                  </td><td>4:24                   </td><td>2000-10-21             </td><td>76                     </td><td>76                     </td><td>72                     </td><td>69                     </td><td>67                     </td><td>...                    </td><td>NA                     </td><td>NA                     </td><td>NA                     </td><td>NA                     </td><td>NA                     </td><td>NA                     </td><td>NA                     </td><td>NA                     </td><td>NA                     </td><td>NA                     </td></tr>\n",
       "\t<tr><td>2000                   </td><td>504 Boyz               </td><td>Wobble Wobble          </td><td>3:35                   </td><td>2000-04-15             </td><td>57                     </td><td>34                     </td><td>25                     </td><td>17                     </td><td>17                     </td><td>...                    </td><td>NA                     </td><td>NA                     </td><td>NA                     </td><td>NA                     </td><td>NA                     </td><td>NA                     </td><td>NA                     </td><td>NA                     </td><td>NA                     </td><td>NA                     </td></tr>\n",
       "\t<tr><td>2000                   </td><td>98?                    </td><td>Give Me Just One Nig...</td><td>3:24                   </td><td>2000-08-19             </td><td>51                     </td><td>39                     </td><td>34                     </td><td>26                     </td><td>26                     </td><td>...                    </td><td>NA                     </td><td>NA                     </td><td>NA                     </td><td>NA                     </td><td>NA                     </td><td>NA                     </td><td>NA                     </td><td>NA                     </td><td>NA                     </td><td>NA                     </td></tr>\n",
       "</tbody>\n",
       "</table>\n"
      ],
      "text/latex": [
       "\\begin{tabular}{r|lllllllllllllllllllllllllllllllllllllllllllllllllllllllllllllllllllllllllllllllll}\n",
       " year & artist & track & time & date.entered & wk1 & wk2 & wk3 & wk4 & wk5 & ... & wk67 & wk68 & wk69 & wk70 & wk71 & wk72 & wk73 & wk74 & wk75 & wk76\\\\\n",
       "\\hline\n",
       "\t 2000                    & 2 Pac                   & Baby Don't Cry          & 4:22                    & 2000-02-26              & 87                      & 82                      & 72                      & 77                      & 87                      & ...                     & NA                      & NA                      & NA                      & NA                      & NA                      & NA                      & NA                      & NA                      & NA                      & NA                     \\\\\n",
       "\t 2000                    & 2Ge+her                 & The Hardest Part Of ... & 3:15                    & 2000-09-02              & 91                      & 87                      & 92                      & NA                      & NA                      & ...                     & NA                      & NA                      & NA                      & NA                      & NA                      & NA                      & NA                      & NA                      & NA                      & NA                     \\\\\n",
       "\t 2000                    & 3 Doors Down            & Kryptonite              & 3:53                    & 2000-04-08              & 81                      & 70                      & 68                      & 67                      & 66                      & ...                     & NA                      & NA                      & NA                      & NA                      & NA                      & NA                      & NA                      & NA                      & NA                      & NA                     \\\\\n",
       "\t 2000                    & 3 Doors Down            & Loser                   & 4:24                    & 2000-10-21              & 76                      & 76                      & 72                      & 69                      & 67                      & ...                     & NA                      & NA                      & NA                      & NA                      & NA                      & NA                      & NA                      & NA                      & NA                      & NA                     \\\\\n",
       "\t 2000                    & 504 Boyz                & Wobble Wobble           & 3:35                    & 2000-04-15              & 57                      & 34                      & 25                      & 17                      & 17                      & ...                     & NA                      & NA                      & NA                      & NA                      & NA                      & NA                      & NA                      & NA                      & NA                      & NA                     \\\\\n",
       "\t 2000                    & 98?                     & Give Me Just One Nig... & 3:24                    & 2000-08-19              & 51                      & 39                      & 34                      & 26                      & 26                      & ...                     & NA                      & NA                      & NA                      & NA                      & NA                      & NA                      & NA                      & NA                      & NA                      & NA                     \\\\\n",
       "\\end{tabular}\n"
      ],
      "text/markdown": [
       "\n",
       "| year | artist | track | time | date.entered | wk1 | wk2 | wk3 | wk4 | wk5 | ... | wk67 | wk68 | wk69 | wk70 | wk71 | wk72 | wk73 | wk74 | wk75 | wk76 |\n",
       "|---|---|---|---|---|---|---|---|---|---|---|---|---|---|---|---|---|---|---|---|---|\n",
       "| 2000                    | 2 Pac                   | Baby Don't Cry          | 4:22                    | 2000-02-26              | 87                      | 82                      | 72                      | 77                      | 87                      | ...                     | NA                      | NA                      | NA                      | NA                      | NA                      | NA                      | NA                      | NA                      | NA                      | NA                      |\n",
       "| 2000                    | 2Ge+her                 | The Hardest Part Of ... | 3:15                    | 2000-09-02              | 91                      | 87                      | 92                      | NA                      | NA                      | ...                     | NA                      | NA                      | NA                      | NA                      | NA                      | NA                      | NA                      | NA                      | NA                      | NA                      |\n",
       "| 2000                    | 3 Doors Down            | Kryptonite              | 3:53                    | 2000-04-08              | 81                      | 70                      | 68                      | 67                      | 66                      | ...                     | NA                      | NA                      | NA                      | NA                      | NA                      | NA                      | NA                      | NA                      | NA                      | NA                      |\n",
       "| 2000                    | 3 Doors Down            | Loser                   | 4:24                    | 2000-10-21              | 76                      | 76                      | 72                      | 69                      | 67                      | ...                     | NA                      | NA                      | NA                      | NA                      | NA                      | NA                      | NA                      | NA                      | NA                      | NA                      |\n",
       "| 2000                    | 504 Boyz                | Wobble Wobble           | 3:35                    | 2000-04-15              | 57                      | 34                      | 25                      | 17                      | 17                      | ...                     | NA                      | NA                      | NA                      | NA                      | NA                      | NA                      | NA                      | NA                      | NA                      | NA                      |\n",
       "| 2000                    | 98?                     | Give Me Just One Nig... | 3:24                    | 2000-08-19              | 51                      | 39                      | 34                      | 26                      | 26                      | ...                     | NA                      | NA                      | NA                      | NA                      | NA                      | NA                      | NA                      | NA                      | NA                      | NA                      |\n",
       "\n"
      ],
      "text/plain": [
       "  year artist       track                   time date.entered wk1 wk2 wk3 wk4\n",
       "1 2000 2 Pac        Baby Don't Cry          4:22 2000-02-26   87  82  72  77 \n",
       "2 2000 2Ge+her      The Hardest Part Of ... 3:15 2000-09-02   91  87  92  NA \n",
       "3 2000 3 Doors Down Kryptonite              3:53 2000-04-08   81  70  68  67 \n",
       "4 2000 3 Doors Down Loser                   4:24 2000-10-21   76  76  72  69 \n",
       "5 2000 504 Boyz     Wobble Wobble           3:35 2000-04-15   57  34  25  17 \n",
       "6 2000 98?          Give Me Just One Nig... 3:24 2000-08-19   51  39  34  26 \n",
       "  wk5 ... wk67 wk68 wk69 wk70 wk71 wk72 wk73 wk74 wk75 wk76\n",
       "1 87  ... NA   NA   NA   NA   NA   NA   NA   NA   NA   NA  \n",
       "2 NA  ... NA   NA   NA   NA   NA   NA   NA   NA   NA   NA  \n",
       "3 66  ... NA   NA   NA   NA   NA   NA   NA   NA   NA   NA  \n",
       "4 67  ... NA   NA   NA   NA   NA   NA   NA   NA   NA   NA  \n",
       "5 17  ... NA   NA   NA   NA   NA   NA   NA   NA   NA   NA  \n",
       "6 26  ... NA   NA   NA   NA   NA   NA   NA   NA   NA   NA  "
      ]
     },
     "metadata": {},
     "output_type": "display_data"
    }
   ],
   "source": [
    "dim(raw)\n",
    "head(raw)"
   ]
  },
  {
   "cell_type": "code",
   "execution_count": 7,
   "id": "0f243c9b",
   "metadata": {},
   "outputs": [],
   "source": [
    "clean <- melt(raw, id = 1:5, na.rm = T)"
   ]
  },
  {
   "cell_type": "code",
   "execution_count": 8,
   "id": "658b605a",
   "metadata": {},
   "outputs": [
    {
     "data": {
      "text/html": [
       "<ol class=list-inline>\n",
       "\t<li>5307</li>\n",
       "\t<li>7</li>\n",
       "</ol>\n"
      ],
      "text/latex": [
       "\\begin{enumerate*}\n",
       "\\item 5307\n",
       "\\item 7\n",
       "\\end{enumerate*}\n"
      ],
      "text/markdown": [
       "1. 5307\n",
       "2. 7\n",
       "\n",
       "\n"
      ],
      "text/plain": [
       "[1] 5307    7"
      ]
     },
     "metadata": {},
     "output_type": "display_data"
    },
    {
     "data": {
      "text/html": [
       "<table>\n",
       "<thead><tr><th></th><th scope=col>year</th><th scope=col>artist</th><th scope=col>track</th><th scope=col>time</th><th scope=col>date.entered</th><th scope=col>variable</th><th scope=col>value</th></tr></thead>\n",
       "<tbody>\n",
       "\t<tr><th scope=row>19517</th><td>2000      </td><td>Lonestar  </td><td>Amazed    </td><td>4:25      </td><td>1999-06-05</td><td>wk62      </td><td>42        </td></tr>\n",
       "\t<tr><th scope=row>19717</th><td>2000      </td><td>Creed     </td><td>Higher    </td><td>5:16      </td><td>1999-09-11</td><td>wk63      </td><td>50        </td></tr>\n",
       "\t<tr><th scope=row>19834</th><td>2000      </td><td>Lonestar  </td><td>Amazed    </td><td>4:25      </td><td>1999-06-05</td><td>wk63      </td><td>45        </td></tr>\n",
       "\t<tr><th scope=row>20034</th><td>2000      </td><td>Creed     </td><td>Higher    </td><td>5:16      </td><td>1999-09-11</td><td>wk64      </td><td>50        </td></tr>\n",
       "\t<tr><th scope=row>20151</th><td>2000      </td><td>Lonestar  </td><td>Amazed    </td><td>4:25      </td><td>1999-06-05</td><td>wk64      </td><td>50        </td></tr>\n",
       "\t<tr><th scope=row>20351</th><td>2000      </td><td>Creed     </td><td>Higher    </td><td>5:16      </td><td>1999-09-11</td><td>wk65      </td><td>49        </td></tr>\n",
       "</tbody>\n",
       "</table>\n"
      ],
      "text/latex": [
       "\\begin{tabular}{r|lllllll}\n",
       "  & year & artist & track & time & date.entered & variable & value\\\\\n",
       "\\hline\n",
       "\t19517 & 2000       & Lonestar   & Amazed     & 4:25       & 1999-06-05 & wk62       & 42        \\\\\n",
       "\t19717 & 2000       & Creed      & Higher     & 5:16       & 1999-09-11 & wk63       & 50        \\\\\n",
       "\t19834 & 2000       & Lonestar   & Amazed     & 4:25       & 1999-06-05 & wk63       & 45        \\\\\n",
       "\t20034 & 2000       & Creed      & Higher     & 5:16       & 1999-09-11 & wk64       & 50        \\\\\n",
       "\t20151 & 2000       & Lonestar   & Amazed     & 4:25       & 1999-06-05 & wk64       & 50        \\\\\n",
       "\t20351 & 2000       & Creed      & Higher     & 5:16       & 1999-09-11 & wk65       & 49        \\\\\n",
       "\\end{tabular}\n"
      ],
      "text/markdown": [
       "\n",
       "| <!--/--> | year | artist | track | time | date.entered | variable | value |\n",
       "|---|---|---|---|---|---|---|---|\n",
       "| 19517 | 2000       | Lonestar   | Amazed     | 4:25       | 1999-06-05 | wk62       | 42         |\n",
       "| 19717 | 2000       | Creed      | Higher     | 5:16       | 1999-09-11 | wk63       | 50         |\n",
       "| 19834 | 2000       | Lonestar   | Amazed     | 4:25       | 1999-06-05 | wk63       | 45         |\n",
       "| 20034 | 2000       | Creed      | Higher     | 5:16       | 1999-09-11 | wk64       | 50         |\n",
       "| 20151 | 2000       | Lonestar   | Amazed     | 4:25       | 1999-06-05 | wk64       | 50         |\n",
       "| 20351 | 2000       | Creed      | Higher     | 5:16       | 1999-09-11 | wk65       | 49         |\n",
       "\n"
      ],
      "text/plain": [
       "      year artist   track  time date.entered variable value\n",
       "19517 2000 Lonestar Amazed 4:25 1999-06-05   wk62     42   \n",
       "19717 2000 Creed    Higher 5:16 1999-09-11   wk63     50   \n",
       "19834 2000 Lonestar Amazed 4:25 1999-06-05   wk63     45   \n",
       "20034 2000 Creed    Higher 5:16 1999-09-11   wk64     50   \n",
       "20151 2000 Lonestar Amazed 4:25 1999-06-05   wk64     50   \n",
       "20351 2000 Creed    Higher 5:16 1999-09-11   wk65     49   "
      ]
     },
     "metadata": {},
     "output_type": "display_data"
    }
   ],
   "source": [
    "dim(clean)\n",
    "tail(clean)"
   ]
  },
  {
   "cell_type": "code",
   "execution_count": 9,
   "id": "f17ecb00",
   "metadata": {},
   "outputs": [],
   "source": [
    "clean$week <- as.integer(str_replace_all(clean$variable, \"[^0-9]+\", \"\"))\n",
    "clean$variable <- NULL\n",
    "\n",
    "clean$date.entered <- ymd(clean$date.entered)\n",
    "clean$date <- clean$date.entered + weeks(clean$week - 1)\n",
    "clean$date.entered <- NULL"
   ]
  },
  {
   "cell_type": "code",
   "execution_count": 10,
   "id": "c7a2489c",
   "metadata": {},
   "outputs": [
    {
     "data": {
      "text/html": [
       "<ol class=list-inline>\n",
       "\t<li>5307</li>\n",
       "\t<li>7</li>\n",
       "</ol>\n"
      ],
      "text/latex": [
       "\\begin{enumerate*}\n",
       "\\item 5307\n",
       "\\item 7\n",
       "\\end{enumerate*}\n"
      ],
      "text/markdown": [
       "1. 5307\n",
       "2. 7\n",
       "\n",
       "\n"
      ],
      "text/plain": [
       "[1] 5307    7"
      ]
     },
     "metadata": {},
     "output_type": "display_data"
    },
    {
     "data": {
      "text/html": [
       "<table>\n",
       "<thead><tr><th></th><th scope=col>year</th><th scope=col>artist</th><th scope=col>track</th><th scope=col>time</th><th scope=col>value</th><th scope=col>week</th><th scope=col>date</th></tr></thead>\n",
       "<tbody>\n",
       "\t<tr><th scope=row>19517</th><td>2000      </td><td>Lonestar  </td><td>Amazed    </td><td>4:25      </td><td>42        </td><td>62        </td><td>2000-08-05</td></tr>\n",
       "\t<tr><th scope=row>19717</th><td>2000      </td><td>Creed     </td><td>Higher    </td><td>5:16      </td><td>50        </td><td>63        </td><td>2000-11-18</td></tr>\n",
       "\t<tr><th scope=row>19834</th><td>2000      </td><td>Lonestar  </td><td>Amazed    </td><td>4:25      </td><td>45        </td><td>63        </td><td>2000-08-12</td></tr>\n",
       "\t<tr><th scope=row>20034</th><td>2000      </td><td>Creed     </td><td>Higher    </td><td>5:16      </td><td>50        </td><td>64        </td><td>2000-11-25</td></tr>\n",
       "\t<tr><th scope=row>20151</th><td>2000      </td><td>Lonestar  </td><td>Amazed    </td><td>4:25      </td><td>50        </td><td>64        </td><td>2000-08-19</td></tr>\n",
       "\t<tr><th scope=row>20351</th><td>2000      </td><td>Creed     </td><td>Higher    </td><td>5:16      </td><td>49        </td><td>65        </td><td>2000-12-02</td></tr>\n",
       "</tbody>\n",
       "</table>\n"
      ],
      "text/latex": [
       "\\begin{tabular}{r|lllllll}\n",
       "  & year & artist & track & time & value & week & date\\\\\n",
       "\\hline\n",
       "\t19517 & 2000       & Lonestar   & Amazed     & 4:25       & 42         & 62         & 2000-08-05\\\\\n",
       "\t19717 & 2000       & Creed      & Higher     & 5:16       & 50         & 63         & 2000-11-18\\\\\n",
       "\t19834 & 2000       & Lonestar   & Amazed     & 4:25       & 45         & 63         & 2000-08-12\\\\\n",
       "\t20034 & 2000       & Creed      & Higher     & 5:16       & 50         & 64         & 2000-11-25\\\\\n",
       "\t20151 & 2000       & Lonestar   & Amazed     & 4:25       & 50         & 64         & 2000-08-19\\\\\n",
       "\t20351 & 2000       & Creed      & Higher     & 5:16       & 49         & 65         & 2000-12-02\\\\\n",
       "\\end{tabular}\n"
      ],
      "text/markdown": [
       "\n",
       "| <!--/--> | year | artist | track | time | value | week | date |\n",
       "|---|---|---|---|---|---|---|---|\n",
       "| 19517 | 2000       | Lonestar   | Amazed     | 4:25       | 42         | 62         | 2000-08-05 |\n",
       "| 19717 | 2000       | Creed      | Higher     | 5:16       | 50         | 63         | 2000-11-18 |\n",
       "| 19834 | 2000       | Lonestar   | Amazed     | 4:25       | 45         | 63         | 2000-08-12 |\n",
       "| 20034 | 2000       | Creed      | Higher     | 5:16       | 50         | 64         | 2000-11-25 |\n",
       "| 20151 | 2000       | Lonestar   | Amazed     | 4:25       | 50         | 64         | 2000-08-19 |\n",
       "| 20351 | 2000       | Creed      | Higher     | 5:16       | 49         | 65         | 2000-12-02 |\n",
       "\n"
      ],
      "text/plain": [
       "      year artist   track  time value week date      \n",
       "19517 2000 Lonestar Amazed 4:25 42    62   2000-08-05\n",
       "19717 2000 Creed    Higher 5:16 50    63   2000-11-18\n",
       "19834 2000 Lonestar Amazed 4:25 45    63   2000-08-12\n",
       "20034 2000 Creed    Higher 5:16 50    64   2000-11-25\n",
       "20151 2000 Lonestar Amazed 4:25 50    64   2000-08-19\n",
       "20351 2000 Creed    Higher 5:16 49    65   2000-12-02"
      ]
     },
     "metadata": {},
     "output_type": "display_data"
    }
   ],
   "source": [
    "dim(clean)\n",
    "tail(clean)"
   ]
  },
  {
   "cell_type": "code",
   "execution_count": 11,
   "id": "aa1a193a",
   "metadata": {},
   "outputs": [],
   "source": [
    "clean <- rename(clean, c(\"value\" = \"rank\"))\n",
    "clean <- arrange(clean, year, artist, track, time, week)\n",
    "clean <- clean[c(\"year\", \"artist\", \"time\", \"track\", \"date\", \"week\", \"rank\")]"
   ]
  },
  {
   "cell_type": "code",
   "execution_count": 12,
   "id": "84e470c3",
   "metadata": {},
   "outputs": [
    {
     "data": {
      "text/html": [
       "<ol class=list-inline>\n",
       "\t<li>5307</li>\n",
       "\t<li>7</li>\n",
       "</ol>\n"
      ],
      "text/latex": [
       "\\begin{enumerate*}\n",
       "\\item 5307\n",
       "\\item 7\n",
       "\\end{enumerate*}\n"
      ],
      "text/markdown": [
       "1. 5307\n",
       "2. 7\n",
       "\n",
       "\n"
      ],
      "text/plain": [
       "[1] 5307    7"
      ]
     },
     "metadata": {},
     "output_type": "display_data"
    },
    {
     "data": {
      "text/html": [
       "<table>\n",
       "<thead><tr><th scope=col>year</th><th scope=col>artist</th><th scope=col>time</th><th scope=col>track</th><th scope=col>date</th><th scope=col>week</th><th scope=col>rank</th></tr></thead>\n",
       "<tbody>\n",
       "\t<tr><td>2000          </td><td>2 Pac         </td><td>4:22          </td><td>Baby Don't Cry</td><td>2000-02-26    </td><td>1             </td><td>87            </td></tr>\n",
       "\t<tr><td>2000          </td><td>2 Pac         </td><td>4:22          </td><td>Baby Don't Cry</td><td>2000-03-04    </td><td>2             </td><td>82            </td></tr>\n",
       "\t<tr><td>2000          </td><td>2 Pac         </td><td>4:22          </td><td>Baby Don't Cry</td><td>2000-03-11    </td><td>3             </td><td>72            </td></tr>\n",
       "\t<tr><td>2000          </td><td>2 Pac         </td><td>4:22          </td><td>Baby Don't Cry</td><td>2000-03-18    </td><td>4             </td><td>77            </td></tr>\n",
       "\t<tr><td>2000          </td><td>2 Pac         </td><td>4:22          </td><td>Baby Don't Cry</td><td>2000-03-25    </td><td>5             </td><td>87            </td></tr>\n",
       "\t<tr><td>2000          </td><td>2 Pac         </td><td>4:22          </td><td>Baby Don't Cry</td><td>2000-04-01    </td><td>6             </td><td>94            </td></tr>\n",
       "</tbody>\n",
       "</table>\n"
      ],
      "text/latex": [
       "\\begin{tabular}{r|lllllll}\n",
       " year & artist & time & track & date & week & rank\\\\\n",
       "\\hline\n",
       "\t 2000           & 2 Pac          & 4:22           & Baby Don't Cry & 2000-02-26     & 1              & 87            \\\\\n",
       "\t 2000           & 2 Pac          & 4:22           & Baby Don't Cry & 2000-03-04     & 2              & 82            \\\\\n",
       "\t 2000           & 2 Pac          & 4:22           & Baby Don't Cry & 2000-03-11     & 3              & 72            \\\\\n",
       "\t 2000           & 2 Pac          & 4:22           & Baby Don't Cry & 2000-03-18     & 4              & 77            \\\\\n",
       "\t 2000           & 2 Pac          & 4:22           & Baby Don't Cry & 2000-03-25     & 5              & 87            \\\\\n",
       "\t 2000           & 2 Pac          & 4:22           & Baby Don't Cry & 2000-04-01     & 6              & 94            \\\\\n",
       "\\end{tabular}\n"
      ],
      "text/markdown": [
       "\n",
       "| year | artist | time | track | date | week | rank |\n",
       "|---|---|---|---|---|---|---|\n",
       "| 2000           | 2 Pac          | 4:22           | Baby Don't Cry | 2000-02-26     | 1              | 87             |\n",
       "| 2000           | 2 Pac          | 4:22           | Baby Don't Cry | 2000-03-04     | 2              | 82             |\n",
       "| 2000           | 2 Pac          | 4:22           | Baby Don't Cry | 2000-03-11     | 3              | 72             |\n",
       "| 2000           | 2 Pac          | 4:22           | Baby Don't Cry | 2000-03-18     | 4              | 77             |\n",
       "| 2000           | 2 Pac          | 4:22           | Baby Don't Cry | 2000-03-25     | 5              | 87             |\n",
       "| 2000           | 2 Pac          | 4:22           | Baby Don't Cry | 2000-04-01     | 6              | 94             |\n",
       "\n"
      ],
      "text/plain": [
       "  year artist time track          date       week rank\n",
       "1 2000 2 Pac  4:22 Baby Don't Cry 2000-02-26 1    87  \n",
       "2 2000 2 Pac  4:22 Baby Don't Cry 2000-03-04 2    82  \n",
       "3 2000 2 Pac  4:22 Baby Don't Cry 2000-03-11 3    72  \n",
       "4 2000 2 Pac  4:22 Baby Don't Cry 2000-03-18 4    77  \n",
       "5 2000 2 Pac  4:22 Baby Don't Cry 2000-03-25 5    87  \n",
       "6 2000 2 Pac  4:22 Baby Don't Cry 2000-04-01 6    94  "
      ]
     },
     "metadata": {},
     "output_type": "display_data"
    }
   ],
   "source": [
    "dim(clean)\n",
    "head(clean)"
   ]
  },
  {
   "cell_type": "markdown",
   "id": "63d43c5c",
   "metadata": {},
   "source": [
    "## 3.4. Multiple types in one table - billboard"
   ]
  },
  {
   "cell_type": "code",
   "execution_count": 13,
   "id": "eeb42244",
   "metadata": {},
   "outputs": [],
   "source": [
    "# Normalisation --------------------------------------------------------------\n",
    "\n",
    "song <- unrowname(unique(clean[c(\"artist\", \"track\", \"time\")]))\n",
    "song$id <- 1:nrow(song)\n"
   ]
  },
  {
   "cell_type": "code",
   "execution_count": 14,
   "id": "b2d40ce8",
   "metadata": {},
   "outputs": [
    {
     "data": {
      "text/html": [
       "<ol class=list-inline>\n",
       "\t<li>317</li>\n",
       "\t<li>4</li>\n",
       "</ol>\n"
      ],
      "text/latex": [
       "\\begin{enumerate*}\n",
       "\\item 317\n",
       "\\item 4\n",
       "\\end{enumerate*}\n"
      ],
      "text/markdown": [
       "1. 317\n",
       "2. 4\n",
       "\n",
       "\n"
      ],
      "text/plain": [
       "[1] 317   4"
      ]
     },
     "metadata": {},
     "output_type": "display_data"
    },
    {
     "data": {
      "text/html": [
       "<table>\n",
       "<thead><tr><th scope=col>artist</th><th scope=col>track</th><th scope=col>time</th><th scope=col>id</th></tr></thead>\n",
       "<tbody>\n",
       "\t<tr><td>2 Pac                  </td><td>Baby Don't Cry         </td><td>4:22                   </td><td>1                      </td></tr>\n",
       "\t<tr><td>2Ge+her                </td><td>The Hardest Part Of ...</td><td>3:15                   </td><td>2                      </td></tr>\n",
       "\t<tr><td>3 Doors Down           </td><td>Kryptonite             </td><td>3:53                   </td><td>3                      </td></tr>\n",
       "\t<tr><td>3 Doors Down           </td><td>Loser                  </td><td>4:24                   </td><td>4                      </td></tr>\n",
       "\t<tr><td>504 Boyz               </td><td>Wobble Wobble          </td><td>3:35                   </td><td>5                      </td></tr>\n",
       "\t<tr><td>98?                    </td><td>Give Me Just One Nig...</td><td>3:24                   </td><td>6                      </td></tr>\n",
       "</tbody>\n",
       "</table>\n"
      ],
      "text/latex": [
       "\\begin{tabular}{r|llll}\n",
       " artist & track & time & id\\\\\n",
       "\\hline\n",
       "\t 2 Pac                   & Baby Don't Cry          & 4:22                    & 1                      \\\\\n",
       "\t 2Ge+her                 & The Hardest Part Of ... & 3:15                    & 2                      \\\\\n",
       "\t 3 Doors Down            & Kryptonite              & 3:53                    & 3                      \\\\\n",
       "\t 3 Doors Down            & Loser                   & 4:24                    & 4                      \\\\\n",
       "\t 504 Boyz                & Wobble Wobble           & 3:35                    & 5                      \\\\\n",
       "\t 98?                     & Give Me Just One Nig... & 3:24                    & 6                      \\\\\n",
       "\\end{tabular}\n"
      ],
      "text/markdown": [
       "\n",
       "| artist | track | time | id |\n",
       "|---|---|---|---|\n",
       "| 2 Pac                   | Baby Don't Cry          | 4:22                    | 1                       |\n",
       "| 2Ge+her                 | The Hardest Part Of ... | 3:15                    | 2                       |\n",
       "| 3 Doors Down            | Kryptonite              | 3:53                    | 3                       |\n",
       "| 3 Doors Down            | Loser                   | 4:24                    | 4                       |\n",
       "| 504 Boyz                | Wobble Wobble           | 3:35                    | 5                       |\n",
       "| 98?                     | Give Me Just One Nig... | 3:24                    | 6                       |\n",
       "\n"
      ],
      "text/plain": [
       "  artist       track                   time id\n",
       "1 2 Pac        Baby Don't Cry          4:22 1 \n",
       "2 2Ge+her      The Hardest Part Of ... 3:15 2 \n",
       "3 3 Doors Down Kryptonite              3:53 3 \n",
       "4 3 Doors Down Loser                   4:24 4 \n",
       "5 504 Boyz     Wobble Wobble           3:35 5 \n",
       "6 98?          Give Me Just One Nig... 3:24 6 "
      ]
     },
     "metadata": {},
     "output_type": "display_data"
    }
   ],
   "source": [
    "dim(song)\n",
    "head(song)"
   ]
  },
  {
   "cell_type": "code",
   "execution_count": 15,
   "id": "ef6c9751",
   "metadata": {},
   "outputs": [
    {
     "name": "stderr",
     "output_type": "stream",
     "text": [
      "Joining by: artist, time, track\n"
     ]
    }
   ],
   "source": [
    "rank <- join(clean, song, match = \"first\")\n"
   ]
  },
  {
   "cell_type": "code",
   "execution_count": 16,
   "id": "cbee4e6e",
   "metadata": {},
   "outputs": [
    {
     "data": {
      "text/html": [
       "<ol class=list-inline>\n",
       "\t<li>5307</li>\n",
       "\t<li>8</li>\n",
       "</ol>\n"
      ],
      "text/latex": [
       "\\begin{enumerate*}\n",
       "\\item 5307\n",
       "\\item 8\n",
       "\\end{enumerate*}\n"
      ],
      "text/markdown": [
       "1. 5307\n",
       "2. 8\n",
       "\n",
       "\n"
      ],
      "text/plain": [
       "[1] 5307    8"
      ]
     },
     "metadata": {},
     "output_type": "display_data"
    },
    {
     "data": {
      "text/html": [
       "<table>\n",
       "<thead><tr><th scope=col>artist</th><th scope=col>time</th><th scope=col>track</th><th scope=col>year</th><th scope=col>date</th><th scope=col>week</th><th scope=col>rank</th><th scope=col>id</th></tr></thead>\n",
       "<tbody>\n",
       "\t<tr><td>2 Pac         </td><td>4:22          </td><td>Baby Don't Cry</td><td>2000          </td><td>2000-02-26    </td><td>1             </td><td>87            </td><td>1             </td></tr>\n",
       "\t<tr><td>2 Pac         </td><td>4:22          </td><td>Baby Don't Cry</td><td>2000          </td><td>2000-03-04    </td><td>2             </td><td>82            </td><td>1             </td></tr>\n",
       "\t<tr><td>2 Pac         </td><td>4:22          </td><td>Baby Don't Cry</td><td>2000          </td><td>2000-03-11    </td><td>3             </td><td>72            </td><td>1             </td></tr>\n",
       "\t<tr><td>2 Pac         </td><td>4:22          </td><td>Baby Don't Cry</td><td>2000          </td><td>2000-03-18    </td><td>4             </td><td>77            </td><td>1             </td></tr>\n",
       "\t<tr><td>2 Pac         </td><td>4:22          </td><td>Baby Don't Cry</td><td>2000          </td><td>2000-03-25    </td><td>5             </td><td>87            </td><td>1             </td></tr>\n",
       "\t<tr><td>2 Pac         </td><td>4:22          </td><td>Baby Don't Cry</td><td>2000          </td><td>2000-04-01    </td><td>6             </td><td>94            </td><td>1             </td></tr>\n",
       "</tbody>\n",
       "</table>\n"
      ],
      "text/latex": [
       "\\begin{tabular}{r|llllllll}\n",
       " artist & time & track & year & date & week & rank & id\\\\\n",
       "\\hline\n",
       "\t 2 Pac          & 4:22           & Baby Don't Cry & 2000           & 2000-02-26     & 1              & 87             & 1             \\\\\n",
       "\t 2 Pac          & 4:22           & Baby Don't Cry & 2000           & 2000-03-04     & 2              & 82             & 1             \\\\\n",
       "\t 2 Pac          & 4:22           & Baby Don't Cry & 2000           & 2000-03-11     & 3              & 72             & 1             \\\\\n",
       "\t 2 Pac          & 4:22           & Baby Don't Cry & 2000           & 2000-03-18     & 4              & 77             & 1             \\\\\n",
       "\t 2 Pac          & 4:22           & Baby Don't Cry & 2000           & 2000-03-25     & 5              & 87             & 1             \\\\\n",
       "\t 2 Pac          & 4:22           & Baby Don't Cry & 2000           & 2000-04-01     & 6              & 94             & 1             \\\\\n",
       "\\end{tabular}\n"
      ],
      "text/markdown": [
       "\n",
       "| artist | time | track | year | date | week | rank | id |\n",
       "|---|---|---|---|---|---|---|---|\n",
       "| 2 Pac          | 4:22           | Baby Don't Cry | 2000           | 2000-02-26     | 1              | 87             | 1              |\n",
       "| 2 Pac          | 4:22           | Baby Don't Cry | 2000           | 2000-03-04     | 2              | 82             | 1              |\n",
       "| 2 Pac          | 4:22           | Baby Don't Cry | 2000           | 2000-03-11     | 3              | 72             | 1              |\n",
       "| 2 Pac          | 4:22           | Baby Don't Cry | 2000           | 2000-03-18     | 4              | 77             | 1              |\n",
       "| 2 Pac          | 4:22           | Baby Don't Cry | 2000           | 2000-03-25     | 5              | 87             | 1              |\n",
       "| 2 Pac          | 4:22           | Baby Don't Cry | 2000           | 2000-04-01     | 6              | 94             | 1              |\n",
       "\n"
      ],
      "text/plain": [
       "  artist time track          year date       week rank id\n",
       "1 2 Pac  4:22 Baby Don't Cry 2000 2000-02-26 1    87   1 \n",
       "2 2 Pac  4:22 Baby Don't Cry 2000 2000-03-04 2    82   1 \n",
       "3 2 Pac  4:22 Baby Don't Cry 2000 2000-03-11 3    72   1 \n",
       "4 2 Pac  4:22 Baby Don't Cry 2000 2000-03-18 4    77   1 \n",
       "5 2 Pac  4:22 Baby Don't Cry 2000 2000-03-25 5    87   1 \n",
       "6 2 Pac  4:22 Baby Don't Cry 2000 2000-04-01 6    94   1 "
      ]
     },
     "metadata": {},
     "output_type": "display_data"
    }
   ],
   "source": [
    "dim(rank)\n",
    "head(rank)"
   ]
  },
  {
   "cell_type": "code",
   "execution_count": 17,
   "id": "c524a74e",
   "metadata": {},
   "outputs": [],
   "source": [
    "rank <- rank[c(\"id\", \"date\", \"rank\")]\n"
   ]
  },
  {
   "cell_type": "code",
   "execution_count": 18,
   "id": "dd0f7a3b",
   "metadata": {},
   "outputs": [
    {
     "data": {
      "text/html": [
       "<ol class=list-inline>\n",
       "\t<li>5307</li>\n",
       "\t<li>3</li>\n",
       "</ol>\n"
      ],
      "text/latex": [
       "\\begin{enumerate*}\n",
       "\\item 5307\n",
       "\\item 3\n",
       "\\end{enumerate*}\n"
      ],
      "text/markdown": [
       "1. 5307\n",
       "2. 3\n",
       "\n",
       "\n"
      ],
      "text/plain": [
       "[1] 5307    3"
      ]
     },
     "metadata": {},
     "output_type": "display_data"
    },
    {
     "data": {
      "text/html": [
       "<table>\n",
       "<thead><tr><th scope=col>id</th><th scope=col>date</th><th scope=col>rank</th></tr></thead>\n",
       "<tbody>\n",
       "\t<tr><td>1         </td><td>2000-02-26</td><td>87        </td></tr>\n",
       "\t<tr><td>1         </td><td>2000-03-04</td><td>82        </td></tr>\n",
       "\t<tr><td>1         </td><td>2000-03-11</td><td>72        </td></tr>\n",
       "\t<tr><td>1         </td><td>2000-03-18</td><td>77        </td></tr>\n",
       "\t<tr><td>1         </td><td>2000-03-25</td><td>87        </td></tr>\n",
       "\t<tr><td>1         </td><td>2000-04-01</td><td>94        </td></tr>\n",
       "</tbody>\n",
       "</table>\n"
      ],
      "text/latex": [
       "\\begin{tabular}{r|lll}\n",
       " id & date & rank\\\\\n",
       "\\hline\n",
       "\t 1          & 2000-02-26 & 87        \\\\\n",
       "\t 1          & 2000-03-04 & 82        \\\\\n",
       "\t 1          & 2000-03-11 & 72        \\\\\n",
       "\t 1          & 2000-03-18 & 77        \\\\\n",
       "\t 1          & 2000-03-25 & 87        \\\\\n",
       "\t 1          & 2000-04-01 & 94        \\\\\n",
       "\\end{tabular}\n"
      ],
      "text/markdown": [
       "\n",
       "| id | date | rank |\n",
       "|---|---|---|\n",
       "| 1          | 2000-02-26 | 87         |\n",
       "| 1          | 2000-03-04 | 82         |\n",
       "| 1          | 2000-03-11 | 72         |\n",
       "| 1          | 2000-03-18 | 77         |\n",
       "| 1          | 2000-03-25 | 87         |\n",
       "| 1          | 2000-04-01 | 94         |\n",
       "\n"
      ],
      "text/plain": [
       "  id date       rank\n",
       "1 1  2000-02-26 87  \n",
       "2 1  2000-03-04 82  \n",
       "3 1  2000-03-11 72  \n",
       "4 1  2000-03-18 77  \n",
       "5 1  2000-03-25 87  \n",
       "6 1  2000-04-01 94  "
      ]
     },
     "metadata": {},
     "output_type": "display_data"
    }
   ],
   "source": [
    "dim(rank)\n",
    "head(rank)"
   ]
  }
 ],
 "metadata": {
  "kernelspec": {
   "display_name": "R",
   "language": "R",
   "name": "ir"
  },
  "language_info": {
   "codemirror_mode": "r",
   "file_extension": ".r",
   "mimetype": "text/x-r-source",
   "name": "R",
   "pygments_lexer": "r",
   "version": "3.6.1"
  }
 },
 "nbformat": 4,
 "nbformat_minor": 5
}
