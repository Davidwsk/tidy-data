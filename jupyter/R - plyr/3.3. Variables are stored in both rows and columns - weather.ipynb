{
 "cells": [
  {
   "cell_type": "markdown",
   "id": "45368fac",
   "metadata": {},
   "source": [
    "# 3.3. Variables are stored in both rows and columns - weather"
   ]
  },
  {
   "cell_type": "code",
   "execution_count": 1,
   "id": "373b2ec0",
   "metadata": {},
   "outputs": [],
   "source": [
    "options(stringsAsFactors = FALSE)\n",
    "library(stringr)\n",
    "library(reshape2)\n",
    "library(plyr)\n",
    "\n",
    "# source(\"read-fwf.r\")\n",
    "read.fwf2 <- function(path, cols) {\n",
    "  raw_stations <- readLines(path)\n",
    "  stations <- data.frame(matrix(ncol = 0, nrow = length(raw_stations)))\n",
    "\n",
    "  for(i in 1:nrow(cols)) {\n",
    "    field <- cols[i, ]\n",
    "    stations[[field$name]] <- str_trim(str_sub(raw_stations, field$start, field$end))\n",
    "  }\n",
    "  stations[stations == \"\"] <- NA\n",
    "  stations[] <- lapply(stations, type.convert, as.is = TRUE)\n",
    "  \n",
    "  stations\n",
    "}\n"
   ]
  },
  {
   "cell_type": "code",
   "execution_count": 2,
   "id": "c74dcf88",
   "metadata": {},
   "outputs": [],
   "source": [
    "# Define format for fixed width file\n",
    "cols <- data.frame(\n",
    "  name =  c(\"id\", \"year\", \"month\", \"element\"),\n",
    "  start = c(1,     12,    16,      18),\n",
    "  end =   c(11,    15,    17,      21))\n",
    "\n",
    "names <- str_c(c(\"value\", \"mflag\", \"qflag\", \"sflag\"), rep(1:31, each = 4), sep = \"_\")\n",
    "start_end <- cumsum(c(22, rep(c(5, 1, 1, 1), 31)))\n",
    "starts <- start_end[-length(start_end)]\n",
    "ends <- c(start_end[-1]) - 1\n",
    "# Old code\n",
    "#starts <- cumsum(c(22, rep(c(5, 1, 1, 1), 31)))\n",
    "#starts <- starts[-length(starts)]\n",
    "#ends <- c(starts[-1], starts[length(starts)] + 1) - 1\n",
    "\n",
    "values <- data.frame(name = names, start = starts, end = ends)\n",
    "cols <- rbind(cols, values)\n"
   ]
  },
  {
   "cell_type": "code",
   "execution_count": 3,
   "id": "5d144471",
   "metadata": {},
   "outputs": [
    {
     "data": {
      "text/html": [
       "<ol class=list-inline>\n",
       "\t<li>128</li>\n",
       "\t<li>3</li>\n",
       "</ol>\n"
      ],
      "text/latex": [
       "\\begin{enumerate*}\n",
       "\\item 128\n",
       "\\item 3\n",
       "\\end{enumerate*}\n"
      ],
      "text/markdown": [
       "1. 128\n",
       "2. 3\n",
       "\n",
       "\n"
      ],
      "text/plain": [
       "[1] 128   3"
      ]
     },
     "metadata": {},
     "output_type": "display_data"
    },
    {
     "data": {
      "text/html": [
       "<table>\n",
       "<thead><tr><th scope=col>name</th><th scope=col>start</th><th scope=col>end</th></tr></thead>\n",
       "<tbody>\n",
       "\t<tr><td>id     </td><td> 1     </td><td>11     </td></tr>\n",
       "\t<tr><td>year   </td><td>12     </td><td>15     </td></tr>\n",
       "\t<tr><td>month  </td><td>16     </td><td>17     </td></tr>\n",
       "\t<tr><td>element</td><td>18     </td><td>21     </td></tr>\n",
       "\t<tr><td>value_1</td><td>22     </td><td>26     </td></tr>\n",
       "\t<tr><td>mflag_1</td><td>27     </td><td>27     </td></tr>\n",
       "\t<tr><td>qflag_1</td><td>28     </td><td>28     </td></tr>\n",
       "\t<tr><td>sflag_1</td><td>29     </td><td>29     </td></tr>\n",
       "\t<tr><td>value_2</td><td>30     </td><td>34     </td></tr>\n",
       "\t<tr><td>mflag_2</td><td>35     </td><td>35     </td></tr>\n",
       "</tbody>\n",
       "</table>\n"
      ],
      "text/latex": [
       "\\begin{tabular}{r|lll}\n",
       " name & start & end\\\\\n",
       "\\hline\n",
       "\t id      &  1      & 11     \\\\\n",
       "\t year    & 12      & 15     \\\\\n",
       "\t month   & 16      & 17     \\\\\n",
       "\t element & 18      & 21     \\\\\n",
       "\t value\\_1 & 22        & 26       \\\\\n",
       "\t mflag\\_1 & 27        & 27       \\\\\n",
       "\t qflag\\_1 & 28        & 28       \\\\\n",
       "\t sflag\\_1 & 29        & 29       \\\\\n",
       "\t value\\_2 & 30        & 34       \\\\\n",
       "\t mflag\\_2 & 35        & 35       \\\\\n",
       "\\end{tabular}\n"
      ],
      "text/markdown": [
       "\n",
       "| name | start | end |\n",
       "|---|---|---|\n",
       "| id      |  1      | 11      |\n",
       "| year    | 12      | 15      |\n",
       "| month   | 16      | 17      |\n",
       "| element | 18      | 21      |\n",
       "| value_1 | 22      | 26      |\n",
       "| mflag_1 | 27      | 27      |\n",
       "| qflag_1 | 28      | 28      |\n",
       "| sflag_1 | 29      | 29      |\n",
       "| value_2 | 30      | 34      |\n",
       "| mflag_2 | 35      | 35      |\n",
       "\n"
      ],
      "text/plain": [
       "   name    start end\n",
       "1  id       1    11 \n",
       "2  year    12    15 \n",
       "3  month   16    17 \n",
       "4  element 18    21 \n",
       "5  value_1 22    26 \n",
       "6  mflag_1 27    27 \n",
       "7  qflag_1 28    28 \n",
       "8  sflag_1 29    29 \n",
       "9  value_2 30    34 \n",
       "10 mflag_2 35    35 "
      ]
     },
     "metadata": {},
     "output_type": "display_data"
    }
   ],
   "source": [
    "dim(cols)\n",
    "head(cols, 10)"
   ]
  },
  {
   "cell_type": "code",
   "execution_count": 4,
   "id": "f94b19c1",
   "metadata": {},
   "outputs": [],
   "source": [
    "# Load data and subset to small example\n",
    "raw <- read.fwf2(\"../../data/weather.txt\",  cols)\n"
   ]
  },
  {
   "cell_type": "code",
   "execution_count": 5,
   "id": "dc7090ae",
   "metadata": {},
   "outputs": [
    {
     "data": {
      "text/html": [
       "<ol class=list-inline>\n",
       "\t<li>1714</li>\n",
       "\t<li>128</li>\n",
       "</ol>\n"
      ],
      "text/latex": [
       "\\begin{enumerate*}\n",
       "\\item 1714\n",
       "\\item 128\n",
       "\\end{enumerate*}\n"
      ],
      "text/markdown": [
       "1. 1714\n",
       "2. 128\n",
       "\n",
       "\n"
      ],
      "text/plain": [
       "[1] 1714  128"
      ]
     },
     "metadata": {},
     "output_type": "display_data"
    },
    {
     "data": {
      "text/html": [
       "<table>\n",
       "<thead><tr><th scope=col>id</th><th scope=col>year</th><th scope=col>month</th><th scope=col>element</th><th scope=col>value_1</th><th scope=col>mflag_1</th><th scope=col>qflag_1</th><th scope=col>sflag_1</th><th scope=col>value_2</th><th scope=col>mflag_2</th><th scope=col>...</th><th scope=col>qflag_29</th><th scope=col>sflag_29</th><th scope=col>value_30</th><th scope=col>mflag_30</th><th scope=col>qflag_30</th><th scope=col>sflag_30</th><th scope=col>value_31</th><th scope=col>mflag_31</th><th scope=col>qflag_31</th><th scope=col>sflag_31</th></tr></thead>\n",
       "<tbody>\n",
       "\t<tr><td>MX000017004</td><td>1955       </td><td>4          </td><td>TMAX       </td><td>310        </td><td>NA         </td><td>NA         </td><td>I          </td><td>310        </td><td>NA         </td><td>...        </td><td>NA         </td><td>I          </td><td>320        </td><td>NA         </td><td>NA         </td><td>I          </td><td>-9999      </td><td>NA         </td><td>NA         </td><td>NA         </td></tr>\n",
       "\t<tr><td>MX000017004</td><td>1955       </td><td>4          </td><td>TMIN       </td><td>150        </td><td>NA         </td><td>NA         </td><td>I          </td><td>150        </td><td>NA         </td><td>...        </td><td>NA         </td><td>I          </td><td>160        </td><td>NA         </td><td>NA         </td><td>I          </td><td>-9999      </td><td>NA         </td><td>NA         </td><td>NA         </td></tr>\n",
       "\t<tr><td>MX000017004</td><td>1955       </td><td>4          </td><td>PRCP       </td><td>  0        </td><td>NA         </td><td>NA         </td><td>I          </td><td>  0        </td><td>NA         </td><td>...        </td><td>NA         </td><td>I          </td><td>  6        </td><td>NA         </td><td>NA         </td><td>I          </td><td>-9999      </td><td>NA         </td><td>NA         </td><td>NA         </td></tr>\n",
       "\t<tr><td>MX000017004</td><td>1955       </td><td>5          </td><td>TMAX       </td><td>310        </td><td>NA         </td><td>NA         </td><td>I          </td><td>310        </td><td>NA         </td><td>...        </td><td>NA         </td><td>I          </td><td>300        </td><td>NA         </td><td>NA         </td><td>I          </td><td>  290      </td><td>NA         </td><td>NA         </td><td>I          </td></tr>\n",
       "\t<tr><td>MX000017004</td><td>1955       </td><td>5          </td><td>TMIN       </td><td>200        </td><td>NA         </td><td>NA         </td><td>I          </td><td>160        </td><td>NA         </td><td>...        </td><td>NA         </td><td>I          </td><td>150        </td><td>NA         </td><td>NA         </td><td>I          </td><td>  160      </td><td>NA         </td><td>NA         </td><td>I          </td></tr>\n",
       "\t<tr><td>MX000017004</td><td>1955       </td><td>5          </td><td>PRCP       </td><td>  0        </td><td>NA         </td><td>NA         </td><td>I          </td><td>  0        </td><td>NA         </td><td>...        </td><td>NA         </td><td>I          </td><td>  0        </td><td>NA         </td><td>NA         </td><td>I          </td><td>   46      </td><td>NA         </td><td>NA         </td><td>I          </td></tr>\n",
       "</tbody>\n",
       "</table>\n"
      ],
      "text/latex": [
       "\\begin{tabular}{r|llllllllllllllllllllllllllllllllllllllllllllllllllllllllllllllllllllllllllllllllllllllllllllllllllllllllllllllllllllllllllllllll}\n",
       " id & year & month & element & value\\_1 & mflag\\_1 & qflag\\_1 & sflag\\_1 & value\\_2 & mflag\\_2 & ... & qflag\\_29 & sflag\\_29 & value\\_30 & mflag\\_30 & qflag\\_30 & sflag\\_30 & value\\_31 & mflag\\_31 & qflag\\_31 & sflag\\_31\\\\\n",
       "\\hline\n",
       "\t MX000017004 & 1955        & 4           & TMAX        & 310         & NA          & NA          & I           & 310         & NA          & ...         & NA          & I           & 320         & NA          & NA          & I           & -9999       & NA          & NA          & NA         \\\\\n",
       "\t MX000017004 & 1955        & 4           & TMIN        & 150         & NA          & NA          & I           & 150         & NA          & ...         & NA          & I           & 160         & NA          & NA          & I           & -9999       & NA          & NA          & NA         \\\\\n",
       "\t MX000017004 & 1955        & 4           & PRCP        &   0         & NA          & NA          & I           &   0         & NA          & ...         & NA          & I           &   6         & NA          & NA          & I           & -9999       & NA          & NA          & NA         \\\\\n",
       "\t MX000017004 & 1955        & 5           & TMAX        & 310         & NA          & NA          & I           & 310         & NA          & ...         & NA          & I           & 300         & NA          & NA          & I           &   290       & NA          & NA          & I          \\\\\n",
       "\t MX000017004 & 1955        & 5           & TMIN        & 200         & NA          & NA          & I           & 160         & NA          & ...         & NA          & I           & 150         & NA          & NA          & I           &   160       & NA          & NA          & I          \\\\\n",
       "\t MX000017004 & 1955        & 5           & PRCP        &   0         & NA          & NA          & I           &   0         & NA          & ...         & NA          & I           &   0         & NA          & NA          & I           &    46       & NA          & NA          & I          \\\\\n",
       "\\end{tabular}\n"
      ],
      "text/markdown": [
       "\n",
       "| id | year | month | element | value_1 | mflag_1 | qflag_1 | sflag_1 | value_2 | mflag_2 | ... | qflag_29 | sflag_29 | value_30 | mflag_30 | qflag_30 | sflag_30 | value_31 | mflag_31 | qflag_31 | sflag_31 |\n",
       "|---|---|---|---|---|---|---|---|---|---|---|---|---|---|---|---|---|---|---|---|---|\n",
       "| MX000017004 | 1955        | 4           | TMAX        | 310         | NA          | NA          | I           | 310         | NA          | ...         | NA          | I           | 320         | NA          | NA          | I           | -9999       | NA          | NA          | NA          |\n",
       "| MX000017004 | 1955        | 4           | TMIN        | 150         | NA          | NA          | I           | 150         | NA          | ...         | NA          | I           | 160         | NA          | NA          | I           | -9999       | NA          | NA          | NA          |\n",
       "| MX000017004 | 1955        | 4           | PRCP        |   0         | NA          | NA          | I           |   0         | NA          | ...         | NA          | I           |   6         | NA          | NA          | I           | -9999       | NA          | NA          | NA          |\n",
       "| MX000017004 | 1955        | 5           | TMAX        | 310         | NA          | NA          | I           | 310         | NA          | ...         | NA          | I           | 300         | NA          | NA          | I           |   290       | NA          | NA          | I           |\n",
       "| MX000017004 | 1955        | 5           | TMIN        | 200         | NA          | NA          | I           | 160         | NA          | ...         | NA          | I           | 150         | NA          | NA          | I           |   160       | NA          | NA          | I           |\n",
       "| MX000017004 | 1955        | 5           | PRCP        |   0         | NA          | NA          | I           |   0         | NA          | ...         | NA          | I           |   0         | NA          | NA          | I           |    46       | NA          | NA          | I           |\n",
       "\n"
      ],
      "text/plain": [
       "  id          year month element value_1 mflag_1 qflag_1 sflag_1 value_2\n",
       "1 MX000017004 1955 4     TMAX    310     NA      NA      I       310    \n",
       "2 MX000017004 1955 4     TMIN    150     NA      NA      I       150    \n",
       "3 MX000017004 1955 4     PRCP      0     NA      NA      I         0    \n",
       "4 MX000017004 1955 5     TMAX    310     NA      NA      I       310    \n",
       "5 MX000017004 1955 5     TMIN    200     NA      NA      I       160    \n",
       "6 MX000017004 1955 5     PRCP      0     NA      NA      I         0    \n",
       "  mflag_2 ... qflag_29 sflag_29 value_30 mflag_30 qflag_30 sflag_30 value_31\n",
       "1 NA      ... NA       I        320      NA       NA       I        -9999   \n",
       "2 NA      ... NA       I        160      NA       NA       I        -9999   \n",
       "3 NA      ... NA       I          6      NA       NA       I        -9999   \n",
       "4 NA      ... NA       I        300      NA       NA       I          290   \n",
       "5 NA      ... NA       I        150      NA       NA       I          160   \n",
       "6 NA      ... NA       I          0      NA       NA       I           46   \n",
       "  mflag_31 qflag_31 sflag_31\n",
       "1 NA       NA       NA      \n",
       "2 NA       NA       NA      \n",
       "3 NA       NA       NA      \n",
       "4 NA       NA       I       \n",
       "5 NA       NA       I       \n",
       "6 NA       NA       I       "
      ]
     },
     "metadata": {},
     "output_type": "display_data"
    }
   ],
   "source": [
    "dim(raw)\n",
    "head(raw)"
   ]
  },
  {
   "cell_type": "code",
   "execution_count": 6,
   "id": "a42910f8",
   "metadata": {},
   "outputs": [],
   "source": [
    "raw <- subset(raw, year == 2010 & element %in% c(\"TMIN\", \"TMAX\"))\n",
    "raw <- raw[, c(1:4, which(str_detect(names(raw), \"value\")))]\n",
    "raw$id <- str_c(str_sub(raw$id, 1, 2), str_sub(raw$id, -5, -1))\n",
    "\n",
    "names(raw)[-(1:4)] <- str_c(\"d\", 1:31)\n",
    "raw[raw == -9999] <- NA\n",
    "raw[-(1:4)] <- raw[-(1:4)] / 10\n",
    "rownames(raw) <- NULL\n",
    "raw$element <- tolower(raw$element)\n"
   ]
  },
  {
   "cell_type": "code",
   "execution_count": 7,
   "id": "d8b0fb0c",
   "metadata": {},
   "outputs": [
    {
     "data": {
      "text/html": [
       "<ol class=list-inline>\n",
       "\t<li>22</li>\n",
       "\t<li>35</li>\n",
       "</ol>\n"
      ],
      "text/latex": [
       "\\begin{enumerate*}\n",
       "\\item 22\n",
       "\\item 35\n",
       "\\end{enumerate*}\n"
      ],
      "text/markdown": [
       "1. 22\n",
       "2. 35\n",
       "\n",
       "\n"
      ],
      "text/plain": [
       "[1] 22 35"
      ]
     },
     "metadata": {},
     "output_type": "display_data"
    },
    {
     "data": {
      "text/html": [
       "<table>\n",
       "<thead><tr><th scope=col>id</th><th scope=col>year</th><th scope=col>month</th><th scope=col>element</th><th scope=col>d1</th><th scope=col>d2</th><th scope=col>d3</th><th scope=col>d4</th><th scope=col>d5</th><th scope=col>d6</th><th scope=col>...</th><th scope=col>d22</th><th scope=col>d23</th><th scope=col>d24</th><th scope=col>d25</th><th scope=col>d26</th><th scope=col>d27</th><th scope=col>d28</th><th scope=col>d29</th><th scope=col>d30</th><th scope=col>d31</th></tr></thead>\n",
       "<tbody>\n",
       "\t<tr><td>MX17004</td><td>2010   </td><td>1      </td><td>tmax   </td><td>NA     </td><td>  NA   </td><td>  NA   </td><td>NA     </td><td>  NA   </td><td>NA     </td><td>...    </td><td>NA     </td><td>  NA   </td><td>NA     </td><td>NA     </td><td>NA     </td><td>NA     </td><td>NA     </td><td>NA     </td><td>27.8   </td><td>NA     </td></tr>\n",
       "\t<tr><td>MX17004</td><td>2010   </td><td>1      </td><td>tmin   </td><td>NA     </td><td>  NA   </td><td>  NA   </td><td>NA     </td><td>  NA   </td><td>NA     </td><td>...    </td><td>NA     </td><td>  NA   </td><td>NA     </td><td>NA     </td><td>NA     </td><td>NA     </td><td>NA     </td><td>NA     </td><td>14.5   </td><td>NA     </td></tr>\n",
       "\t<tr><td>MX17004</td><td>2010   </td><td>2      </td><td>tmax   </td><td>NA     </td><td>27.3   </td><td>24.1   </td><td>NA     </td><td>  NA   </td><td>NA     </td><td>...    </td><td>NA     </td><td>29.9   </td><td>NA     </td><td>NA     </td><td>NA     </td><td>NA     </td><td>NA     </td><td>NA     </td><td>  NA   </td><td>NA     </td></tr>\n",
       "\t<tr><td>MX17004</td><td>2010   </td><td>2      </td><td>tmin   </td><td>NA     </td><td>14.4   </td><td>14.4   </td><td>NA     </td><td>  NA   </td><td>NA     </td><td>...    </td><td>NA     </td><td>10.7   </td><td>NA     </td><td>NA     </td><td>NA     </td><td>NA     </td><td>NA     </td><td>NA     </td><td>  NA   </td><td>NA     </td></tr>\n",
       "\t<tr><td>MX17004</td><td>2010   </td><td>3      </td><td>tmax   </td><td>NA     </td><td>  NA   </td><td>  NA   </td><td>NA     </td><td>32.1   </td><td>NA     </td><td>...    </td><td>NA     </td><td>  NA   </td><td>NA     </td><td>NA     </td><td>NA     </td><td>NA     </td><td>NA     </td><td>NA     </td><td>  NA   </td><td>NA     </td></tr>\n",
       "\t<tr><td>MX17004</td><td>2010   </td><td>3      </td><td>tmin   </td><td>NA     </td><td>  NA   </td><td>  NA   </td><td>NA     </td><td>14.2   </td><td>NA     </td><td>...    </td><td>NA     </td><td>  NA   </td><td>NA     </td><td>NA     </td><td>NA     </td><td>NA     </td><td>NA     </td><td>NA     </td><td>  NA   </td><td>NA     </td></tr>\n",
       "</tbody>\n",
       "</table>\n"
      ],
      "text/latex": [
       "\\begin{tabular}{r|lllllllllllllllllllllllllllllllllll}\n",
       " id & year & month & element & d1 & d2 & d3 & d4 & d5 & d6 & ... & d22 & d23 & d24 & d25 & d26 & d27 & d28 & d29 & d30 & d31\\\\\n",
       "\\hline\n",
       "\t MX17004 & 2010    & 1       & tmax    & NA      &   NA    &   NA    & NA      &   NA    & NA      & ...     & NA      &   NA    & NA      & NA      & NA      & NA      & NA      & NA      & 27.8    & NA     \\\\\n",
       "\t MX17004 & 2010    & 1       & tmin    & NA      &   NA    &   NA    & NA      &   NA    & NA      & ...     & NA      &   NA    & NA      & NA      & NA      & NA      & NA      & NA      & 14.5    & NA     \\\\\n",
       "\t MX17004 & 2010    & 2       & tmax    & NA      & 27.3    & 24.1    & NA      &   NA    & NA      & ...     & NA      & 29.9    & NA      & NA      & NA      & NA      & NA      & NA      &   NA    & NA     \\\\\n",
       "\t MX17004 & 2010    & 2       & tmin    & NA      & 14.4    & 14.4    & NA      &   NA    & NA      & ...     & NA      & 10.7    & NA      & NA      & NA      & NA      & NA      & NA      &   NA    & NA     \\\\\n",
       "\t MX17004 & 2010    & 3       & tmax    & NA      &   NA    &   NA    & NA      & 32.1    & NA      & ...     & NA      &   NA    & NA      & NA      & NA      & NA      & NA      & NA      &   NA    & NA     \\\\\n",
       "\t MX17004 & 2010    & 3       & tmin    & NA      &   NA    &   NA    & NA      & 14.2    & NA      & ...     & NA      &   NA    & NA      & NA      & NA      & NA      & NA      & NA      &   NA    & NA     \\\\\n",
       "\\end{tabular}\n"
      ],
      "text/markdown": [
       "\n",
       "| id | year | month | element | d1 | d2 | d3 | d4 | d5 | d6 | ... | d22 | d23 | d24 | d25 | d26 | d27 | d28 | d29 | d30 | d31 |\n",
       "|---|---|---|---|---|---|---|---|---|---|---|---|---|---|---|---|---|---|---|---|---|\n",
       "| MX17004 | 2010    | 1       | tmax    | NA      |   NA    |   NA    | NA      |   NA    | NA      | ...     | NA      |   NA    | NA      | NA      | NA      | NA      | NA      | NA      | 27.8    | NA      |\n",
       "| MX17004 | 2010    | 1       | tmin    | NA      |   NA    |   NA    | NA      |   NA    | NA      | ...     | NA      |   NA    | NA      | NA      | NA      | NA      | NA      | NA      | 14.5    | NA      |\n",
       "| MX17004 | 2010    | 2       | tmax    | NA      | 27.3    | 24.1    | NA      |   NA    | NA      | ...     | NA      | 29.9    | NA      | NA      | NA      | NA      | NA      | NA      |   NA    | NA      |\n",
       "| MX17004 | 2010    | 2       | tmin    | NA      | 14.4    | 14.4    | NA      |   NA    | NA      | ...     | NA      | 10.7    | NA      | NA      | NA      | NA      | NA      | NA      |   NA    | NA      |\n",
       "| MX17004 | 2010    | 3       | tmax    | NA      |   NA    |   NA    | NA      | 32.1    | NA      | ...     | NA      |   NA    | NA      | NA      | NA      | NA      | NA      | NA      |   NA    | NA      |\n",
       "| MX17004 | 2010    | 3       | tmin    | NA      |   NA    |   NA    | NA      | 14.2    | NA      | ...     | NA      |   NA    | NA      | NA      | NA      | NA      | NA      | NA      |   NA    | NA      |\n",
       "\n"
      ],
      "text/plain": [
       "  id      year month element d1 d2   d3   d4 d5   d6 ... d22 d23  d24 d25 d26\n",
       "1 MX17004 2010 1     tmax    NA   NA   NA NA   NA NA ... NA    NA NA  NA  NA \n",
       "2 MX17004 2010 1     tmin    NA   NA   NA NA   NA NA ... NA    NA NA  NA  NA \n",
       "3 MX17004 2010 2     tmax    NA 27.3 24.1 NA   NA NA ... NA  29.9 NA  NA  NA \n",
       "4 MX17004 2010 2     tmin    NA 14.4 14.4 NA   NA NA ... NA  10.7 NA  NA  NA \n",
       "5 MX17004 2010 3     tmax    NA   NA   NA NA 32.1 NA ... NA    NA NA  NA  NA \n",
       "6 MX17004 2010 3     tmin    NA   NA   NA NA 14.2 NA ... NA    NA NA  NA  NA \n",
       "  d27 d28 d29 d30  d31\n",
       "1 NA  NA  NA  27.8 NA \n",
       "2 NA  NA  NA  14.5 NA \n",
       "3 NA  NA  NA    NA NA \n",
       "4 NA  NA  NA    NA NA \n",
       "5 NA  NA  NA    NA NA \n",
       "6 NA  NA  NA    NA NA "
      ]
     },
     "metadata": {},
     "output_type": "display_data"
    }
   ],
   "source": [
    "dim(raw)\n",
    "head(raw)"
   ]
  },
  {
   "cell_type": "code",
   "execution_count": 8,
   "id": "29d971cc",
   "metadata": {},
   "outputs": [],
   "source": [
    "# Melt and tidy\n",
    "\n",
    "clean1 <- melt(raw, id = 1:4, na.rm = T)\n",
    "clean1$day <- as.integer(str_replace(clean1$variable, \"d\", \"\"))\n",
    "clean1$date <- as.Date(ISOdate(clean1$year, clean1$month, clean1$day))\n",
    "\n",
    "clean1 <- clean1[c(\"id\", \"date\", \"element\", \"value\")]\n",
    "clean1 <- arrange(clean1, date, element)\n"
   ]
  },
  {
   "cell_type": "code",
   "execution_count": 9,
   "id": "b02c17f2",
   "metadata": {},
   "outputs": [
    {
     "data": {
      "text/html": [
       "<ol class=list-inline>\n",
       "\t<li>66</li>\n",
       "\t<li>4</li>\n",
       "</ol>\n"
      ],
      "text/latex": [
       "\\begin{enumerate*}\n",
       "\\item 66\n",
       "\\item 4\n",
       "\\end{enumerate*}\n"
      ],
      "text/markdown": [
       "1. 66\n",
       "2. 4\n",
       "\n",
       "\n"
      ],
      "text/plain": [
       "[1] 66  4"
      ]
     },
     "metadata": {},
     "output_type": "display_data"
    },
    {
     "data": {
      "text/html": [
       "<table>\n",
       "<thead><tr><th scope=col>id</th><th scope=col>date</th><th scope=col>element</th><th scope=col>value</th></tr></thead>\n",
       "<tbody>\n",
       "\t<tr><td>MX17004   </td><td>2010-01-30</td><td>tmax      </td><td>27.8      </td></tr>\n",
       "\t<tr><td>MX17004   </td><td>2010-01-30</td><td>tmin      </td><td>14.5      </td></tr>\n",
       "\t<tr><td>MX17004   </td><td>2010-02-02</td><td>tmax      </td><td>27.3      </td></tr>\n",
       "\t<tr><td>MX17004   </td><td>2010-02-02</td><td>tmin      </td><td>14.4      </td></tr>\n",
       "\t<tr><td>MX17004   </td><td>2010-02-03</td><td>tmax      </td><td>24.1      </td></tr>\n",
       "\t<tr><td>MX17004   </td><td>2010-02-03</td><td>tmin      </td><td>14.4      </td></tr>\n",
       "</tbody>\n",
       "</table>\n"
      ],
      "text/latex": [
       "\\begin{tabular}{r|llll}\n",
       " id & date & element & value\\\\\n",
       "\\hline\n",
       "\t MX17004    & 2010-01-30 & tmax       & 27.8      \\\\\n",
       "\t MX17004    & 2010-01-30 & tmin       & 14.5      \\\\\n",
       "\t MX17004    & 2010-02-02 & tmax       & 27.3      \\\\\n",
       "\t MX17004    & 2010-02-02 & tmin       & 14.4      \\\\\n",
       "\t MX17004    & 2010-02-03 & tmax       & 24.1      \\\\\n",
       "\t MX17004    & 2010-02-03 & tmin       & 14.4      \\\\\n",
       "\\end{tabular}\n"
      ],
      "text/markdown": [
       "\n",
       "| id | date | element | value |\n",
       "|---|---|---|---|\n",
       "| MX17004    | 2010-01-30 | tmax       | 27.8       |\n",
       "| MX17004    | 2010-01-30 | tmin       | 14.5       |\n",
       "| MX17004    | 2010-02-02 | tmax       | 27.3       |\n",
       "| MX17004    | 2010-02-02 | tmin       | 14.4       |\n",
       "| MX17004    | 2010-02-03 | tmax       | 24.1       |\n",
       "| MX17004    | 2010-02-03 | tmin       | 14.4       |\n",
       "\n"
      ],
      "text/plain": [
       "  id      date       element value\n",
       "1 MX17004 2010-01-30 tmax    27.8 \n",
       "2 MX17004 2010-01-30 tmin    14.5 \n",
       "3 MX17004 2010-02-02 tmax    27.3 \n",
       "4 MX17004 2010-02-02 tmin    14.4 \n",
       "5 MX17004 2010-02-03 tmax    24.1 \n",
       "6 MX17004 2010-02-03 tmin    14.4 "
      ]
     },
     "metadata": {},
     "output_type": "display_data"
    }
   ],
   "source": [
    "dim(clean1)\n",
    "head(clean1)"
   ]
  },
  {
   "cell_type": "code",
   "execution_count": 10,
   "id": "b48059a6",
   "metadata": {},
   "outputs": [],
   "source": [
    "# Cast\n",
    "\n",
    "clean2 <- dcast(clean1, ... ~ element)\n"
   ]
  },
  {
   "cell_type": "code",
   "execution_count": 11,
   "id": "75a74427",
   "metadata": {},
   "outputs": [
    {
     "data": {
      "text/html": [
       "<ol class=list-inline>\n",
       "\t<li>33</li>\n",
       "\t<li>4</li>\n",
       "</ol>\n"
      ],
      "text/latex": [
       "\\begin{enumerate*}\n",
       "\\item 33\n",
       "\\item 4\n",
       "\\end{enumerate*}\n"
      ],
      "text/markdown": [
       "1. 33\n",
       "2. 4\n",
       "\n",
       "\n"
      ],
      "text/plain": [
       "[1] 33  4"
      ]
     },
     "metadata": {},
     "output_type": "display_data"
    },
    {
     "data": {
      "text/html": [
       "<table>\n",
       "<thead><tr><th scope=col>id</th><th scope=col>date</th><th scope=col>tmax</th><th scope=col>tmin</th></tr></thead>\n",
       "<tbody>\n",
       "\t<tr><td>MX17004   </td><td>2010-01-30</td><td>27.8      </td><td>14.5      </td></tr>\n",
       "\t<tr><td>MX17004   </td><td>2010-02-02</td><td>27.3      </td><td>14.4      </td></tr>\n",
       "\t<tr><td>MX17004   </td><td>2010-02-03</td><td>24.1      </td><td>14.4      </td></tr>\n",
       "\t<tr><td>MX17004   </td><td>2010-02-11</td><td>29.7      </td><td>13.4      </td></tr>\n",
       "\t<tr><td>MX17004   </td><td>2010-02-23</td><td>29.9      </td><td>10.7      </td></tr>\n",
       "\t<tr><td>MX17004   </td><td>2010-03-05</td><td>32.1      </td><td>14.2      </td></tr>\n",
       "</tbody>\n",
       "</table>\n"
      ],
      "text/latex": [
       "\\begin{tabular}{r|llll}\n",
       " id & date & tmax & tmin\\\\\n",
       "\\hline\n",
       "\t MX17004    & 2010-01-30 & 27.8       & 14.5      \\\\\n",
       "\t MX17004    & 2010-02-02 & 27.3       & 14.4      \\\\\n",
       "\t MX17004    & 2010-02-03 & 24.1       & 14.4      \\\\\n",
       "\t MX17004    & 2010-02-11 & 29.7       & 13.4      \\\\\n",
       "\t MX17004    & 2010-02-23 & 29.9       & 10.7      \\\\\n",
       "\t MX17004    & 2010-03-05 & 32.1       & 14.2      \\\\\n",
       "\\end{tabular}\n"
      ],
      "text/markdown": [
       "\n",
       "| id | date | tmax | tmin |\n",
       "|---|---|---|---|\n",
       "| MX17004    | 2010-01-30 | 27.8       | 14.5       |\n",
       "| MX17004    | 2010-02-02 | 27.3       | 14.4       |\n",
       "| MX17004    | 2010-02-03 | 24.1       | 14.4       |\n",
       "| MX17004    | 2010-02-11 | 29.7       | 13.4       |\n",
       "| MX17004    | 2010-02-23 | 29.9       | 10.7       |\n",
       "| MX17004    | 2010-03-05 | 32.1       | 14.2       |\n",
       "\n"
      ],
      "text/plain": [
       "  id      date       tmax tmin\n",
       "1 MX17004 2010-01-30 27.8 14.5\n",
       "2 MX17004 2010-02-02 27.3 14.4\n",
       "3 MX17004 2010-02-03 24.1 14.4\n",
       "4 MX17004 2010-02-11 29.7 13.4\n",
       "5 MX17004 2010-02-23 29.9 10.7\n",
       "6 MX17004 2010-03-05 32.1 14.2"
      ]
     },
     "metadata": {},
     "output_type": "display_data"
    }
   ],
   "source": [
    "dim(clean2)\n",
    "head(clean2)"
   ]
  }
 ],
 "metadata": {
  "kernelspec": {
   "display_name": "R",
   "language": "R",
   "name": "ir"
  },
  "language_info": {
   "codemirror_mode": "r",
   "file_extension": ".r",
   "mimetype": "text/x-r-source",
   "name": "R",
   "pygments_lexer": "r",
   "version": "3.6.1"
  }
 },
 "nbformat": 4,
 "nbformat_minor": 5
}
