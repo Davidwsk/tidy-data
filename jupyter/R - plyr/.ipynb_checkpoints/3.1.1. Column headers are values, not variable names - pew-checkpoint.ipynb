{
 "cells": [
  {
   "cell_type": "markdown",
   "id": "62ccdb83",
   "metadata": {},
   "source": [
    "# 3.1.1. Column headers are values, not variable names - pew"
   ]
  },
  {
   "cell_type": "code",
   "execution_count": 1,
   "id": "856317ea",
   "metadata": {},
   "outputs": [
    {
     "name": "stderr",
     "output_type": "stream",
     "text": [
      "re-encoding from CP1252\n",
      "Warning message in read.spss(\"../../data/pew.sav\"):\n",
      "\"Undeclared level(s) 2, 3, 4, 9 added in variable: density3\"Warning message in read.spss(\"../../data/pew.sav\"):\n",
      "\"Duplicated levels in factor denom:  Electronic ministries \"Warning message in read.spss(\"../../data/pew.sav\"):\n",
      "\"Undeclared level(s) 1, 2, 3, 4, 5, 6, 7, 8, 9, 10, 11, 12, 14, 16, 23, 33 added in variable: children\"Warning message in read.spss(\"../../data/pew.sav\"):\n",
      "\"Undeclared level(s) 18, 19, 20, 21, 22, 23, 24, 25, 26, 27, 28, 29, 30, 31, 32, 33, 34, 35, 36, 37, 38, 39, 40, 41, 42, 43, 44, 45, 46, 47, 48, 49, 50, 51, 52, 53, 54, 55, 56, 57, 58, 59, 60, 61, 62, 63, 64, 65, 66, 67, 68, 69, 70, 71, 72, 73, 74, 75, 76, 77, 78, 79, 80, 81, 82, 83, 84, 85, 86, 87, 88, 89, 90, 91, 92, 93, 94, 95, 96 added in variable: age\""
     ]
    }
   ],
   "source": [
    "library(foreign)\n",
    "library(stringr)\n",
    "library(plyr)\n",
    "library(reshape2)\n",
    "\n",
    "# Data from http://pewforum.org/Datasets/Dataset-Download.aspx\n",
    "\n",
    "# Load data -----------------------------------------------------------------\n",
    "\n",
    "pew <- read.spss(\"../../data/pew.sav\")\n",
    "pew <- as.data.frame(pew)\n"
   ]
  },
  {
   "cell_type": "code",
   "execution_count": 2,
   "id": "60c24f7a",
   "metadata": {},
   "outputs": [
    {
     "data": {
      "text/html": [
       "<ol class=list-inline>\n",
       "\t<li>35556</li>\n",
       "\t<li>135</li>\n",
       "</ol>\n"
      ],
      "text/latex": [
       "\\begin{enumerate*}\n",
       "\\item 35556\n",
       "\\item 135\n",
       "\\end{enumerate*}\n"
      ],
      "text/markdown": [
       "1. 35556\n",
       "2. 135\n",
       "\n",
       "\n"
      ],
      "text/plain": [
       "[1] 35556   135"
      ]
     },
     "metadata": {},
     "output_type": "display_data"
    },
    {
     "data": {
      "text/html": [
       "<table>\n",
       "<thead><tr><th scope=col>weight</th><th scope=col>psraid</th><th scope=col>int_date</th><th scope=col>lang</th><th scope=col>type</th><th scope=col>cregion</th><th scope=col>state</th><th scope=col>usr</th><th scope=col>usr1</th><th scope=col>form</th><th scope=col>...</th><th scope=col>q63</th><th scope=col>educ</th><th scope=col>income</th><th scope=col>regist</th><th scope=col>regicert</th><th scope=col>party</th><th scope=col>partyln</th><th scope=col>ideo</th><th scope=col>pvote04a</th><th scope=col>pvote04b</th></tr></thead>\n",
       "<tbody>\n",
       "\t<tr><td>4.512821                                                    </td><td>10000001                                                    </td><td>50807                                                       </td><td>English                                                     </td><td>RDD                                                         </td><td>Northeast                                                   </td><td>Connecticut                                                 </td><td>Suburban                                                    </td><td>Suburban                                                    </td><td>Form A                                                      </td><td>...                                                         </td><td>Yes, father born outside U.S.                               </td><td>Technical, trade, or vocational school AFTER high school    </td><td>75 to under $100,000                                        </td><td>Yes, registered                                             </td><td>Absolutely certain                                          </td><td>Republican                                                  </td><td>NA                                                          </td><td>Moderate                                                    </td><td>Voted                                                       </td><td>Bush                                                        </td></tr>\n",
       "\t<tr><td>2.102564                                                    </td><td>10000002                                                    </td><td>50807                                                       </td><td>English                                                     </td><td>RDD                                                         </td><td>Northeast                                                   </td><td>Maine                                                       </td><td>Rural                                                       </td><td>Rural                                                       </td><td>Form B                                                      </td><td>...                                                         </td><td>No, both parents born in U.S.                               </td><td>High school graduate (Grade 12 or GED certificate)          </td><td>20 to under $30,000                                         </td><td>No, not registered                                          </td><td>NA                                                          </td><td>Republican                                                  </td><td>NA                                                          </td><td>Conservative                                                </td><td>Did not vote (includes too young to vote)                   </td><td>NA                                                          </td></tr>\n",
       "\t<tr><td>1.282051                                                    </td><td>10000003                                                    </td><td>50807                                                       </td><td>English                                                     </td><td>RDD                                                         </td><td>Northeast                                                   </td><td>Maine                                                       </td><td>Rural                                                       </td><td>Rural                                                       </td><td>Form A                                                      </td><td>...                                                         </td><td>No, both parents born in U.S.                               </td><td>College graduate (B.S., B.A., or other 4-year degree)       </td><td>30 to under $40,000                                         </td><td>No, not registered                                          </td><td>NA                                                          </td><td>Independent                                                 </td><td>Democrat                                                    </td><td>Conservative                                                </td><td>Did not vote (includes too young to vote)                   </td><td>NA                                                          </td></tr>\n",
       "\t<tr><td>1.355323                                                    </td><td>10000004                                                    </td><td>50807                                                       </td><td>English                                                     </td><td>RDD                                                         </td><td>Northeast                                                   </td><td>Maine                                                       </td><td>Rural                                                       </td><td>Rural                                                       </td><td>Form B                                                      </td><td>...                                                         </td><td>No, both parents born in U.S.                               </td><td>Some college, no 4-year degree (including associate degree) </td><td>Less than $10,000                                           </td><td>No, not registered                                          </td><td>NA                                                          </td><td>Independent                                                 </td><td>Democrat                                                    </td><td>Moderate                                                    </td><td>Did not vote (includes too young to vote)                   </td><td>NA                                                          </td></tr>\n",
       "\t<tr><td>1.589744                                                    </td><td>10000005                                                    </td><td>50807                                                       </td><td>English                                                     </td><td>RDD                                                         </td><td>Northeast                                                   </td><td>New York                                                    </td><td>Urban                                                       </td><td>Urban                                                       </td><td>Form A                                                      </td><td>...                                                         </td><td>Yes, father born outside U.S.                               </td><td>Post-graduate training or professional schooling after colle</td><td>50 to under $75,000                                         </td><td>Yes, registered                                             </td><td>Absolutely certain                                          </td><td>Independent                                                 </td><td>Democrat                                                    </td><td>Moderate                                                    </td><td>Voted                                                       </td><td>Other candidate                                             </td></tr>\n",
       "\t<tr><td>1.410256                                                    </td><td>10000007                                                    </td><td>61507                                                       </td><td>English                                                     </td><td>RDD                                                         </td><td>Northeast                                                   </td><td>New York                                                    </td><td>Urban                                                       </td><td>Urban                                                       </td><td>Form A                                                      </td><td>...                                                         </td><td>NA                                                          </td><td>Post-graduate training or professional schooling after colle</td><td>20 to under $30,000                                         </td><td>Yes, registered                                             </td><td>Absolutely certain                                          </td><td>Democrat                                                    </td><td>NA                                                          </td><td>Very liberal                                                </td><td>Voted                                                       </td><td>Kerry                                                       </td></tr>\n",
       "</tbody>\n",
       "</table>\n"
      ],
      "text/latex": [
       "\\begin{tabular}{r|lllllllllllllllllllllllllllllllllllllllllllllllllllllllllllllllllllllllllllllllllllllllllllllllllllllllllllllllllllllllllllllllllllllll}\n",
       " weight & psraid & int\\_date & lang & type & cregion & state & usr & usr1 & form & ... & q63 & educ & income & regist & regicert & party & partyln & ideo & pvote04a & pvote04b\\\\\n",
       "\\hline\n",
       "\t 4.512821                                                     & 10000001                                                     & 50807                                                        & English                                                      & RDD                                                          & Northeast                                                    & Connecticut                                                  & Suburban                                                     & Suburban                                                     & Form A                                                       & ...                                                          & Yes, father born outside U.S.                                & Technical, trade, or vocational school AFTER high school     & 75 to under \\$100,000                                       & Yes, registered                                              & Absolutely certain                                           & Republican                                                   & NA                                                           & Moderate                                                     & Voted                                                        & Bush                                                        \\\\\n",
       "\t 2.102564                                                     & 10000002                                                     & 50807                                                        & English                                                      & RDD                                                          & Northeast                                                    & Maine                                                        & Rural                                                        & Rural                                                        & Form B                                                       & ...                                                          & No, both parents born in U.S.                                & High school graduate (Grade 12 or GED certificate)           & 20 to under \\$30,000                                        & No, not registered                                           & NA                                                           & Republican                                                   & NA                                                           & Conservative                                                 & Did not vote (includes too young to vote)                    & NA                                                          \\\\\n",
       "\t 1.282051                                                     & 10000003                                                     & 50807                                                        & English                                                      & RDD                                                          & Northeast                                                    & Maine                                                        & Rural                                                        & Rural                                                        & Form A                                                       & ...                                                          & No, both parents born in U.S.                                & College graduate (B.S., B.A., or other 4-year degree)        & 30 to under \\$40,000                                        & No, not registered                                           & NA                                                           & Independent                                                  & Democrat                                                     & Conservative                                                 & Did not vote (includes too young to vote)                    & NA                                                          \\\\\n",
       "\t 1.355323                                                     & 10000004                                                     & 50807                                                        & English                                                      & RDD                                                          & Northeast                                                    & Maine                                                        & Rural                                                        & Rural                                                        & Form B                                                       & ...                                                          & No, both parents born in U.S.                                & Some college, no 4-year degree (including associate degree)  & Less than \\$10,000                                          & No, not registered                                           & NA                                                           & Independent                                                  & Democrat                                                     & Moderate                                                     & Did not vote (includes too young to vote)                    & NA                                                          \\\\\n",
       "\t 1.589744                                                     & 10000005                                                     & 50807                                                        & English                                                      & RDD                                                          & Northeast                                                    & New York                                                     & Urban                                                        & Urban                                                        & Form A                                                       & ...                                                          & Yes, father born outside U.S.                                & Post-graduate training or professional schooling after colle & 50 to under \\$75,000                                        & Yes, registered                                              & Absolutely certain                                           & Independent                                                  & Democrat                                                     & Moderate                                                     & Voted                                                        & Other candidate                                             \\\\\n",
       "\t 1.410256                                                     & 10000007                                                     & 61507                                                        & English                                                      & RDD                                                          & Northeast                                                    & New York                                                     & Urban                                                        & Urban                                                        & Form A                                                       & ...                                                          & NA                                                           & Post-graduate training or professional schooling after colle & 20 to under \\$30,000                                        & Yes, registered                                              & Absolutely certain                                           & Democrat                                                     & NA                                                           & Very liberal                                                 & Voted                                                        & Kerry                                                       \\\\\n",
       "\\end{tabular}\n"
      ],
      "text/markdown": [
       "\n",
       "| weight | psraid | int_date | lang | type | cregion | state | usr | usr1 | form | ... | q63 | educ | income | regist | regicert | party | partyln | ideo | pvote04a | pvote04b |\n",
       "|---|---|---|---|---|---|---|---|---|---|---|---|---|---|---|---|---|---|---|---|---|\n",
       "| 4.512821                                                     | 10000001                                                     | 50807                                                        | English                                                      | RDD                                                          | Northeast                                                    | Connecticut                                                  | Suburban                                                     | Suburban                                                     | Form A                                                       | ...                                                          | Yes, father born outside U.S.                                | Technical, trade, or vocational school AFTER high school     | 75 to under $100,000                                         | Yes, registered                                              | Absolutely certain                                           | Republican                                                   | NA                                                           | Moderate                                                     | Voted                                                        | Bush                                                         |\n",
       "| 2.102564                                                     | 10000002                                                     | 50807                                                        | English                                                      | RDD                                                          | Northeast                                                    | Maine                                                        | Rural                                                        | Rural                                                        | Form B                                                       | ...                                                          | No, both parents born in U.S.                                | High school graduate (Grade 12 or GED certificate)           | 20 to under $30,000                                          | No, not registered                                           | NA                                                           | Republican                                                   | NA                                                           | Conservative                                                 | Did not vote (includes too young to vote)                    | NA                                                           |\n",
       "| 1.282051                                                     | 10000003                                                     | 50807                                                        | English                                                      | RDD                                                          | Northeast                                                    | Maine                                                        | Rural                                                        | Rural                                                        | Form A                                                       | ...                                                          | No, both parents born in U.S.                                | College graduate (B.S., B.A., or other 4-year degree)        | 30 to under $40,000                                          | No, not registered                                           | NA                                                           | Independent                                                  | Democrat                                                     | Conservative                                                 | Did not vote (includes too young to vote)                    | NA                                                           |\n",
       "| 1.355323                                                     | 10000004                                                     | 50807                                                        | English                                                      | RDD                                                          | Northeast                                                    | Maine                                                        | Rural                                                        | Rural                                                        | Form B                                                       | ...                                                          | No, both parents born in U.S.                                | Some college, no 4-year degree (including associate degree)  | Less than $10,000                                            | No, not registered                                           | NA                                                           | Independent                                                  | Democrat                                                     | Moderate                                                     | Did not vote (includes too young to vote)                    | NA                                                           |\n",
       "| 1.589744                                                     | 10000005                                                     | 50807                                                        | English                                                      | RDD                                                          | Northeast                                                    | New York                                                     | Urban                                                        | Urban                                                        | Form A                                                       | ...                                                          | Yes, father born outside U.S.                                | Post-graduate training or professional schooling after colle | 50 to under $75,000                                          | Yes, registered                                              | Absolutely certain                                           | Independent                                                  | Democrat                                                     | Moderate                                                     | Voted                                                        | Other candidate                                              |\n",
       "| 1.410256                                                     | 10000007                                                     | 61507                                                        | English                                                      | RDD                                                          | Northeast                                                    | New York                                                     | Urban                                                        | Urban                                                        | Form A                                                       | ...                                                          | NA                                                           | Post-graduate training or professional schooling after colle | 20 to under $30,000                                          | Yes, registered                                              | Absolutely certain                                           | Democrat                                                     | NA                                                           | Very liberal                                                 | Voted                                                        | Kerry                                                        |\n",
       "\n"
      ],
      "text/plain": [
       "  weight   psraid   int_date lang    type cregion   state       usr     \n",
       "1 4.512821 10000001 50807    English RDD  Northeast Connecticut Suburban\n",
       "2 2.102564 10000002 50807    English RDD  Northeast Maine       Rural   \n",
       "3 1.282051 10000003 50807    English RDD  Northeast Maine       Rural   \n",
       "4 1.355323 10000004 50807    English RDD  Northeast Maine       Rural   \n",
       "5 1.589744 10000005 50807    English RDD  Northeast New York    Urban   \n",
       "6 1.410256 10000007 61507    English RDD  Northeast New York    Urban   \n",
       "  usr1     form   ... q63                          \n",
       "1 Suburban Form A ... Yes, father born outside U.S.\n",
       "2 Rural    Form B ... No, both parents born in U.S.\n",
       "3 Rural    Form A ... No, both parents born in U.S.\n",
       "4 Rural    Form B ... No, both parents born in U.S.\n",
       "5 Urban    Form A ... Yes, father born outside U.S.\n",
       "6 Urban    Form A ... NA                           \n",
       "  educ                                                        \n",
       "1 Technical, trade, or vocational school AFTER high school    \n",
       "2 High school graduate (Grade 12 or GED certificate)          \n",
       "3 College graduate (B.S., B.A., or other 4-year degree)       \n",
       "4 Some college, no 4-year degree (including associate degree) \n",
       "5 Post-graduate training or professional schooling after colle\n",
       "6 Post-graduate training or professional schooling after colle\n",
       "  income               regist             regicert           party      \n",
       "1 75 to under $100,000 Yes, registered    Absolutely certain Republican \n",
       "2 20 to under $30,000  No, not registered NA                 Republican \n",
       "3 30 to under $40,000  No, not registered NA                 Independent\n",
       "4 Less than $10,000    No, not registered NA                 Independent\n",
       "5 50 to under $75,000  Yes, registered    Absolutely certain Independent\n",
       "6 20 to under $30,000  Yes, registered    Absolutely certain Democrat   \n",
       "  partyln  ideo         pvote04a                                 \n",
       "1 NA       Moderate     Voted                                    \n",
       "2 NA       Conservative Did not vote (includes too young to vote)\n",
       "3 Democrat Conservative Did not vote (includes too young to vote)\n",
       "4 Democrat Moderate     Did not vote (includes too young to vote)\n",
       "5 Democrat Moderate     Voted                                    \n",
       "6 NA       Very liberal Voted                                    \n",
       "  pvote04b       \n",
       "1 Bush           \n",
       "2 NA             \n",
       "3 NA             \n",
       "4 NA             \n",
       "5 Other candidate\n",
       "6 Kerry          "
      ]
     },
     "metadata": {},
     "output_type": "display_data"
    }
   ],
   "source": [
    "dim(pew)\n",
    "head(pew)"
   ]
  },
  {
   "cell_type": "code",
   "execution_count": 3,
   "id": "887dab08",
   "metadata": {},
   "outputs": [],
   "source": [
    "religion <- pew[c(\"q16\", \"reltrad\", \"income\")]\n",
    "religion$reltrad <- as.character(religion$reltrad)\n",
    "religion$reltrad <- str_replace(religion$reltrad, \" Churches\", \"\")\n",
    "religion$reltrad <- str_replace(religion$reltrad, \" Protestant\", \" Prot\")\n",
    "religion$reltrad[religion$q16 == \" Atheist (do not believe in God) \"] <- \"Atheist\"\n",
    "religion$reltrad[religion$q16 == \" Agnostic (not sure if there is a God) \"] <- \"Agnostic\"\n",
    "religion$reltrad <- str_trim(religion$reltrad)\n",
    "religion$reltrad <- str_replace_all(religion$reltrad, \" \\\\(.*?\\\\)\", \"\")\n"
   ]
  },
  {
   "cell_type": "code",
   "execution_count": 4,
   "id": "ce64a3f0",
   "metadata": {},
   "outputs": [
    {
     "data": {
      "text/html": [
       "<ol class=list-inline>\n",
       "\t<li>35556</li>\n",
       "\t<li>3</li>\n",
       "</ol>\n"
      ],
      "text/latex": [
       "\\begin{enumerate*}\n",
       "\\item 35556\n",
       "\\item 3\n",
       "\\end{enumerate*}\n"
      ],
      "text/markdown": [
       "1. 35556\n",
       "2. 3\n",
       "\n",
       "\n"
      ],
      "text/plain": [
       "[1] 35556     3"
      ]
     },
     "metadata": {},
     "output_type": "display_data"
    },
    {
     "data": {
      "text/html": [
       "<table>\n",
       "<thead><tr><th scope=col>q16</th><th scope=col>reltrad</th><th scope=col>income</th></tr></thead>\n",
       "<tbody>\n",
       "\t<tr><td> Protestant            </td><td>Evangelical Prot       </td><td>75 to under $100,000   </td></tr>\n",
       "\t<tr><td> Protestant            </td><td>Mainline Prot          </td><td>20 to under $30,000    </td></tr>\n",
       "\t<tr><td> Protestant            </td><td>Mainline Prot          </td><td>30 to under $40,000    </td></tr>\n",
       "\t<tr><td> Nothing in particular </td><td>Unaffiliated           </td><td>Less than $10,000      </td></tr>\n",
       "\t<tr><td> Jewish (Judaism)      </td><td>Jewish                 </td><td>50 to under $75,000    </td></tr>\n",
       "\t<tr><td> Jewish (Judaism)      </td><td>Jewish                 </td><td>20 to under $30,000    </td></tr>\n",
       "</tbody>\n",
       "</table>\n"
      ],
      "text/latex": [
       "\\begin{tabular}{r|lll}\n",
       " q16 & reltrad & income\\\\\n",
       "\\hline\n",
       "\t  Protestant             & Evangelical Prot        & 75 to under \\$100,000 \\\\\n",
       "\t  Protestant             & Mainline Prot           & 20 to under \\$30,000  \\\\\n",
       "\t  Protestant             & Mainline Prot           & 30 to under \\$40,000  \\\\\n",
       "\t  Nothing in particular  & Unaffiliated            & Less than \\$10,000    \\\\\n",
       "\t  Jewish (Judaism)       & Jewish                  & 50 to under \\$75,000  \\\\\n",
       "\t  Jewish (Judaism)       & Jewish                  & 20 to under \\$30,000  \\\\\n",
       "\\end{tabular}\n"
      ],
      "text/markdown": [
       "\n",
       "| q16 | reltrad | income |\n",
       "|---|---|---|\n",
       "|  Protestant             | Evangelical Prot        | 75 to under $100,000    |\n",
       "|  Protestant             | Mainline Prot           | 20 to under $30,000     |\n",
       "|  Protestant             | Mainline Prot           | 30 to under $40,000     |\n",
       "|  Nothing in particular  | Unaffiliated            | Less than $10,000       |\n",
       "|  Jewish (Judaism)       | Jewish                  | 50 to under $75,000     |\n",
       "|  Jewish (Judaism)       | Jewish                  | 20 to under $30,000     |\n",
       "\n"
      ],
      "text/plain": [
       "  q16                     reltrad          income              \n",
       "1  Protestant             Evangelical Prot 75 to under $100,000\n",
       "2  Protestant             Mainline Prot    20 to under $30,000 \n",
       "3  Protestant             Mainline Prot    30 to under $40,000 \n",
       "4  Nothing in particular  Unaffiliated     Less than $10,000   \n",
       "5  Jewish (Judaism)       Jewish           50 to under $75,000 \n",
       "6  Jewish (Judaism)       Jewish           20 to under $30,000 "
      ]
     },
     "metadata": {},
     "output_type": "display_data"
    }
   ],
   "source": [
    "dim(religion)\n",
    "head(religion)"
   ]
  },
  {
   "cell_type": "code",
   "execution_count": 5,
   "id": "fa0a4537",
   "metadata": {},
   "outputs": [],
   "source": [
    "religion$income <- c(\"Less than $10,000\" = \"<$10k\", \n",
    "  \"10 to under $20,000\" = \"$10-20k\", \n",
    "  \"20 to under $30,000\" = \"$20-30k\", \n",
    "  \"30 to under $40,000\" = \"$30-40k\", \n",
    "  \"40 to under $50,000\" = \"$40-50k\", \n",
    "  \"50 to under $75,000\" = \"$50-75k\",\n",
    "  \"75 to under $100,000\" = \"$75-100k\", \n",
    "  \"100 to under $150,000\" = \"$100-150k\", \n",
    "  \"$150,000 or more\" = \">150k\", \n",
    "  \"Don't know/Refused (VOL)\" = \"Don't know/refused\")[religion$income]\n",
    "\n",
    "religion$income <- factor(religion$income, levels = c(\"<$10k\", \"$10-20k\", \"$20-30k\", \"$30-40k\", \"$40-50k\", \"$50-75k\", \n",
    "  \"$75-100k\", \"$100-150k\", \">150k\", \"Don't know/refused\"))\n"
   ]
  },
  {
   "cell_type": "code",
   "execution_count": 6,
   "id": "e09710e9",
   "metadata": {},
   "outputs": [
    {
     "data": {
      "text/html": [
       "<ol class=list-inline>\n",
       "\t<li>35556</li>\n",
       "\t<li>3</li>\n",
       "</ol>\n"
      ],
      "text/latex": [
       "\\begin{enumerate*}\n",
       "\\item 35556\n",
       "\\item 3\n",
       "\\end{enumerate*}\n"
      ],
      "text/markdown": [
       "1. 35556\n",
       "2. 3\n",
       "\n",
       "\n"
      ],
      "text/plain": [
       "[1] 35556     3"
      ]
     },
     "metadata": {},
     "output_type": "display_data"
    },
    {
     "data": {
      "text/html": [
       "<table>\n",
       "<thead><tr><th scope=col>q16</th><th scope=col>reltrad</th><th scope=col>income</th></tr></thead>\n",
       "<tbody>\n",
       "\t<tr><td> Protestant            </td><td>Evangelical Prot       </td><td>$75-100k               </td></tr>\n",
       "\t<tr><td> Protestant            </td><td>Mainline Prot          </td><td>$20-30k                </td></tr>\n",
       "\t<tr><td> Protestant            </td><td>Mainline Prot          </td><td>$30-40k                </td></tr>\n",
       "\t<tr><td> Nothing in particular                                  </td><td><span style=white-space:pre-wrap>Unaffiliated    </span></td><td><span style=white-space:pre-wrap>&lt;$10k   </span>     </td></tr>\n",
       "\t<tr><td> Jewish (Judaism)      </td><td>Jewish                 </td><td>$50-75k                </td></tr>\n",
       "\t<tr><td> Jewish (Judaism)      </td><td>Jewish                 </td><td>$20-30k                </td></tr>\n",
       "</tbody>\n",
       "</table>\n"
      ],
      "text/latex": [
       "\\begin{tabular}{r|lll}\n",
       " q16 & reltrad & income\\\\\n",
       "\\hline\n",
       "\t  Protestant             & Evangelical Prot        & \\$75-100k             \\\\\n",
       "\t  Protestant             & Mainline Prot           & \\$20-30k              \\\\\n",
       "\t  Protestant             & Mainline Prot           & \\$30-40k              \\\\\n",
       "\t  Nothing in particular  & Unaffiliated            & <\\$10k                \\\\\n",
       "\t  Jewish (Judaism)       & Jewish                  & \\$50-75k              \\\\\n",
       "\t  Jewish (Judaism)       & Jewish                  & \\$20-30k              \\\\\n",
       "\\end{tabular}\n"
      ],
      "text/markdown": [
       "\n",
       "| q16 | reltrad | income |\n",
       "|---|---|---|\n",
       "|  Protestant             | Evangelical Prot        | $75-100k                |\n",
       "|  Protestant             | Mainline Prot           | $20-30k                 |\n",
       "|  Protestant             | Mainline Prot           | $30-40k                 |\n",
       "|  Nothing in particular  | Unaffiliated            | <$10k                   |\n",
       "|  Jewish (Judaism)       | Jewish                  | $50-75k                 |\n",
       "|  Jewish (Judaism)       | Jewish                  | $20-30k                 |\n",
       "\n"
      ],
      "text/plain": [
       "  q16                     reltrad          income  \n",
       "1  Protestant             Evangelical Prot $75-100k\n",
       "2  Protestant             Mainline Prot    $20-30k \n",
       "3  Protestant             Mainline Prot    $30-40k \n",
       "4  Nothing in particular  Unaffiliated     <$10k   \n",
       "5  Jewish (Judaism)       Jewish           $50-75k \n",
       "6  Jewish (Judaism)       Jewish           $20-30k "
      ]
     },
     "metadata": {},
     "output_type": "display_data"
    }
   ],
   "source": [
    "dim(religion)\n",
    "head(religion)"
   ]
  },
  {
   "cell_type": "code",
   "execution_count": 7,
   "id": "c3ff5fef",
   "metadata": {},
   "outputs": [],
   "source": [
    "counts <- count(religion, c(\"reltrad\", \"income\"))\n",
    "names(counts)[1] <- \"religion\"\n"
   ]
  },
  {
   "cell_type": "code",
   "execution_count": 8,
   "id": "c63199e6",
   "metadata": {},
   "outputs": [
    {
     "data": {
      "text/html": [
       "<ol class=list-inline>\n",
       "\t<li>180</li>\n",
       "\t<li>3</li>\n",
       "</ol>\n"
      ],
      "text/latex": [
       "\\begin{enumerate*}\n",
       "\\item 180\n",
       "\\item 3\n",
       "\\end{enumerate*}\n"
      ],
      "text/markdown": [
       "1. 180\n",
       "2. 3\n",
       "\n",
       "\n"
      ],
      "text/plain": [
       "[1] 180   3"
      ]
     },
     "metadata": {},
     "output_type": "display_data"
    },
    {
     "data": {
      "text/html": [
       "<table>\n",
       "<thead><tr><th scope=col>religion</th><th scope=col>income</th><th scope=col>freq</th></tr></thead>\n",
       "<tbody>\n",
       "\t<tr><td>Agnostic                                          </td><td><span style=white-space:pre-wrap>&lt;$10k  </span></td><td> 27                                               </td></tr>\n",
       "\t<tr><td>Agnostic</td><td>$10-20k </td><td> 34     </td></tr>\n",
       "\t<tr><td>Agnostic</td><td>$20-30k </td><td> 60     </td></tr>\n",
       "\t<tr><td>Agnostic</td><td>$30-40k </td><td> 81     </td></tr>\n",
       "\t<tr><td>Agnostic</td><td>$40-50k </td><td> 76     </td></tr>\n",
       "\t<tr><td>Agnostic</td><td>$50-75k </td><td>137     </td></tr>\n",
       "</tbody>\n",
       "</table>\n"
      ],
      "text/latex": [
       "\\begin{tabular}{r|lll}\n",
       " religion & income & freq\\\\\n",
       "\\hline\n",
       "\t Agnostic  & <\\$10k   &  27      \\\\\n",
       "\t Agnostic  & \\$10-20k &  34      \\\\\n",
       "\t Agnostic  & \\$20-30k &  60      \\\\\n",
       "\t Agnostic  & \\$30-40k &  81      \\\\\n",
       "\t Agnostic  & \\$40-50k &  76      \\\\\n",
       "\t Agnostic  & \\$50-75k & 137      \\\\\n",
       "\\end{tabular}\n"
      ],
      "text/markdown": [
       "\n",
       "| religion | income | freq |\n",
       "|---|---|---|\n",
       "| Agnostic | <$10k    |  27      |\n",
       "| Agnostic | $10-20k  |  34      |\n",
       "| Agnostic | $20-30k  |  60      |\n",
       "| Agnostic | $30-40k  |  81      |\n",
       "| Agnostic | $40-50k  |  76      |\n",
       "| Agnostic | $50-75k  | 137      |\n",
       "\n"
      ],
      "text/plain": [
       "  religion income  freq\n",
       "1 Agnostic <$10k    27 \n",
       "2 Agnostic $10-20k  34 \n",
       "3 Agnostic $20-30k  60 \n",
       "4 Agnostic $30-40k  81 \n",
       "5 Agnostic $40-50k  76 \n",
       "6 Agnostic $50-75k 137 "
      ]
     },
     "metadata": {},
     "output_type": "display_data"
    }
   ],
   "source": [
    "dim(counts)\n",
    "head(counts)"
   ]
  },
  {
   "cell_type": "code",
   "execution_count": 9,
   "id": "b1bd0127",
   "metadata": {},
   "outputs": [],
   "source": [
    "# Convert into the form in which I originally saw it -------------------------\n",
    "\n",
    "raw <- dcast(counts, religion ~ income, value.var = \"freq\")\n"
   ]
  },
  {
   "cell_type": "code",
   "execution_count": 10,
   "id": "dcafaf90",
   "metadata": {},
   "outputs": [
    {
     "data": {
      "text/html": [
       "<table>\n",
       "<thead><tr><th scope=col>religion</th><th scope=col>&lt;$10k</th><th scope=col>$10-20k</th><th scope=col>$20-30k</th><th scope=col>$30-40k</th><th scope=col>$40-50k</th><th scope=col>$50-75k</th><th scope=col>$75-100k</th><th scope=col>$100-150k</th><th scope=col>&gt;150k</th><th scope=col>Don't know/refused</th></tr></thead>\n",
       "<tbody>\n",
       "\t<tr><td>Agnostic               </td><td> 27                    </td><td> 34                    </td><td>  60                   </td><td> 81                    </td><td> 76                    </td><td> 137                   </td><td>122                    </td><td>109                    </td><td> 84                    </td><td>  96                   </td></tr>\n",
       "\t<tr><td>Atheist                </td><td> 12                    </td><td> 27                    </td><td>  37                   </td><td> 52                    </td><td> 35                    </td><td>  70                   </td><td> 73                    </td><td> 59                    </td><td> 74                    </td><td>  76                   </td></tr>\n",
       "\t<tr><td>Buddhist               </td><td> 27                    </td><td> 21                    </td><td>  30                   </td><td> 34                    </td><td> 33                    </td><td>  58                   </td><td> 62                    </td><td> 39                    </td><td> 53                    </td><td>  54                   </td></tr>\n",
       "\t<tr><td>Catholic               </td><td>418                    </td><td>617                    </td><td> 732                   </td><td>670                    </td><td>638                    </td><td>1116                   </td><td>949                    </td><td>792                    </td><td>633                    </td><td>1489                   </td></tr>\n",
       "\t<tr><td>Don’t know/refused     </td><td> 15                    </td><td> 14                    </td><td>  15                   </td><td> 11                    </td><td> 10                    </td><td>  35                   </td><td> 21                    </td><td> 17                    </td><td> 18                    </td><td> 116                   </td></tr>\n",
       "\t<tr><td>Evangelical Prot       </td><td>575                    </td><td>869                    </td><td>1064                   </td><td>982                    </td><td>881                    </td><td>1486                   </td><td>949                    </td><td>723                    </td><td>414                    </td><td>1529                   </td></tr>\n",
       "\t<tr><td>Hindu                  </td><td>  1                    </td><td>  9                    </td><td>   7                   </td><td>  9                    </td><td> 11                    </td><td>  34                   </td><td> 47                    </td><td> 48                    </td><td> 54                    </td><td>  37                   </td></tr>\n",
       "\t<tr><td>Historically Black Prot</td><td>228                    </td><td>244                    </td><td> 236                   </td><td>238                    </td><td>197                    </td><td> 223                   </td><td>131                    </td><td> 81                    </td><td> 78                    </td><td> 339                   </td></tr>\n",
       "\t<tr><td>Jehovah's Witness      </td><td> 20                    </td><td> 27                    </td><td>  24                   </td><td> 24                    </td><td> 21                    </td><td>  30                   </td><td> 15                    </td><td> 11                    </td><td>  6                    </td><td>  37                   </td></tr>\n",
       "\t<tr><td>Jewish                 </td><td> 19                    </td><td> 19                    </td><td>  25                   </td><td> 25                    </td><td> 30                    </td><td>  95                   </td><td> 69                    </td><td> 87                    </td><td>151                    </td><td> 162                   </td></tr>\n",
       "\t<tr><td>Mainline Prot          </td><td>289                    </td><td>495                    </td><td> 619                   </td><td>655                    </td><td>651                    </td><td>1107                   </td><td>939                    </td><td>753                    </td><td>634                    </td><td>1328                   </td></tr>\n",
       "\t<tr><td>Mormon                 </td><td> 29                    </td><td> 40                    </td><td>  48                   </td><td> 51                    </td><td> 56                    </td><td> 112                   </td><td> 85                    </td><td> 49                    </td><td> 42                    </td><td>  69                   </td></tr>\n",
       "\t<tr><td>Muslim                 </td><td>  6                    </td><td>  7                    </td><td>   9                   </td><td> 10                    </td><td>  9                    </td><td>  23                   </td><td> 16                    </td><td>  8                    </td><td>  6                    </td><td>  22                   </td></tr>\n",
       "\t<tr><td>Orthodox               </td><td> 13                    </td><td> 17                    </td><td>  23                   </td><td> 32                    </td><td> 32                    </td><td>  47                   </td><td> 38                    </td><td> 42                    </td><td> 46                    </td><td>  73                   </td></tr>\n",
       "\t<tr><td>Other Christian        </td><td>  9                    </td><td>  7                    </td><td>  11                   </td><td> 13                    </td><td> 13                    </td><td>  14                   </td><td> 18                    </td><td> 14                    </td><td> 12                    </td><td>  18                   </td></tr>\n",
       "\t<tr><td>Other Faiths           </td><td> 20                    </td><td> 33                    </td><td>  40                   </td><td> 46                    </td><td> 49                    </td><td>  63                   </td><td> 46                    </td><td> 40                    </td><td> 41                    </td><td>  71                   </td></tr>\n",
       "\t<tr><td>Other World Religions  </td><td>  5                    </td><td>  2                    </td><td>   3                   </td><td>  4                    </td><td>  2                    </td><td>   7                   </td><td>  3                    </td><td>  4                    </td><td>  4                    </td><td>   8                   </td></tr>\n",
       "\t<tr><td>Unaffiliated           </td><td>217                    </td><td>299                    </td><td> 374                   </td><td>365                    </td><td>341                    </td><td> 528                   </td><td>407                    </td><td>321                    </td><td>258                    </td><td> 597                   </td></tr>\n",
       "</tbody>\n",
       "</table>\n"
      ],
      "text/latex": [
       "\\begin{tabular}{r|lllllllllll}\n",
       " religion & <\\$10k & \\$10-20k & \\$20-30k & \\$30-40k & \\$40-50k & \\$50-75k & \\$75-100k & \\$100-150k & >150k & Don't know/refused\\\\\n",
       "\\hline\n",
       "\t Agnostic                &  27                     &  34                     &   60                    &  81                     &  76                     &  137                    & 122                     & 109                     &  84                     &   96                   \\\\\n",
       "\t Atheist                 &  12                     &  27                     &   37                    &  52                     &  35                     &   70                    &  73                     &  59                     &  74                     &   76                   \\\\\n",
       "\t Buddhist                &  27                     &  21                     &   30                    &  34                     &  33                     &   58                    &  62                     &  39                     &  53                     &   54                   \\\\\n",
       "\t Catholic                & 418                     & 617                     &  732                    & 670                     & 638                     & 1116                    & 949                     & 792                     & 633                     & 1489                   \\\\\n",
       "\t Don’t know/refused      &  15                     &  14                     &   15                    &  11                     &  10                     &   35                    &  21                     &  17                     &  18                     &  116                   \\\\\n",
       "\t Evangelical Prot        & 575                     & 869                     & 1064                    & 982                     & 881                     & 1486                    & 949                     & 723                     & 414                     & 1529                   \\\\\n",
       "\t Hindu                   &   1                     &   9                     &    7                    &   9                     &  11                     &   34                    &  47                     &  48                     &  54                     &   37                   \\\\\n",
       "\t Historically Black Prot & 228                     & 244                     &  236                    & 238                     & 197                     &  223                    & 131                     &  81                     &  78                     &  339                   \\\\\n",
       "\t Jehovah's Witness       &  20                     &  27                     &   24                    &  24                     &  21                     &   30                    &  15                     &  11                     &   6                     &   37                   \\\\\n",
       "\t Jewish                  &  19                     &  19                     &   25                    &  25                     &  30                     &   95                    &  69                     &  87                     & 151                     &  162                   \\\\\n",
       "\t Mainline Prot           & 289                     & 495                     &  619                    & 655                     & 651                     & 1107                    & 939                     & 753                     & 634                     & 1328                   \\\\\n",
       "\t Mormon                  &  29                     &  40                     &   48                    &  51                     &  56                     &  112                    &  85                     &  49                     &  42                     &   69                   \\\\\n",
       "\t Muslim                  &   6                     &   7                     &    9                    &  10                     &   9                     &   23                    &  16                     &   8                     &   6                     &   22                   \\\\\n",
       "\t Orthodox                &  13                     &  17                     &   23                    &  32                     &  32                     &   47                    &  38                     &  42                     &  46                     &   73                   \\\\\n",
       "\t Other Christian         &   9                     &   7                     &   11                    &  13                     &  13                     &   14                    &  18                     &  14                     &  12                     &   18                   \\\\\n",
       "\t Other Faiths            &  20                     &  33                     &   40                    &  46                     &  49                     &   63                    &  46                     &  40                     &  41                     &   71                   \\\\\n",
       "\t Other World Religions   &   5                     &   2                     &    3                    &   4                     &   2                     &    7                    &   3                     &   4                     &   4                     &    8                   \\\\\n",
       "\t Unaffiliated            & 217                     & 299                     &  374                    & 365                     & 341                     &  528                    & 407                     & 321                     & 258                     &  597                   \\\\\n",
       "\\end{tabular}\n"
      ],
      "text/markdown": [
       "\n",
       "| religion | <$10k | $10-20k | $20-30k | $30-40k | $40-50k | $50-75k | $75-100k | $100-150k | >150k | Don't know/refused |\n",
       "|---|---|---|---|---|---|---|---|---|---|---|\n",
       "| Agnostic                |  27                     |  34                     |   60                    |  81                     |  76                     |  137                    | 122                     | 109                     |  84                     |   96                    |\n",
       "| Atheist                 |  12                     |  27                     |   37                    |  52                     |  35                     |   70                    |  73                     |  59                     |  74                     |   76                    |\n",
       "| Buddhist                |  27                     |  21                     |   30                    |  34                     |  33                     |   58                    |  62                     |  39                     |  53                     |   54                    |\n",
       "| Catholic                | 418                     | 617                     |  732                    | 670                     | 638                     | 1116                    | 949                     | 792                     | 633                     | 1489                    |\n",
       "| Don’t know/refused      |  15                     |  14                     |   15                    |  11                     |  10                     |   35                    |  21                     |  17                     |  18                     |  116                    |\n",
       "| Evangelical Prot        | 575                     | 869                     | 1064                    | 982                     | 881                     | 1486                    | 949                     | 723                     | 414                     | 1529                    |\n",
       "| Hindu                   |   1                     |   9                     |    7                    |   9                     |  11                     |   34                    |  47                     |  48                     |  54                     |   37                    |\n",
       "| Historically Black Prot | 228                     | 244                     |  236                    | 238                     | 197                     |  223                    | 131                     |  81                     |  78                     |  339                    |\n",
       "| Jehovah's Witness       |  20                     |  27                     |   24                    |  24                     |  21                     |   30                    |  15                     |  11                     |   6                     |   37                    |\n",
       "| Jewish                  |  19                     |  19                     |   25                    |  25                     |  30                     |   95                    |  69                     |  87                     | 151                     |  162                    |\n",
       "| Mainline Prot           | 289                     | 495                     |  619                    | 655                     | 651                     | 1107                    | 939                     | 753                     | 634                     | 1328                    |\n",
       "| Mormon                  |  29                     |  40                     |   48                    |  51                     |  56                     |  112                    |  85                     |  49                     |  42                     |   69                    |\n",
       "| Muslim                  |   6                     |   7                     |    9                    |  10                     |   9                     |   23                    |  16                     |   8                     |   6                     |   22                    |\n",
       "| Orthodox                |  13                     |  17                     |   23                    |  32                     |  32                     |   47                    |  38                     |  42                     |  46                     |   73                    |\n",
       "| Other Christian         |   9                     |   7                     |   11                    |  13                     |  13                     |   14                    |  18                     |  14                     |  12                     |   18                    |\n",
       "| Other Faiths            |  20                     |  33                     |   40                    |  46                     |  49                     |   63                    |  46                     |  40                     |  41                     |   71                    |\n",
       "| Other World Religions   |   5                     |   2                     |    3                    |   4                     |   2                     |    7                    |   3                     |   4                     |   4                     |    8                    |\n",
       "| Unaffiliated            | 217                     | 299                     |  374                    | 365                     | 341                     |  528                    | 407                     | 321                     | 258                     |  597                    |\n",
       "\n"
      ],
      "text/plain": [
       "   religion                <$10k $10-20k $20-30k $30-40k $40-50k $50-75k\n",
       "1  Agnostic                 27    34       60     81      76      137   \n",
       "2  Atheist                  12    27       37     52      35       70   \n",
       "3  Buddhist                 27    21       30     34      33       58   \n",
       "4  Catholic                418   617      732    670     638     1116   \n",
       "5  Don’t know/refused       15    14       15     11      10       35   \n",
       "6  Evangelical Prot        575   869     1064    982     881     1486   \n",
       "7  Hindu                     1     9        7      9      11       34   \n",
       "8  Historically Black Prot 228   244      236    238     197      223   \n",
       "9  Jehovah's Witness        20    27       24     24      21       30   \n",
       "10 Jewish                   19    19       25     25      30       95   \n",
       "11 Mainline Prot           289   495      619    655     651     1107   \n",
       "12 Mormon                   29    40       48     51      56      112   \n",
       "13 Muslim                    6     7        9     10       9       23   \n",
       "14 Orthodox                 13    17       23     32      32       47   \n",
       "15 Other Christian           9     7       11     13      13       14   \n",
       "16 Other Faiths             20    33       40     46      49       63   \n",
       "17 Other World Religions     5     2        3      4       2        7   \n",
       "18 Unaffiliated            217   299      374    365     341      528   \n",
       "   $75-100k $100-150k >150k Don't know/refused\n",
       "1  122      109        84     96              \n",
       "2   73       59        74     76              \n",
       "3   62       39        53     54              \n",
       "4  949      792       633   1489              \n",
       "5   21       17        18    116              \n",
       "6  949      723       414   1529              \n",
       "7   47       48        54     37              \n",
       "8  131       81        78    339              \n",
       "9   15       11         6     37              \n",
       "10  69       87       151    162              \n",
       "11 939      753       634   1328              \n",
       "12  85       49        42     69              \n",
       "13  16        8         6     22              \n",
       "14  38       42        46     73              \n",
       "15  18       14        12     18              \n",
       "16  46       40        41     71              \n",
       "17   3        4         4      8              \n",
       "18 407      321       258    597              "
      ]
     },
     "metadata": {},
     "output_type": "display_data"
    }
   ],
   "source": [
    "raw"
   ]
  }
 ],
 "metadata": {
  "kernelspec": {
   "display_name": "R",
   "language": "R",
   "name": "ir"
  },
  "language_info": {
   "codemirror_mode": "r",
   "file_extension": ".r",
   "mimetype": "text/x-r-source",
   "name": "R",
   "pygments_lexer": "r",
   "version": "3.6.1"
  }
 },
 "nbformat": 4,
 "nbformat_minor": 5
}
