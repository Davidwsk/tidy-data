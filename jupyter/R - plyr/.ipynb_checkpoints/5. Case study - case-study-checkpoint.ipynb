{
 "cells": [
  {
   "cell_type": "markdown",
   "id": "88f41503",
   "metadata": {},
   "source": [
    "# 5. Case study - case-study"
   ]
  },
  {
   "cell_type": "code",
   "execution_count": 1,
   "id": "fe58ceb3",
   "metadata": {},
   "outputs": [
    {
     "name": "stderr",
     "output_type": "stream",
     "text": [
      "Registered S3 methods overwritten by 'ggplot2':\n",
      "  method         from \n",
      "  [.quosures     rlang\n",
      "  c.quosures     rlang\n",
      "  print.quosures rlang\n"
     ]
    }
   ],
   "source": [
    "options(stringsAsFactors = F)\n",
    "library(reshape2)\n",
    "library(ggplot2)\n",
    "library(plyr)\n",
    "library(stringr)\n",
    "library(MASS)\n",
    "\n",
    "#if (!file.exists(\"deaths.rds\")) {\n",
    "#  src <- \"https://github.com/hadley/mexico-mortality/raw/master/deaths/deaths08.csv.bz2\"\n",
    "#  file.download(src, \"deaths.csv.bz2\", quiet = TRUE)\n",
    "#  \n",
    "#  deaths <- read.csv(\"deaths08.csv.bz2\")\n",
    "#  unlink(\"deaths08.csv.bz2\")\n",
    "#  deaths$hod[deaths$hod == 99] <- NA\n",
    "#  deaths$hod[deaths$hod == 24] <- 0\n",
    "#  deaths$hod[deaths$hod == 0] <- NA\n",
    "#  deaths$hod <- as.integer(deaths$hod)  \n",
    "#  deaths <- arrange(deaths, yod, mod, dod, hod, cod)\n",
    "#  deaths <- deaths[c(\"yod\", \"mod\", \"dod\", \"hod\", \"cod\")]\n",
    "#  \n",
    "#  saveRDS(deaths, \"deaths.rds\")\n",
    "#}\n",
    "\n",
    "deaths <- readRDS(\"../../case-study/deaths.rds\")\n"
   ]
  },
  {
   "cell_type": "code",
   "execution_count": 2,
   "id": "35418425",
   "metadata": {},
   "outputs": [
    {
     "data": {
      "text/html": [
       "<ol class=list-inline>\n",
       "\t<li>539530</li>\n",
       "\t<li>5</li>\n",
       "</ol>\n"
      ],
      "text/latex": [
       "\\begin{enumerate*}\n",
       "\\item 539530\n",
       "\\item 5\n",
       "\\end{enumerate*}\n"
      ],
      "text/markdown": [
       "1. 539530\n",
       "2. 5\n",
       "\n",
       "\n"
      ],
      "text/plain": [
       "[1] 539530      5"
      ]
     },
     "metadata": {},
     "output_type": "display_data"
    },
    {
     "data": {
      "text/html": [
       "<table>\n",
       "<thead><tr><th scope=col>yod</th><th scope=col>mod</th><th scope=col>dod</th><th scope=col>hod</th><th scope=col>cod</th></tr></thead>\n",
       "<tbody>\n",
       "\t<tr><td>0  </td><td>0  </td><td>0  </td><td>NA </td><td>E14</td></tr>\n",
       "\t<tr><td>0  </td><td>0  </td><td>0  </td><td>NA </td><td>E46</td></tr>\n",
       "\t<tr><td>0  </td><td>0  </td><td>0  </td><td>NA </td><td>I21</td></tr>\n",
       "\t<tr><td>0  </td><td>0  </td><td>0  </td><td>NA </td><td>K70</td></tr>\n",
       "\t<tr><td>0  </td><td>0  </td><td>0  </td><td>NA </td><td>P21</td></tr>\n",
       "\t<tr><td>0  </td><td>0  </td><td>0  </td><td>NA </td><td>Q89</td></tr>\n",
       "</tbody>\n",
       "</table>\n"
      ],
      "text/latex": [
       "\\begin{tabular}{r|lllll}\n",
       " yod & mod & dod & hod & cod\\\\\n",
       "\\hline\n",
       "\t 0   & 0   & 0   & NA  & E14\\\\\n",
       "\t 0   & 0   & 0   & NA  & E46\\\\\n",
       "\t 0   & 0   & 0   & NA  & I21\\\\\n",
       "\t 0   & 0   & 0   & NA  & K70\\\\\n",
       "\t 0   & 0   & 0   & NA  & P21\\\\\n",
       "\t 0   & 0   & 0   & NA  & Q89\\\\\n",
       "\\end{tabular}\n"
      ],
      "text/markdown": [
       "\n",
       "| yod | mod | dod | hod | cod |\n",
       "|---|---|---|---|---|\n",
       "| 0   | 0   | 0   | NA  | E14 |\n",
       "| 0   | 0   | 0   | NA  | E46 |\n",
       "| 0   | 0   | 0   | NA  | I21 |\n",
       "| 0   | 0   | 0   | NA  | K70 |\n",
       "| 0   | 0   | 0   | NA  | P21 |\n",
       "| 0   | 0   | 0   | NA  | Q89 |\n",
       "\n"
      ],
      "text/plain": [
       "  yod mod dod hod cod\n",
       "1 0   0   0   NA  E14\n",
       "2 0   0   0   NA  E46\n",
       "3 0   0   0   NA  I21\n",
       "4 0   0   0   NA  K70\n",
       "5 0   0   0   NA  P21\n",
       "6 0   0   0   NA  Q89"
      ]
     },
     "metadata": {},
     "output_type": "display_data"
    }
   ],
   "source": [
    "dim(deaths)\n",
    "head(deaths)"
   ]
  },
  {
   "cell_type": "code",
   "execution_count": 3,
   "id": "46e76da1",
   "metadata": {},
   "outputs": [],
   "source": [
    "ok <- subset(deaths, yod == 2008 & mod != 0 & dod != 0)\n"
   ]
  },
  {
   "cell_type": "code",
   "execution_count": 4,
   "id": "3ce69230",
   "metadata": {},
   "outputs": [
    {
     "data": {
      "text/html": [
       "<ol class=list-inline>\n",
       "\t<li>527429</li>\n",
       "\t<li>5</li>\n",
       "</ol>\n"
      ],
      "text/latex": [
       "\\begin{enumerate*}\n",
       "\\item 527429\n",
       "\\item 5\n",
       "\\end{enumerate*}\n"
      ],
      "text/markdown": [
       "1. 527429\n",
       "2. 5\n",
       "\n",
       "\n"
      ],
      "text/plain": [
       "[1] 527429      5"
      ]
     },
     "metadata": {},
     "output_type": "display_data"
    },
    {
     "data": {
      "text/html": [
       "<table>\n",
       "<thead><tr><th></th><th scope=col>yod</th><th scope=col>mod</th><th scope=col>dod</th><th scope=col>hod</th><th scope=col>cod</th></tr></thead>\n",
       "<tbody>\n",
       "\t<tr><th scope=row>11938</th><td>2008</td><td>1   </td><td> 1  </td><td> 1  </td><td>B20 </td></tr>\n",
       "\t<tr><th scope=row>13937</th><td>2008</td><td>1   </td><td> 2  </td><td> 4  </td><td>I67 </td></tr>\n",
       "\t<tr><th scope=row>15937</th><td>2008</td><td>1   </td><td> 3  </td><td> 8  </td><td>I50 </td></tr>\n",
       "\t<tr><th scope=row>17937</th><td>2008</td><td>1   </td><td> 4  </td><td>12  </td><td>I50 </td></tr>\n",
       "\t<tr><th scope=row>19937</th><td>2008</td><td>1   </td><td> 5  </td><td>16  </td><td>K70 </td></tr>\n",
       "\t<tr><th scope=row>21937</th><td>2008</td><td>1   </td><td> 6  </td><td>18  </td><td>I21 </td></tr>\n",
       "\t<tr><th scope=row>23937</th><td>2008</td><td>1   </td><td> 7  </td><td>20  </td><td>I21 </td></tr>\n",
       "\t<tr><th scope=row>25937</th><td>2008</td><td>1   </td><td> 8  </td><td>NA  </td><td>K74 </td></tr>\n",
       "\t<tr><th scope=row>27937</th><td>2008</td><td>1   </td><td>10  </td><td> 5  </td><td>K74 </td></tr>\n",
       "\t<tr><th scope=row>29937</th><td>2008</td><td>1   </td><td>11  </td><td> 9  </td><td>I21 </td></tr>\n",
       "\t<tr><th scope=row>31937</th><td>2008</td><td>1   </td><td>12  </td><td>15  </td><td>I25 </td></tr>\n",
       "\t<tr><th scope=row>33937</th><td>2008</td><td>1   </td><td>13  </td><td>20  </td><td>R54 </td></tr>\n",
       "\t<tr><th scope=row>35937</th><td>2008</td><td>1   </td><td>15  </td><td> 2  </td><td>I61 </td></tr>\n",
       "\t<tr><th scope=row>37937</th><td>2008</td><td>1   </td><td>16  </td><td> 7  </td><td>I21 </td></tr>\n",
       "\t<tr><th scope=row>39937</th><td>2008</td><td>1   </td><td>17  </td><td>13  </td><td>I21 </td></tr>\n",
       "</tbody>\n",
       "</table>\n"
      ],
      "text/latex": [
       "\\begin{tabular}{r|lllll}\n",
       "  & yod & mod & dod & hod & cod\\\\\n",
       "\\hline\n",
       "\t11938 & 2008 & 1    &  1   &  1   & B20 \\\\\n",
       "\t13937 & 2008 & 1    &  2   &  4   & I67 \\\\\n",
       "\t15937 & 2008 & 1    &  3   &  8   & I50 \\\\\n",
       "\t17937 & 2008 & 1    &  4   & 12   & I50 \\\\\n",
       "\t19937 & 2008 & 1    &  5   & 16   & K70 \\\\\n",
       "\t21937 & 2008 & 1    &  6   & 18   & I21 \\\\\n",
       "\t23937 & 2008 & 1    &  7   & 20   & I21 \\\\\n",
       "\t25937 & 2008 & 1    &  8   & NA   & K74 \\\\\n",
       "\t27937 & 2008 & 1    & 10   &  5   & K74 \\\\\n",
       "\t29937 & 2008 & 1    & 11   &  9   & I21 \\\\\n",
       "\t31937 & 2008 & 1    & 12   & 15   & I25 \\\\\n",
       "\t33937 & 2008 & 1    & 13   & 20   & R54 \\\\\n",
       "\t35937 & 2008 & 1    & 15   &  2   & I61 \\\\\n",
       "\t37937 & 2008 & 1    & 16   &  7   & I21 \\\\\n",
       "\t39937 & 2008 & 1    & 17   & 13   & I21 \\\\\n",
       "\\end{tabular}\n"
      ],
      "text/markdown": [
       "\n",
       "| <!--/--> | yod | mod | dod | hod | cod |\n",
       "|---|---|---|---|---|---|\n",
       "| 11938 | 2008 | 1    |  1   |  1   | B20  |\n",
       "| 13937 | 2008 | 1    |  2   |  4   | I67  |\n",
       "| 15937 | 2008 | 1    |  3   |  8   | I50  |\n",
       "| 17937 | 2008 | 1    |  4   | 12   | I50  |\n",
       "| 19937 | 2008 | 1    |  5   | 16   | K70  |\n",
       "| 21937 | 2008 | 1    |  6   | 18   | I21  |\n",
       "| 23937 | 2008 | 1    |  7   | 20   | I21  |\n",
       "| 25937 | 2008 | 1    |  8   | NA   | K74  |\n",
       "| 27937 | 2008 | 1    | 10   |  5   | K74  |\n",
       "| 29937 | 2008 | 1    | 11   |  9   | I21  |\n",
       "| 31937 | 2008 | 1    | 12   | 15   | I25  |\n",
       "| 33937 | 2008 | 1    | 13   | 20   | R54  |\n",
       "| 35937 | 2008 | 1    | 15   |  2   | I61  |\n",
       "| 37937 | 2008 | 1    | 16   |  7   | I21  |\n",
       "| 39937 | 2008 | 1    | 17   | 13   | I21  |\n",
       "\n"
      ],
      "text/plain": [
       "      yod  mod dod hod cod\n",
       "11938 2008 1    1   1  B20\n",
       "13937 2008 1    2   4  I67\n",
       "15937 2008 1    3   8  I50\n",
       "17937 2008 1    4  12  I50\n",
       "19937 2008 1    5  16  K70\n",
       "21937 2008 1    6  18  I21\n",
       "23937 2008 1    7  20  I21\n",
       "25937 2008 1    8  NA  K74\n",
       "27937 2008 1   10   5  K74\n",
       "29937 2008 1   11   9  I21\n",
       "31937 2008 1   12  15  I25\n",
       "33937 2008 1   13  20  R54\n",
       "35937 2008 1   15   2  I61\n",
       "37937 2008 1   16   7  I21\n",
       "39937 2008 1   17  13  I21"
      ]
     },
     "metadata": {},
     "output_type": "display_data"
    }
   ],
   "source": [
    "dim(ok)\n",
    "ok[c(1, 1:14 * 2000), c(\"yod\", \"mod\", \"dod\", \"hod\", \"cod\")]"
   ]
  },
  {
   "cell_type": "code",
   "execution_count": 5,
   "id": "46b51027",
   "metadata": {},
   "outputs": [],
   "source": [
    "codes <- read.csv(\"../../case-study/icd-main.csv\")\n",
    "codes$disease <- sapply(codes$disease, function(x)\n",
    "  str_c(strwrap(x, width = 30), collapse = \"\\n\"))\n",
    "names(codes)[1] <- \"cod\"\n",
    "codes <- codes[!duplicated(codes$cod), ]\n"
   ]
  },
  {
   "cell_type": "code",
   "execution_count": 6,
   "id": "e1b186ee",
   "metadata": {},
   "outputs": [
    {
     "data": {
      "text/html": [
       "<ol class=list-inline>\n",
       "\t<li>1851</li>\n",
       "\t<li>2</li>\n",
       "</ol>\n"
      ],
      "text/latex": [
       "\\begin{enumerate*}\n",
       "\\item 1851\n",
       "\\item 2\n",
       "\\end{enumerate*}\n"
      ],
      "text/markdown": [
       "1. 1851\n",
       "2. 2\n",
       "\n",
       "\n"
      ],
      "text/plain": [
       "[1] 1851    2"
      ]
     },
     "metadata": {},
     "output_type": "display_data"
    },
    {
     "data": {
      "text/html": [
       "<table>\n",
       "<thead><tr><th scope=col>cod</th><th scope=col>disease</th></tr></thead>\n",
       "<tbody>\n",
       "\t<tr><td>A00                                                                </td><td>Cholera                                                            </td></tr>\n",
       "\t<tr><td>A01                                                                </td><td>Typhoid and paratyphoid\n",
       "fevers                                    </td></tr>\n",
       "\t<tr><td>A02                                                                </td><td>Other salmonella infections                                        </td></tr>\n",
       "\t<tr><td>A03                                                                </td><td>Shigellosis                                                        </td></tr>\n",
       "\t<tr><td>A04                                                                </td><td>Other bacterial intestinal\n",
       "infections                             </td></tr>\n",
       "\t<tr><td>A05                                                                </td><td>Other bacterial foodborne\n",
       "intoxications, not elsewhere\n",
       "classified</td></tr>\n",
       "</tbody>\n",
       "</table>\n"
      ],
      "text/latex": [
       "\\begin{tabular}{r|ll}\n",
       " cod & disease\\\\\n",
       "\\hline\n",
       "\t A00                                                                 & Cholera                                                            \\\\\n",
       "\t A01                                                                 & Typhoid and paratyphoid\n",
       "fevers                                    \\\\\n",
       "\t A02                                                                 & Other salmonella infections                                        \\\\\n",
       "\t A03                                                                 & Shigellosis                                                        \\\\\n",
       "\t A04                                                                 & Other bacterial intestinal\n",
       "infections                             \\\\\n",
       "\t A05                                                                 & Other bacterial foodborne\n",
       "intoxications, not elsewhere\n",
       "classified\\\\\n",
       "\\end{tabular}\n"
      ],
      "text/markdown": [
       "\n",
       "| cod | disease |\n",
       "|---|---|\n",
       "| A00                                                                 | Cholera                                                             |\n",
       "| A01                                                                 | Typhoid and paratyphoid\n",
       "fevers                                     |\n",
       "| A02                                                                 | Other salmonella infections                                         |\n",
       "| A03                                                                 | Shigellosis                                                         |\n",
       "| A04                                                                 | Other bacterial intestinal\n",
       "infections                              |\n",
       "| A05                                                                 | Other bacterial foodborne\n",
       "intoxications, not elsewhere\n",
       "classified |\n",
       "\n"
      ],
      "text/plain": [
       "  cod disease                                                            \n",
       "1 A00 Cholera                                                            \n",
       "2 A01 Typhoid and paratyphoid\\nfevers                                    \n",
       "3 A02 Other salmonella infections                                        \n",
       "4 A03 Shigellosis                                                        \n",
       "5 A04 Other bacterial intestinal\\ninfections                             \n",
       "6 A05 Other bacterial foodborne\\nintoxications, not elsewhere\\nclassified"
      ]
     },
     "metadata": {},
     "output_type": "display_data"
    }
   ],
   "source": [
    "dim(codes)\n",
    "head(codes)"
   ]
  },
  {
   "cell_type": "code",
   "execution_count": 7,
   "id": "0dac529a",
   "metadata": {},
   "outputs": [
    {
     "data": {
      "image/png": "[encoded data removed]",
      "text/plain": [
       "plot without title"
      ]
     },
     "metadata": {},
     "output_type": "display_data"
    }
   ],
   "source": [
    "# Display overall hourly deaths\n",
    "hod_all <- subset(count(deaths, \"hod\"), !is.na(hod))\n",
    "qplot(hod, freq, data = hod_all, geom = \"line\") + \n",
    "  scale_y_continuous(\"Number of deaths\", labels = function(x) format(x, big.mark = \",\")) + \n",
    "  xlab(\"Hour of day\")\n",
    "#ggsave(\"overall.pdf\", width = 10, height = 6)\n"
   ]
  },
  {
   "cell_type": "code",
   "execution_count": 8,
   "id": "beeb28ec",
   "metadata": {},
   "outputs": [
    {
     "name": "stderr",
     "output_type": "stream",
     "text": [
      "Joining by: cod\n"
     ]
    }
   ],
   "source": [
    "# Count deaths per hour, per disease\n",
    "hod2 <- count(deaths, c(\"cod\", \"hod\"))\n",
    "hod2 <- subset(hod2, !is.na(hod))\n",
    "hod2 <- join(hod2, codes)\n",
    "hod2 <- ddply(hod2, \"cod\", transform, prop = freq / sum(freq))\n"
   ]
  },
  {
   "cell_type": "code",
   "execution_count": 9,
   "id": "75007276",
   "metadata": {},
   "outputs": [
    {
     "data": {
      "text/html": [
       "<ol class=list-inline>\n",
       "\t<li>15554</li>\n",
       "\t<li>5</li>\n",
       "</ol>\n"
      ],
      "text/latex": [
       "\\begin{enumerate*}\n",
       "\\item 15554\n",
       "\\item 5\n",
       "\\end{enumerate*}\n"
      ],
      "text/markdown": [
       "1. 15554\n",
       "2. 5\n",
       "\n",
       "\n"
      ],
      "text/plain": [
       "[1] 15554     5"
      ]
     },
     "metadata": {},
     "output_type": "display_data"
    },
    {
     "data": {
      "text/html": [
       "<table>\n",
       "<thead><tr><th scope=col>cod</th><th scope=col>hod</th><th scope=col>freq</th><th scope=col>disease</th><th scope=col>prop</th></tr></thead>\n",
       "<tbody>\n",
       "\t<tr><td>A01                            </td><td>1                              </td><td>3                              </td><td>Typhoid and paratyphoid\n",
       "fevers</td><td>0.05769231                     </td></tr>\n",
       "\t<tr><td>A01                            </td><td>2                              </td><td>1                              </td><td>Typhoid and paratyphoid\n",
       "fevers</td><td>0.01923077                     </td></tr>\n",
       "\t<tr><td>A01                            </td><td>3                              </td><td>4                              </td><td>Typhoid and paratyphoid\n",
       "fevers</td><td>0.07692308                     </td></tr>\n",
       "\t<tr><td>A01                            </td><td>5                              </td><td>5                              </td><td>Typhoid and paratyphoid\n",
       "fevers</td><td>0.09615385                     </td></tr>\n",
       "\t<tr><td>A01                            </td><td>6                              </td><td>1                              </td><td>Typhoid and paratyphoid\n",
       "fevers</td><td>0.01923077                     </td></tr>\n",
       "\t<tr><td>A01                            </td><td>8                              </td><td>1                              </td><td>Typhoid and paratyphoid\n",
       "fevers</td><td>0.01923077                     </td></tr>\n",
       "</tbody>\n",
       "</table>\n"
      ],
      "text/latex": [
       "\\begin{tabular}{r|lllll}\n",
       " cod & hod & freq & disease & prop\\\\\n",
       "\\hline\n",
       "\t A01                             & 1                               & 3                               & Typhoid and paratyphoid\n",
       "fevers & 0.05769231                     \\\\\n",
       "\t A01                             & 2                               & 1                               & Typhoid and paratyphoid\n",
       "fevers & 0.01923077                     \\\\\n",
       "\t A01                             & 3                               & 4                               & Typhoid and paratyphoid\n",
       "fevers & 0.07692308                     \\\\\n",
       "\t A01                             & 5                               & 5                               & Typhoid and paratyphoid\n",
       "fevers & 0.09615385                     \\\\\n",
       "\t A01                             & 6                               & 1                               & Typhoid and paratyphoid\n",
       "fevers & 0.01923077                     \\\\\n",
       "\t A01                             & 8                               & 1                               & Typhoid and paratyphoid\n",
       "fevers & 0.01923077                     \\\\\n",
       "\\end{tabular}\n"
      ],
      "text/markdown": [
       "\n",
       "| cod | hod | freq | disease | prop |\n",
       "|---|---|---|---|---|\n",
       "| A01                             | 1                               | 3                               | Typhoid and paratyphoid\n",
       "fevers | 0.05769231                      |\n",
       "| A01                             | 2                               | 1                               | Typhoid and paratyphoid\n",
       "fevers | 0.01923077                      |\n",
       "| A01                             | 3                               | 4                               | Typhoid and paratyphoid\n",
       "fevers | 0.07692308                      |\n",
       "| A01                             | 5                               | 5                               | Typhoid and paratyphoid\n",
       "fevers | 0.09615385                      |\n",
       "| A01                             | 6                               | 1                               | Typhoid and paratyphoid\n",
       "fevers | 0.01923077                      |\n",
       "| A01                             | 8                               | 1                               | Typhoid and paratyphoid\n",
       "fevers | 0.01923077                      |\n",
       "\n"
      ],
      "text/plain": [
       "  cod hod freq disease                         prop      \n",
       "1 A01 1   3    Typhoid and paratyphoid\\nfevers 0.05769231\n",
       "2 A01 2   1    Typhoid and paratyphoid\\nfevers 0.01923077\n",
       "3 A01 3   4    Typhoid and paratyphoid\\nfevers 0.07692308\n",
       "4 A01 5   5    Typhoid and paratyphoid\\nfevers 0.09615385\n",
       "5 A01 6   1    Typhoid and paratyphoid\\nfevers 0.01923077\n",
       "6 A01 8   1    Typhoid and paratyphoid\\nfevers 0.01923077"
      ]
     },
     "metadata": {},
     "output_type": "display_data"
    }
   ],
   "source": [
    "dim(hod2)\n",
    "head(hod2)"
   ]
  },
  {
   "cell_type": "code",
   "execution_count": 10,
   "id": "e9e078df",
   "metadata": {},
   "outputs": [],
   "source": [
    "# Compare to overall abundance\n",
    "overall <- ddply(hod2, \"hod\", summarise, freq_all = sum(freq))\n",
    "overall <- mutate(overall, prop_all = freq_all / sum(freq_all))\n",
    "\n",
    "hod2 <- join(overall, hod2, by = \"hod\")"
   ]
  },
  {
   "cell_type": "code",
   "execution_count": 11,
   "id": "c207ad03",
   "metadata": {},
   "outputs": [
    {
     "data": {
      "text/html": [
       "<ol class=list-inline>\n",
       "\t<li>15554</li>\n",
       "\t<li>7</li>\n",
       "</ol>\n"
      ],
      "text/latex": [
       "\\begin{enumerate*}\n",
       "\\item 15554\n",
       "\\item 7\n",
       "\\end{enumerate*}\n"
      ],
      "text/markdown": [
       "1. 15554\n",
       "2. 7\n",
       "\n",
       "\n"
      ],
      "text/plain": [
       "[1] 15554     7"
      ]
     },
     "metadata": {},
     "output_type": "display_data"
    },
    {
     "data": {
      "text/html": [
       "<table>\n",
       "<thead><tr><th scope=col>hod</th><th scope=col>freq_all</th><th scope=col>prop_all</th><th scope=col>cod</th><th scope=col>freq</th><th scope=col>disease</th><th scope=col>prop</th></tr></thead>\n",
       "<tbody>\n",
       "\t<tr><td>1                                                                  </td><td>20430                                                              </td><td>0.03980338                                                         </td><td>A01                                                                </td><td>  3                                                                </td><td>Typhoid and paratyphoid\n",
       "fevers                                    </td><td>0.05769231                                                         </td></tr>\n",
       "\t<tr><td>1                                                                  </td><td>20430                                                              </td><td>0.03980338                                                         </td><td>A02                                                                </td><td>  3                                                                </td><td>Other salmonella infections                                        </td><td>0.04838710                                                         </td></tr>\n",
       "\t<tr><td>1                                                                  </td><td>20430                                                              </td><td>0.03980338                                                         </td><td>A04                                                                </td><td>  7                                                                </td><td>Other bacterial intestinal\n",
       "infections                             </td><td>0.05035971                                                         </td></tr>\n",
       "\t<tr><td>1                                                                  </td><td>20430                                                              </td><td>0.03980338                                                         </td><td>A05                                                                </td><td>  1                                                                </td><td>Other bacterial foodborne\n",
       "intoxications, not elsewhere\n",
       "classified</td><td>0.04761905                                                         </td></tr>\n",
       "\t<tr><td>1                                                                  </td><td>20430                                                              </td><td>0.03980338                                                         </td><td>A06                                                                </td><td>  2                                                                </td><td>Amebiasis                                                          </td><td>0.02380952                                                         </td></tr>\n",
       "\t<tr><td>1                                                                  </td><td>20430                                                              </td><td>0.03980338                                                         </td><td>A09                                                                </td><td>112                                                                </td><td>Diarrhea and gastroenteritis\n",
       "of infectious origin                 </td><td>0.03664921                                                         </td></tr>\n",
       "</tbody>\n",
       "</table>\n"
      ],
      "text/latex": [
       "\\begin{tabular}{r|lllllll}\n",
       " hod & freq\\_all & prop\\_all & cod & freq & disease & prop\\\\\n",
       "\\hline\n",
       "\t 1                                                                   & 20430                                                               & 0.03980338                                                          & A01                                                                 &   3                                                                 & Typhoid and paratyphoid\n",
       "fevers                                     & 0.05769231                                                         \\\\\n",
       "\t 1                                                                   & 20430                                                               & 0.03980338                                                          & A02                                                                 &   3                                                                 & Other salmonella infections                                         & 0.04838710                                                         \\\\\n",
       "\t 1                                                                   & 20430                                                               & 0.03980338                                                          & A04                                                                 &   7                                                                 & Other bacterial intestinal\n",
       "infections                              & 0.05035971                                                         \\\\\n",
       "\t 1                                                                   & 20430                                                               & 0.03980338                                                          & A05                                                                 &   1                                                                 & Other bacterial foodborne\n",
       "intoxications, not elsewhere\n",
       "classified & 0.04761905                                                         \\\\\n",
       "\t 1                                                                   & 20430                                                               & 0.03980338                                                          & A06                                                                 &   2                                                                 & Amebiasis                                                           & 0.02380952                                                         \\\\\n",
       "\t 1                                                                   & 20430                                                               & 0.03980338                                                          & A09                                                                 & 112                                                                 & Diarrhea and gastroenteritis\n",
       "of infectious origin                  & 0.03664921                                                         \\\\\n",
       "\\end{tabular}\n"
      ],
      "text/markdown": [
       "\n",
       "| hod | freq_all | prop_all | cod | freq | disease | prop |\n",
       "|---|---|---|---|---|---|---|\n",
       "| 1                                                                   | 20430                                                               | 0.03980338                                                          | A01                                                                 |   3                                                                 | Typhoid and paratyphoid\n",
       "fevers                                     | 0.05769231                                                          |\n",
       "| 1                                                                   | 20430                                                               | 0.03980338                                                          | A02                                                                 |   3                                                                 | Other salmonella infections                                         | 0.04838710                                                          |\n",
       "| 1                                                                   | 20430                                                               | 0.03980338                                                          | A04                                                                 |   7                                                                 | Other bacterial intestinal\n",
       "infections                              | 0.05035971                                                          |\n",
       "| 1                                                                   | 20430                                                               | 0.03980338                                                          | A05                                                                 |   1                                                                 | Other bacterial foodborne\n",
       "intoxications, not elsewhere\n",
       "classified | 0.04761905                                                          |\n",
       "| 1                                                                   | 20430                                                               | 0.03980338                                                          | A06                                                                 |   2                                                                 | Amebiasis                                                           | 0.02380952                                                          |\n",
       "| 1                                                                   | 20430                                                               | 0.03980338                                                          | A09                                                                 | 112                                                                 | Diarrhea and gastroenteritis\n",
       "of infectious origin                  | 0.03664921                                                          |\n",
       "\n"
      ],
      "text/plain": [
       "  hod freq_all prop_all   cod freq\n",
       "1 1   20430    0.03980338 A01   3 \n",
       "2 1   20430    0.03980338 A02   3 \n",
       "3 1   20430    0.03980338 A04   7 \n",
       "4 1   20430    0.03980338 A05   1 \n",
       "5 1   20430    0.03980338 A06   2 \n",
       "6 1   20430    0.03980338 A09 112 \n",
       "  disease                                                            \n",
       "1 Typhoid and paratyphoid\\nfevers                                    \n",
       "2 Other salmonella infections                                        \n",
       "3 Other bacterial intestinal\\ninfections                             \n",
       "4 Other bacterial foodborne\\nintoxications, not elsewhere\\nclassified\n",
       "5 Amebiasis                                                          \n",
       "6 Diarrhea and gastroenteritis\\nof infectious origin                 \n",
       "  prop      \n",
       "1 0.05769231\n",
       "2 0.04838710\n",
       "3 0.05035971\n",
       "4 0.04761905\n",
       "5 0.02380952\n",
       "6 0.03664921"
      ]
     },
     "metadata": {},
     "output_type": "display_data"
    }
   ],
   "source": [
    "dim(hod2)\n",
    "head(hod2)"
   ]
  },
  {
   "cell_type": "code",
   "execution_count": 12,
   "id": "5d3b2d88",
   "metadata": {},
   "outputs": [
    {
     "name": "stderr",
     "output_type": "stream",
     "text": [
      "Joining by: cod\n"
     ]
    }
   ],
   "source": [
    "# Pick better subset of rows to show\n",
    "cods <- join(arrange(count(deaths, \"cod\"), desc(freq)), codes)\n",
    "#mutate(tail(subset(cods, freq > 100), 30), disease = str_sub(disease, 1, 30))\n",
    "\n",
    "hod3 <- subset(hod2, cod %in% c(\"I21\", \"N18\", \"E84\", \"B16\") & hod >= 8 & hod <= 12)[1:15, c(\"hod\", \"cod\", \"disease\", \"freq\", \"prop\", \"freq_all\", \"prop_all\")]\n",
    "\n",
    "devi <- ddply(hod2, \"cod\", summarise, n = sum(freq), dist = mean((prop - prop_all)^2))\n",
    "devi <- subset(devi, n > 50)\n"
   ]
  },
  {
   "cell_type": "code",
   "execution_count": 13,
   "id": "13a3cd63",
   "metadata": {},
   "outputs": [
    {
     "data": {
      "text/html": [
       "<ol class=list-inline>\n",
       "\t<li>15</li>\n",
       "\t<li>7</li>\n",
       "</ol>\n"
      ],
      "text/latex": [
       "\\begin{enumerate*}\n",
       "\\item 15\n",
       "\\item 7\n",
       "\\end{enumerate*}\n"
      ],
      "text/markdown": [
       "1. 15\n",
       "2. 7\n",
       "\n",
       "\n"
      ],
      "text/plain": [
       "[1] 15  7"
      ]
     },
     "metadata": {},
     "output_type": "display_data"
    },
    {
     "data": {
      "text/html": [
       "<table>\n",
       "<thead><tr><th></th><th scope=col>hod</th><th scope=col>cod</th><th scope=col>disease</th><th scope=col>freq</th><th scope=col>prop</th><th scope=col>freq_all</th><th scope=col>prop_all</th></tr></thead>\n",
       "<tbody>\n",
       "\t<tr><th scope=row>4638</th><td>8                          </td><td>B16                        </td><td>Acute hepatitis B          </td><td>   4                       </td><td>0.038095238                </td><td>21915                      </td><td>0.04269658                 </td></tr>\n",
       "\t<tr><th scope=row>4787</th><td>8                          </td><td>E84                        </td><td>Cystic fibrosis            </td><td>   3                       </td><td>0.029411765                </td><td>21915                      </td><td>0.04269658                 </td></tr>\n",
       "\t<tr><th scope=row>4852</th><td>8                          </td><td>I21                        </td><td>Acute myocardial infarction</td><td>2205                       </td><td>0.047121426                </td><td>21915                      </td><td>0.04269658                 </td></tr>\n",
       "\t<tr><th scope=row>5028</th><td>8                          </td><td>N18                        </td><td>Chronic renal failure      </td><td> 315                       </td><td>0.041241163                </td><td>21915                      </td><td>0.04269658                 </td></tr>\n",
       "\t<tr><th scope=row>5305</th><td>9                          </td><td>B16                        </td><td>Acute hepatitis B          </td><td>   7                       </td><td>0.066666667                </td><td>22401                      </td><td>0.04364344                 </td></tr>\n",
       "\t<tr><th scope=row>5473</th><td>9                          </td><td>E84                        </td><td>Cystic fibrosis            </td><td>   1                       </td><td>0.009803922                </td><td>22401                      </td><td>0.04364344                 </td></tr>\n",
       "</tbody>\n",
       "</table>\n"
      ],
      "text/latex": [
       "\\begin{tabular}{r|lllllll}\n",
       "  & hod & cod & disease & freq & prop & freq\\_all & prop\\_all\\\\\n",
       "\\hline\n",
       "\t4638 & 8                           & B16                         & Acute hepatitis B           &    4                        & 0.038095238                 & 21915                       & 0.04269658                 \\\\\n",
       "\t4787 & 8                           & E84                         & Cystic fibrosis             &    3                        & 0.029411765                 & 21915                       & 0.04269658                 \\\\\n",
       "\t4852 & 8                           & I21                         & Acute myocardial infarction & 2205                        & 0.047121426                 & 21915                       & 0.04269658                 \\\\\n",
       "\t5028 & 8                           & N18                         & Chronic renal failure       &  315                        & 0.041241163                 & 21915                       & 0.04269658                 \\\\\n",
       "\t5305 & 9                           & B16                         & Acute hepatitis B           &    7                        & 0.066666667                 & 22401                       & 0.04364344                 \\\\\n",
       "\t5473 & 9                           & E84                         & Cystic fibrosis             &    1                        & 0.009803922                 & 22401                       & 0.04364344                 \\\\\n",
       "\\end{tabular}\n"
      ],
      "text/markdown": [
       "\n",
       "| <!--/--> | hod | cod | disease | freq | prop | freq_all | prop_all |\n",
       "|---|---|---|---|---|---|---|---|\n",
       "| 4638 | 8                           | B16                         | Acute hepatitis B           |    4                        | 0.038095238                 | 21915                       | 0.04269658                  |\n",
       "| 4787 | 8                           | E84                         | Cystic fibrosis             |    3                        | 0.029411765                 | 21915                       | 0.04269658                  |\n",
       "| 4852 | 8                           | I21                         | Acute myocardial infarction | 2205                        | 0.047121426                 | 21915                       | 0.04269658                  |\n",
       "| 5028 | 8                           | N18                         | Chronic renal failure       |  315                        | 0.041241163                 | 21915                       | 0.04269658                  |\n",
       "| 5305 | 9                           | B16                         | Acute hepatitis B           |    7                        | 0.066666667                 | 22401                       | 0.04364344                  |\n",
       "| 5473 | 9                           | E84                         | Cystic fibrosis             |    1                        | 0.009803922                 | 22401                       | 0.04364344                  |\n",
       "\n"
      ],
      "text/plain": [
       "     hod cod disease                     freq prop        freq_all prop_all  \n",
       "4638 8   B16 Acute hepatitis B              4 0.038095238 21915    0.04269658\n",
       "4787 8   E84 Cystic fibrosis                3 0.029411765 21915    0.04269658\n",
       "4852 8   I21 Acute myocardial infarction 2205 0.047121426 21915    0.04269658\n",
       "5028 8   N18 Chronic renal failure        315 0.041241163 21915    0.04269658\n",
       "5305 9   B16 Acute hepatitis B              7 0.066666667 22401    0.04364344\n",
       "5473 9   E84 Cystic fibrosis                1 0.009803922 22401    0.04364344"
      ]
     },
     "metadata": {},
     "output_type": "display_data"
    },
    {
     "data": {
      "text/html": [
       "<ol class=list-inline>\n",
       "\t<li>447</li>\n",
       "\t<li>3</li>\n",
       "</ol>\n"
      ],
      "text/latex": [
       "\\begin{enumerate*}\n",
       "\\item 447\n",
       "\\item 3\n",
       "\\end{enumerate*}\n"
      ],
      "text/markdown": [
       "1. 447\n",
       "2. 3\n",
       "\n",
       "\n"
      ],
      "text/plain": [
       "[1] 447   3"
      ]
     },
     "metadata": {},
     "output_type": "display_data"
    },
    {
     "data": {
      "text/html": [
       "<table>\n",
       "<thead><tr><th></th><th scope=col>cod</th><th scope=col>n</th><th scope=col>dist</th></tr></thead>\n",
       "<tbody>\n",
       "\t<tr><th scope=row>1</th><td>A01         </td><td>  52        </td><td>8.919359e-04</td></tr>\n",
       "\t<tr><th scope=row>2</th><td>A02         </td><td>  62        </td><td>7.380250e-04</td></tr>\n",
       "\t<tr><th scope=row>4</th><td>A04         </td><td> 139        </td><td>1.982786e-04</td></tr>\n",
       "\t<tr><th scope=row>6</th><td>A06         </td><td>  84        </td><td>4.395620e-04</td></tr>\n",
       "\t<tr><th scope=row>9</th><td>A09         </td><td>3056        </td><td>2.838672e-05</td></tr>\n",
       "\t<tr><th scope=row>10</th><td>A15         </td><td> 203        </td><td>2.193798e-04</td></tr>\n",
       "</tbody>\n",
       "</table>\n"
      ],
      "text/latex": [
       "\\begin{tabular}{r|lll}\n",
       "  & cod & n & dist\\\\\n",
       "\\hline\n",
       "\t1 & A01          &   52         & 8.919359e-04\\\\\n",
       "\t2 & A02          &   62         & 7.380250e-04\\\\\n",
       "\t4 & A04          &  139         & 1.982786e-04\\\\\n",
       "\t6 & A06          &   84         & 4.395620e-04\\\\\n",
       "\t9 & A09          & 3056         & 2.838672e-05\\\\\n",
       "\t10 & A15          &  203         & 2.193798e-04\\\\\n",
       "\\end{tabular}\n"
      ],
      "text/markdown": [
       "\n",
       "| <!--/--> | cod | n | dist |\n",
       "|---|---|---|---|\n",
       "| 1 | A01          |   52         | 8.919359e-04 |\n",
       "| 2 | A02          |   62         | 7.380250e-04 |\n",
       "| 4 | A04          |  139         | 1.982786e-04 |\n",
       "| 6 | A06          |   84         | 4.395620e-04 |\n",
       "| 9 | A09          | 3056         | 2.838672e-05 |\n",
       "| 10 | A15          |  203         | 2.193798e-04 |\n",
       "\n"
      ],
      "text/plain": [
       "   cod n    dist        \n",
       "1  A01   52 8.919359e-04\n",
       "2  A02   62 7.380250e-04\n",
       "4  A04  139 1.982786e-04\n",
       "6  A06   84 4.395620e-04\n",
       "9  A09 3056 2.838672e-05\n",
       "10 A15  203 2.193798e-04"
      ]
     },
     "metadata": {},
     "output_type": "display_data"
    }
   ],
   "source": [
    "dim(hod3)\n",
    "head(hod3)\n",
    "dim(devi)\n",
    "head(devi)"
   ]
  },
  {
   "cell_type": "code",
   "execution_count": 14,
   "id": "eacf7854",
   "metadata": {},
   "outputs": [],
   "source": [
    "# Find outliers\n",
    "xlog10 <- scale_x_log10(\n",
    "  breaks = c(100, 1000, 10000), \n",
    "  labels = c(100, 1000, 10000), \n",
    "  minor_breaks = log10(outer(1:9, 10^(1:5), \"*\")))\n",
    "ylog10 <- scale_y_log10(\n",
    "  breaks = 10 ^ -c(3, 4, 5), \n",
    "  labels = c(\"0.001\", \"0.0001\", \"0.00001\"),\n",
    "  minor_breaks = log10(outer(1:9, 10^-(3:6), \"*\")))\n"
   ]
  },
  {
   "cell_type": "code",
   "execution_count": 15,
   "id": "6e6dedc8",
   "metadata": {},
   "outputs": [
    {
     "data": {
      "image/png": "[encoded data removed]",
      "text/plain": [
       "plot without title"
      ]
     },
     "metadata": {},
     "output_type": "display_data"
    }
   ],
   "source": [
    "qplot(n, dist, data = devi)\n",
    "#ggsave(\"n-dist-raw.pdf\", width = 6, height = 6)\n"
   ]
  },
  {
   "cell_type": "code",
   "execution_count": 16,
   "id": "7be7c2f8",
   "metadata": {},
   "outputs": [
    {
     "name": "stderr",
     "output_type": "stream",
     "text": [
      "Warning message in self$trans$transform(self$minor_breaks):\n",
      "\"NaNs produced\""
     ]
    },
    {
     "data": {
      "image/png": "[encoded data removed]",
      "text/plain": [
       "plot without title"
      ]
     },
     "metadata": {},
     "output_type": "display_data"
    }
   ],
   "source": [
    "qplot(n, dist, data = devi) + \n",
    "  geom_smooth(method = \"rlm\", se = F) + \n",
    "  xlog10 + \n",
    "  ylog10\n",
    "#ggsave(\"n-dist-log.pdf\", width = 6, height = 6)\n"
   ]
  },
  {
   "cell_type": "code",
   "execution_count": 17,
   "id": "5897ec8a",
   "metadata": {},
   "outputs": [
    {
     "data": {
      "text/html": [
       "<dl class=dl-horizontal>\n",
       "\t<dt>(Intercept)</dt>\n",
       "\t\t<dd>-3.64713527427606</dd>\n",
       "\t<dt>log(n)</dt>\n",
       "\t\t<dd>-0.897005448685296</dd>\n",
       "</dl>\n"
      ],
      "text/latex": [
       "\\begin{description*}\n",
       "\\item[(Intercept)] -3.64713527427606\n",
       "\\item[log(n)] -0.897005448685296\n",
       "\\end{description*}\n"
      ],
      "text/markdown": [
       "(Intercept)\n",
       ":   -3.64713527427606log(n)\n",
       ":   -0.897005448685296\n",
       "\n"
      ],
      "text/plain": [
       "(Intercept)      log(n) \n",
       " -3.6471353  -0.8970054 "
      ]
     },
     "metadata": {},
     "output_type": "display_data"
    },
    {
     "data": {
      "image/png": "[encoded data removed]",
      "text/plain": [
       "plot without title"
      ]
     },
     "metadata": {},
     "output_type": "display_data"
    }
   ],
   "source": [
    "devi$resid <- resid(rlm(log(dist) ~ log(n), data = devi))\n",
    "coef(rlm(log(dist) ~ log(n), data = devi))\n",
    "ggplot(devi, aes(n, resid)) + \n",
    "  geom_hline(yintercept = 1.5, colour = \"grey50\") +\n",
    "  geom_point() + \n",
    "  xlog10\n",
    "#ggsave(\"n-dist-resid.pdf\", width = 6, height = 6)\n"
   ]
  },
  {
   "cell_type": "code",
   "execution_count": 18,
   "id": "19ca3f04",
   "metadata": {},
   "outputs": [
    {
     "name": "stderr",
     "output_type": "stream",
     "text": [
      "Matching on: cod\n",
      "Matching on: cod\n"
     ]
    }
   ],
   "source": [
    "unusual <- subset(devi, resid > 1.5)\n",
    "hod_unusual_big <- match_df(hod2, subset(unusual, n > 350))\n",
    "hod_unusual_sml <- match_df(hod2, subset(unusual, n <= 350))\n"
   ]
  },
  {
   "cell_type": "code",
   "execution_count": 19,
   "id": "01fa87b2",
   "metadata": {},
   "outputs": [
    {
     "data": {
      "image/png": "[encoded data removed]",
      "text/plain": [
       "plot without title"
      ]
     },
     "metadata": {},
     "output_type": "display_data"
    },
    {
     "data": {
      "image/png": "[encoded data removed]",
      "text/plain": [
       "plot without title"
      ]
     },
     "metadata": {},
     "output_type": "display_data"
    }
   ],
   "source": [
    "# Visualise unusual causes of death\n",
    "ggplot(hod_unusual_big, aes(hod, prop)) + \n",
    "  geom_line(aes(y = prop_all), data = overall, colour = \"grey50\") +\n",
    "  geom_line() + \n",
    "  facet_wrap(~ disease, ncol = 3)\n",
    "#ggsave(\"unusual-big.pdf\", width = 8, height = 6)\n",
    "last_plot() %+% hod_unusual_sml\n",
    "#ggsave(\"unusual-sml.pdf\", width = 8, height = 4)\n"
   ]
  }
 ],
 "metadata": {
  "kernelspec": {
   "display_name": "R",
   "language": "R",
   "name": "ir"
  },
  "language_info": {
   "codemirror_mode": "r",
   "file_extension": ".r",
   "mimetype": "text/x-r-source",
   "name": "R",
   "pygments_lexer": "r",
   "version": "3.6.1"
  }
 },
 "nbformat": 4,
 "nbformat_minor": 5
}
