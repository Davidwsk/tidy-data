{
 "cells": [
  {
   "cell_type": "markdown",
   "id": "b5f3714c",
   "metadata": {},
   "source": [
    "# 3.1. Column headers are values, not variable names - melt"
   ]
  },
  {
   "cell_type": "code",
   "execution_count": 1,
   "id": "e9e96211",
   "metadata": {},
   "outputs": [
    {
     "data": {
      "text/html": [
       "<table>\n",
       "<thead><tr><th scope=col>row</th><th scope=col>a</th><th scope=col>b</th><th scope=col>c</th></tr></thead>\n",
       "<tbody>\n",
       "\t<tr><td>A</td><td>1</td><td>4</td><td>7</td></tr>\n",
       "\t<tr><td>B</td><td>2</td><td>5</td><td>8</td></tr>\n",
       "\t<tr><td>C</td><td>3</td><td>6</td><td>9</td></tr>\n",
       "</tbody>\n",
       "</table>\n"
      ],
      "text/latex": [
       "\\begin{tabular}{r|llll}\n",
       " row & a & b & c\\\\\n",
       "\\hline\n",
       "\t A & 1 & 4 & 7\\\\\n",
       "\t B & 2 & 5 & 8\\\\\n",
       "\t C & 3 & 6 & 9\\\\\n",
       "\\end{tabular}\n"
      ],
      "text/markdown": [
       "\n",
       "| row | a | b | c |\n",
       "|---|---|---|---|\n",
       "| A | 1 | 4 | 7 |\n",
       "| B | 2 | 5 | 8 |\n",
       "| C | 3 | 6 | 9 |\n",
       "\n"
      ],
      "text/plain": [
       "  row a b c\n",
       "1 A   1 4 7\n",
       "2 B   2 5 8\n",
       "3 C   3 6 9"
      ]
     },
     "metadata": {},
     "output_type": "display_data"
    },
    {
     "data": {
      "text/html": [
       "<table>\n",
       "<thead><tr><th scope=col>row</th><th scope=col>column</th><th scope=col>value</th></tr></thead>\n",
       "<tbody>\n",
       "\t<tr><td>A</td><td>a</td><td>1</td></tr>\n",
       "\t<tr><td>B</td><td>a</td><td>2</td></tr>\n",
       "\t<tr><td>C</td><td>a</td><td>3</td></tr>\n",
       "\t<tr><td>A</td><td>b</td><td>4</td></tr>\n",
       "\t<tr><td>B</td><td>b</td><td>5</td></tr>\n",
       "\t<tr><td>C</td><td>b</td><td>6</td></tr>\n",
       "\t<tr><td>A</td><td>c</td><td>7</td></tr>\n",
       "\t<tr><td>B</td><td>c</td><td>8</td></tr>\n",
       "\t<tr><td>C</td><td>c</td><td>9</td></tr>\n",
       "</tbody>\n",
       "</table>\n"
      ],
      "text/latex": [
       "\\begin{tabular}{r|lll}\n",
       " row & column & value\\\\\n",
       "\\hline\n",
       "\t A & a & 1\\\\\n",
       "\t B & a & 2\\\\\n",
       "\t C & a & 3\\\\\n",
       "\t A & b & 4\\\\\n",
       "\t B & b & 5\\\\\n",
       "\t C & b & 6\\\\\n",
       "\t A & c & 7\\\\\n",
       "\t B & c & 8\\\\\n",
       "\t C & c & 9\\\\\n",
       "\\end{tabular}\n"
      ],
      "text/markdown": [
       "\n",
       "| row | column | value |\n",
       "|---|---|---|\n",
       "| A | a | 1 |\n",
       "| B | a | 2 |\n",
       "| C | a | 3 |\n",
       "| A | b | 4 |\n",
       "| B | b | 5 |\n",
       "| C | b | 6 |\n",
       "| A | c | 7 |\n",
       "| B | c | 8 |\n",
       "| C | c | 9 |\n",
       "\n"
      ],
      "text/plain": [
       "  row column value\n",
       "1 A   a      1    \n",
       "2 B   a      2    \n",
       "3 C   a      3    \n",
       "4 A   b      4    \n",
       "5 B   b      5    \n",
       "6 C   b      6    \n",
       "7 A   c      7    \n",
       "8 B   c      8    \n",
       "9 C   c      9    "
      ]
     },
     "metadata": {},
     "output_type": "display_data"
    }
   ],
   "source": [
    "library(reshape2)\n",
    "\n",
    "df <- data.frame(row = LETTERS[1:3], a = 1:3, b = 4:6, c = 7:9)\n",
    "df\n",
    "\n",
    "dfm <- melt(df, id = \"row\")\n",
    "names(dfm)[2] <- \"column\"\n",
    "dfm\n"
   ]
  }
 ],
 "metadata": {
  "kernelspec": {
   "display_name": "R",
   "language": "R",
   "name": "ir"
  },
  "language_info": {
   "codemirror_mode": "r",
   "file_extension": ".r",
   "mimetype": "text/x-r-source",
   "name": "R",
   "pygments_lexer": "r",
   "version": "3.6.1"
  }
 },
 "nbformat": 4,
 "nbformat_minor": 5
}
