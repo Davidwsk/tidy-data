{
 "cells": [
  {
   "cell_type": "markdown",
   "id": "0374f174",
   "metadata": {},
   "source": [
    "# 3.4. Multiple types in one table - billboard"
   ]
  },
  {
   "cell_type": "markdown",
   "id": "ac69e49e",
   "metadata": {},
   "source": [
    "## 3.1.2. Column headers are values, not variable names - billboard"
   ]
  },
  {
   "cell_type": "code",
   "execution_count": 1,
   "id": "1d3c0260",
   "metadata": {},
   "outputs": [
    {
     "name": "stderr",
     "output_type": "stream",
     "text": [
      "\n",
      "Attaching package: 'lubridate'\n",
      "\n",
      "The following object is masked from 'package:base':\n",
      "\n",
      "    date\n",
      "\n",
      "\n",
      "Attaching package: 'plyr'\n",
      "\n",
      "The following object is masked from 'package:lubridate':\n",
      "\n",
      "    here\n",
      "\n"
     ]
    }
   ],
   "source": [
    "options(stringsAsFactors = FALSE)\n",
    "library(lubridate)\n",
    "library(reshape2)\n",
    "library(stringr)\n",
    "library(plyr)\n",
    "\n",
    "raw <- read.csv(\"../../data/billboard.csv\")\n",
    "raw <- raw[, c(\"year\", \"artist.inverted\", \"track\", \"time\", \"date.entered\",\n",
    "               \"x1st.week\", \"x2nd.week\", \"x3rd.week\", \"x4th.week\", \"x5th.week\", \"x6th.week\", \"x7th.week\", \"x8th.week\",\n",
    "               \"x9th.week\", \"x10th.week\", \"x11th.week\", \"x12th.week\", \"x13th.week\", \"x14th.week\", \"x15th.week\", \"x16th.week\",\n",
    "               \"x17th.week\", \"x18th.week\", \"x19th.week\", \"x20th.week\", \"x21st.week\", \"x22nd.week\", \"x23rd.week\", \"x24th.week\",\n",
    "               \"x25th.week\", \"x26th.week\", \"x27th.week\", \"x28th.week\", \"x29th.week\", \"x30th.week\", \"x31st.week\", \"x32nd.week\",\n",
    "               \"x33rd.week\", \"x34th.week\", \"x35th.week\", \"x36th.week\", \"x37th.week\", \"x38th.week\", \"x39th.week\", \"x40th.week\",\n",
    "               \"x41st.week\", \"x42nd.week\", \"x43rd.week\", \"x44th.week\", \"x45th.week\", \"x46th.week\", \"x47th.week\", \"x48th.week\",\n",
    "               \"x49th.week\", \"x50th.week\", \"x51st.week\", \"x52nd.week\", \"x53rd.week\", \"x54th.week\", \"x55th.week\", \"x56th.week\",\n",
    "               \"x57th.week\", \"x58th.week\", \"x59th.week\", \"x60th.week\", \"x61st.week\", \"x62nd.week\", \"x63rd.week\", \"x64th.week\",\n",
    "               \"x65th.week\", \"x66th.week\", \"x67th.week\", \"x68th.week\", \"x69th.week\", \"x70th.week\", \"x71st.week\", \"x72nd.week\",\n",
    "               \"x73rd.week\", \"x74th.week\", \"x75th.week\", \"x76th.week\")]\n",
    "names(raw)[2] <- \"artist\"\n",
    "\n",
    "raw$artist <- iconv(raw$artist, \"MAC\", \"ASCII//translit\")\n",
    "\n",
    "raw$track <- str_replace(raw$track, \" \\\\(.*?\\\\)\", \"\")\n",
    "long_name <- nchar(raw$track) > 20\n",
    "raw$track[long_name] <- paste0(substr(raw$track[long_name], 0, 20), \"...\")\n",
    "\n",
    "names(raw)[-(1:5)] <- str_c(\"wk\", 1:76)\n",
    "\n",
    "raw <- arrange(raw, year, artist, track)\n",
    "\n",
    "clean <- melt(raw, id = 1:5, na.rm = T)\n",
    "clean$week <- as.integer(str_replace_all(clean$variable, \"[^0-9]+\", \"\"))\n",
    "clean$variable <- NULL\n",
    "clean$date.entered <- ymd(clean$date.entered)\n",
    "clean$date <- clean$date.entered + weeks(clean$week - 1)\n",
    "clean$date.entered <- NULL\n",
    "clean <- rename(clean, c(\"value\" = \"rank\"))\n",
    "clean <- arrange(clean, year, artist, track, time, week)\n",
    "clean <- clean[c(\"year\", \"artist\", \"time\", \"track\", \"date\", \"week\", \"rank\")]"
   ]
  },
  {
   "cell_type": "code",
   "execution_count": 2,
   "id": "677c8ab8",
   "metadata": {},
   "outputs": [
    {
     "data": {
      "text/html": [
       "<ol class=list-inline>\n",
       "\t<li>5307</li>\n",
       "\t<li>7</li>\n",
       "</ol>\n"
      ],
      "text/latex": [
       "\\begin{enumerate*}\n",
       "\\item 5307\n",
       "\\item 7\n",
       "\\end{enumerate*}\n"
      ],
      "text/markdown": [
       "1. 5307\n",
       "2. 7\n",
       "\n",
       "\n"
      ],
      "text/plain": [
       "[1] 5307    7"
      ]
     },
     "metadata": {},
     "output_type": "display_data"
    },
    {
     "data": {
      "text/html": [
       "<table>\n",
       "<thead><tr><th scope=col>year</th><th scope=col>artist</th><th scope=col>time</th><th scope=col>track</th><th scope=col>date</th><th scope=col>week</th><th scope=col>rank</th></tr></thead>\n",
       "<tbody>\n",
       "\t<tr><td>2000          </td><td>2 Pac         </td><td>4:22          </td><td>Baby Don't Cry</td><td>2000-02-26    </td><td>1             </td><td>87            </td></tr>\n",
       "\t<tr><td>2000          </td><td>2 Pac         </td><td>4:22          </td><td>Baby Don't Cry</td><td>2000-03-04    </td><td>2             </td><td>82            </td></tr>\n",
       "\t<tr><td>2000          </td><td>2 Pac         </td><td>4:22          </td><td>Baby Don't Cry</td><td>2000-03-11    </td><td>3             </td><td>72            </td></tr>\n",
       "\t<tr><td>2000          </td><td>2 Pac         </td><td>4:22          </td><td>Baby Don't Cry</td><td>2000-03-18    </td><td>4             </td><td>77            </td></tr>\n",
       "\t<tr><td>2000          </td><td>2 Pac         </td><td>4:22          </td><td>Baby Don't Cry</td><td>2000-03-25    </td><td>5             </td><td>87            </td></tr>\n",
       "\t<tr><td>2000          </td><td>2 Pac         </td><td>4:22          </td><td>Baby Don't Cry</td><td>2000-04-01    </td><td>6             </td><td>94            </td></tr>\n",
       "</tbody>\n",
       "</table>\n"
      ],
      "text/latex": [
       "\\begin{tabular}{r|lllllll}\n",
       " year & artist & time & track & date & week & rank\\\\\n",
       "\\hline\n",
       "\t 2000           & 2 Pac          & 4:22           & Baby Don't Cry & 2000-02-26     & 1              & 87            \\\\\n",
       "\t 2000           & 2 Pac          & 4:22           & Baby Don't Cry & 2000-03-04     & 2              & 82            \\\\\n",
       "\t 2000           & 2 Pac          & 4:22           & Baby Don't Cry & 2000-03-11     & 3              & 72            \\\\\n",
       "\t 2000           & 2 Pac          & 4:22           & Baby Don't Cry & 2000-03-18     & 4              & 77            \\\\\n",
       "\t 2000           & 2 Pac          & 4:22           & Baby Don't Cry & 2000-03-25     & 5              & 87            \\\\\n",
       "\t 2000           & 2 Pac          & 4:22           & Baby Don't Cry & 2000-04-01     & 6              & 94            \\\\\n",
       "\\end{tabular}\n"
      ],
      "text/markdown": [
       "\n",
       "| year | artist | time | track | date | week | rank |\n",
       "|---|---|---|---|---|---|---|\n",
       "| 2000           | 2 Pac          | 4:22           | Baby Don't Cry | 2000-02-26     | 1              | 87             |\n",
       "| 2000           | 2 Pac          | 4:22           | Baby Don't Cry | 2000-03-04     | 2              | 82             |\n",
       "| 2000           | 2 Pac          | 4:22           | Baby Don't Cry | 2000-03-11     | 3              | 72             |\n",
       "| 2000           | 2 Pac          | 4:22           | Baby Don't Cry | 2000-03-18     | 4              | 77             |\n",
       "| 2000           | 2 Pac          | 4:22           | Baby Don't Cry | 2000-03-25     | 5              | 87             |\n",
       "| 2000           | 2 Pac          | 4:22           | Baby Don't Cry | 2000-04-01     | 6              | 94             |\n",
       "\n"
      ],
      "text/plain": [
       "  year artist time track          date       week rank\n",
       "1 2000 2 Pac  4:22 Baby Don't Cry 2000-02-26 1    87  \n",
       "2 2000 2 Pac  4:22 Baby Don't Cry 2000-03-04 2    82  \n",
       "3 2000 2 Pac  4:22 Baby Don't Cry 2000-03-11 3    72  \n",
       "4 2000 2 Pac  4:22 Baby Don't Cry 2000-03-18 4    77  \n",
       "5 2000 2 Pac  4:22 Baby Don't Cry 2000-03-25 5    87  \n",
       "6 2000 2 Pac  4:22 Baby Don't Cry 2000-04-01 6    94  "
      ]
     },
     "metadata": {},
     "output_type": "display_data"
    }
   ],
   "source": [
    "dim(clean)\n",
    "head(clean)"
   ]
  },
  {
   "cell_type": "markdown",
   "id": "d5900787",
   "metadata": {},
   "source": [
    "## 3.4. Multiple types in one table - billboard"
   ]
  },
  {
   "cell_type": "code",
   "execution_count": 3,
   "id": "eeb42244",
   "metadata": {},
   "outputs": [],
   "source": [
    "# Normalisation --------------------------------------------------------------\n",
    "\n",
    "song <- unrowname(unique(clean[c(\"artist\", \"track\", \"time\")]))\n",
    "song$id <- 1:nrow(song)\n"
   ]
  },
  {
   "cell_type": "code",
   "execution_count": 4,
   "id": "b2d40ce8",
   "metadata": {},
   "outputs": [
    {
     "data": {
      "text/html": [
       "<ol class=list-inline>\n",
       "\t<li>317</li>\n",
       "\t<li>4</li>\n",
       "</ol>\n"
      ],
      "text/latex": [
       "\\begin{enumerate*}\n",
       "\\item 317\n",
       "\\item 4\n",
       "\\end{enumerate*}\n"
      ],
      "text/markdown": [
       "1. 317\n",
       "2. 4\n",
       "\n",
       "\n"
      ],
      "text/plain": [
       "[1] 317   4"
      ]
     },
     "metadata": {},
     "output_type": "display_data"
    },
    {
     "data": {
      "text/html": [
       "<table>\n",
       "<thead><tr><th scope=col>artist</th><th scope=col>track</th><th scope=col>time</th><th scope=col>id</th></tr></thead>\n",
       "<tbody>\n",
       "\t<tr><td>2 Pac                  </td><td>Baby Don't Cry         </td><td>4:22                   </td><td>1                      </td></tr>\n",
       "\t<tr><td>2Ge+her                </td><td>The Hardest Part Of ...</td><td>3:15                   </td><td>2                      </td></tr>\n",
       "\t<tr><td>3 Doors Down           </td><td>Kryptonite             </td><td>3:53                   </td><td>3                      </td></tr>\n",
       "\t<tr><td>3 Doors Down           </td><td>Loser                  </td><td>4:24                   </td><td>4                      </td></tr>\n",
       "\t<tr><td>504 Boyz               </td><td>Wobble Wobble          </td><td>3:35                   </td><td>5                      </td></tr>\n",
       "\t<tr><td>98?                    </td><td>Give Me Just One Nig...</td><td>3:24                   </td><td>6                      </td></tr>\n",
       "</tbody>\n",
       "</table>\n"
      ],
      "text/latex": [
       "\\begin{tabular}{r|llll}\n",
       " artist & track & time & id\\\\\n",
       "\\hline\n",
       "\t 2 Pac                   & Baby Don't Cry          & 4:22                    & 1                      \\\\\n",
       "\t 2Ge+her                 & The Hardest Part Of ... & 3:15                    & 2                      \\\\\n",
       "\t 3 Doors Down            & Kryptonite              & 3:53                    & 3                      \\\\\n",
       "\t 3 Doors Down            & Loser                   & 4:24                    & 4                      \\\\\n",
       "\t 504 Boyz                & Wobble Wobble           & 3:35                    & 5                      \\\\\n",
       "\t 98?                     & Give Me Just One Nig... & 3:24                    & 6                      \\\\\n",
       "\\end{tabular}\n"
      ],
      "text/markdown": [
       "\n",
       "| artist | track | time | id |\n",
       "|---|---|---|---|\n",
       "| 2 Pac                   | Baby Don't Cry          | 4:22                    | 1                       |\n",
       "| 2Ge+her                 | The Hardest Part Of ... | 3:15                    | 2                       |\n",
       "| 3 Doors Down            | Kryptonite              | 3:53                    | 3                       |\n",
       "| 3 Doors Down            | Loser                   | 4:24                    | 4                       |\n",
       "| 504 Boyz                | Wobble Wobble           | 3:35                    | 5                       |\n",
       "| 98?                     | Give Me Just One Nig... | 3:24                    | 6                       |\n",
       "\n"
      ],
      "text/plain": [
       "  artist       track                   time id\n",
       "1 2 Pac        Baby Don't Cry          4:22 1 \n",
       "2 2Ge+her      The Hardest Part Of ... 3:15 2 \n",
       "3 3 Doors Down Kryptonite              3:53 3 \n",
       "4 3 Doors Down Loser                   4:24 4 \n",
       "5 504 Boyz     Wobble Wobble           3:35 5 \n",
       "6 98?          Give Me Just One Nig... 3:24 6 "
      ]
     },
     "metadata": {},
     "output_type": "display_data"
    }
   ],
   "source": [
    "dim(song)\n",
    "head(song)"
   ]
  },
  {
   "cell_type": "code",
   "execution_count": 5,
   "id": "ef6c9751",
   "metadata": {},
   "outputs": [
    {
     "name": "stderr",
     "output_type": "stream",
     "text": [
      "Joining by: artist, time, track\n"
     ]
    }
   ],
   "source": [
    "rank <- join(clean, song, match = \"first\")\n"
   ]
  },
  {
   "cell_type": "code",
   "execution_count": 6,
   "id": "cbee4e6e",
   "metadata": {},
   "outputs": [
    {
     "data": {
      "text/html": [
       "<ol class=list-inline>\n",
       "\t<li>5307</li>\n",
       "\t<li>8</li>\n",
       "</ol>\n"
      ],
      "text/latex": [
       "\\begin{enumerate*}\n",
       "\\item 5307\n",
       "\\item 8\n",
       "\\end{enumerate*}\n"
      ],
      "text/markdown": [
       "1. 5307\n",
       "2. 8\n",
       "\n",
       "\n"
      ],
      "text/plain": [
       "[1] 5307    8"
      ]
     },
     "metadata": {},
     "output_type": "display_data"
    },
    {
     "data": {
      "text/html": [
       "<table>\n",
       "<thead><tr><th scope=col>artist</th><th scope=col>time</th><th scope=col>track</th><th scope=col>year</th><th scope=col>date</th><th scope=col>week</th><th scope=col>rank</th><th scope=col>id</th></tr></thead>\n",
       "<tbody>\n",
       "\t<tr><td>2 Pac         </td><td>4:22          </td><td>Baby Don't Cry</td><td>2000          </td><td>2000-02-26    </td><td>1             </td><td>87            </td><td>1             </td></tr>\n",
       "\t<tr><td>2 Pac         </td><td>4:22          </td><td>Baby Don't Cry</td><td>2000          </td><td>2000-03-04    </td><td>2             </td><td>82            </td><td>1             </td></tr>\n",
       "\t<tr><td>2 Pac         </td><td>4:22          </td><td>Baby Don't Cry</td><td>2000          </td><td>2000-03-11    </td><td>3             </td><td>72            </td><td>1             </td></tr>\n",
       "\t<tr><td>2 Pac         </td><td>4:22          </td><td>Baby Don't Cry</td><td>2000          </td><td>2000-03-18    </td><td>4             </td><td>77            </td><td>1             </td></tr>\n",
       "\t<tr><td>2 Pac         </td><td>4:22          </td><td>Baby Don't Cry</td><td>2000          </td><td>2000-03-25    </td><td>5             </td><td>87            </td><td>1             </td></tr>\n",
       "\t<tr><td>2 Pac         </td><td>4:22          </td><td>Baby Don't Cry</td><td>2000          </td><td>2000-04-01    </td><td>6             </td><td>94            </td><td>1             </td></tr>\n",
       "</tbody>\n",
       "</table>\n"
      ],
      "text/latex": [
       "\\begin{tabular}{r|llllllll}\n",
       " artist & time & track & year & date & week & rank & id\\\\\n",
       "\\hline\n",
       "\t 2 Pac          & 4:22           & Baby Don't Cry & 2000           & 2000-02-26     & 1              & 87             & 1             \\\\\n",
       "\t 2 Pac          & 4:22           & Baby Don't Cry & 2000           & 2000-03-04     & 2              & 82             & 1             \\\\\n",
       "\t 2 Pac          & 4:22           & Baby Don't Cry & 2000           & 2000-03-11     & 3              & 72             & 1             \\\\\n",
       "\t 2 Pac          & 4:22           & Baby Don't Cry & 2000           & 2000-03-18     & 4              & 77             & 1             \\\\\n",
       "\t 2 Pac          & 4:22           & Baby Don't Cry & 2000           & 2000-03-25     & 5              & 87             & 1             \\\\\n",
       "\t 2 Pac          & 4:22           & Baby Don't Cry & 2000           & 2000-04-01     & 6              & 94             & 1             \\\\\n",
       "\\end{tabular}\n"
      ],
      "text/markdown": [
       "\n",
       "| artist | time | track | year | date | week | rank | id |\n",
       "|---|---|---|---|---|---|---|---|\n",
       "| 2 Pac          | 4:22           | Baby Don't Cry | 2000           | 2000-02-26     | 1              | 87             | 1              |\n",
       "| 2 Pac          | 4:22           | Baby Don't Cry | 2000           | 2000-03-04     | 2              | 82             | 1              |\n",
       "| 2 Pac          | 4:22           | Baby Don't Cry | 2000           | 2000-03-11     | 3              | 72             | 1              |\n",
       "| 2 Pac          | 4:22           | Baby Don't Cry | 2000           | 2000-03-18     | 4              | 77             | 1              |\n",
       "| 2 Pac          | 4:22           | Baby Don't Cry | 2000           | 2000-03-25     | 5              | 87             | 1              |\n",
       "| 2 Pac          | 4:22           | Baby Don't Cry | 2000           | 2000-04-01     | 6              | 94             | 1              |\n",
       "\n"
      ],
      "text/plain": [
       "  artist time track          year date       week rank id\n",
       "1 2 Pac  4:22 Baby Don't Cry 2000 2000-02-26 1    87   1 \n",
       "2 2 Pac  4:22 Baby Don't Cry 2000 2000-03-04 2    82   1 \n",
       "3 2 Pac  4:22 Baby Don't Cry 2000 2000-03-11 3    72   1 \n",
       "4 2 Pac  4:22 Baby Don't Cry 2000 2000-03-18 4    77   1 \n",
       "5 2 Pac  4:22 Baby Don't Cry 2000 2000-03-25 5    87   1 \n",
       "6 2 Pac  4:22 Baby Don't Cry 2000 2000-04-01 6    94   1 "
      ]
     },
     "metadata": {},
     "output_type": "display_data"
    }
   ],
   "source": [
    "dim(rank)\n",
    "head(rank)"
   ]
  },
  {
   "cell_type": "code",
   "execution_count": 7,
   "id": "c524a74e",
   "metadata": {},
   "outputs": [],
   "source": [
    "rank <- rank[c(\"id\", \"date\", \"rank\")]\n"
   ]
  },
  {
   "cell_type": "code",
   "execution_count": 8,
   "id": "dd0f7a3b",
   "metadata": {},
   "outputs": [
    {
     "data": {
      "text/html": [
       "<ol class=list-inline>\n",
       "\t<li>5307</li>\n",
       "\t<li>3</li>\n",
       "</ol>\n"
      ],
      "text/latex": [
       "\\begin{enumerate*}\n",
       "\\item 5307\n",
       "\\item 3\n",
       "\\end{enumerate*}\n"
      ],
      "text/markdown": [
       "1. 5307\n",
       "2. 3\n",
       "\n",
       "\n"
      ],
      "text/plain": [
       "[1] 5307    3"
      ]
     },
     "metadata": {},
     "output_type": "display_data"
    },
    {
     "data": {
      "text/html": [
       "<table>\n",
       "<thead><tr><th scope=col>id</th><th scope=col>date</th><th scope=col>rank</th></tr></thead>\n",
       "<tbody>\n",
       "\t<tr><td>1         </td><td>2000-02-26</td><td>87        </td></tr>\n",
       "\t<tr><td>1         </td><td>2000-03-04</td><td>82        </td></tr>\n",
       "\t<tr><td>1         </td><td>2000-03-11</td><td>72        </td></tr>\n",
       "\t<tr><td>1         </td><td>2000-03-18</td><td>77        </td></tr>\n",
       "\t<tr><td>1         </td><td>2000-03-25</td><td>87        </td></tr>\n",
       "\t<tr><td>1         </td><td>2000-04-01</td><td>94        </td></tr>\n",
       "</tbody>\n",
       "</table>\n"
      ],
      "text/latex": [
       "\\begin{tabular}{r|lll}\n",
       " id & date & rank\\\\\n",
       "\\hline\n",
       "\t 1          & 2000-02-26 & 87        \\\\\n",
       "\t 1          & 2000-03-04 & 82        \\\\\n",
       "\t 1          & 2000-03-11 & 72        \\\\\n",
       "\t 1          & 2000-03-18 & 77        \\\\\n",
       "\t 1          & 2000-03-25 & 87        \\\\\n",
       "\t 1          & 2000-04-01 & 94        \\\\\n",
       "\\end{tabular}\n"
      ],
      "text/markdown": [
       "\n",
       "| id | date | rank |\n",
       "|---|---|---|\n",
       "| 1          | 2000-02-26 | 87         |\n",
       "| 1          | 2000-03-04 | 82         |\n",
       "| 1          | 2000-03-11 | 72         |\n",
       "| 1          | 2000-03-18 | 77         |\n",
       "| 1          | 2000-03-25 | 87         |\n",
       "| 1          | 2000-04-01 | 94         |\n",
       "\n"
      ],
      "text/plain": [
       "  id date       rank\n",
       "1 1  2000-02-26 87  \n",
       "2 1  2000-03-04 82  \n",
       "3 1  2000-03-11 72  \n",
       "4 1  2000-03-18 77  \n",
       "5 1  2000-03-25 87  \n",
       "6 1  2000-04-01 94  "
      ]
     },
     "metadata": {},
     "output_type": "display_data"
    }
   ],
   "source": [
    "dim(rank)\n",
    "head(rank)"
   ]
  }
 ],
 "metadata": {
  "kernelspec": {
   "display_name": "R",
   "language": "R",
   "name": "ir"
  },
  "language_info": {
   "codemirror_mode": "r",
   "file_extension": ".r",
   "mimetype": "text/x-r-source",
   "name": "R",
   "pygments_lexer": "r",
   "version": "3.6.1"
  }
 },
 "nbformat": 4,
 "nbformat_minor": 5
}
