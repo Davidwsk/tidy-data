{
 "cells": [
  {
   "cell_type": "markdown",
   "id": "979f7863",
   "metadata": {},
   "source": [
    "# 3.2. Multiple variables stored in one column - tb"
   ]
  },
  {
   "cell_type": "code",
   "execution_count": 1,
   "id": "b99e2a95",
   "metadata": {},
   "outputs": [],
   "source": [
    "options(stringsAsFactors = FALSE)\n",
    "library(reshape2)\n",
    "library(plyr)\n",
    "library(stringr)\n",
    "\n",
    "# Load -----------------------------------------------------------------------\n",
    "raw <- read.csv(\"../../data/tb.csv\", na.strings = \"\")\n",
    "raw$new_sp <- NULL\n",
    "raw <- subset(raw, year == 2000)\n",
    "names(raw)[1] <- \"country\"\n",
    "\n",
    "names(raw) <- str_replace(names(raw), \"new_sp_\", \"\")\n",
    "raw$m04 <- NULL\n",
    "raw$m514 <- NULL\n",
    "raw$f04 <- NULL\n",
    "raw$f514 <- NULL\n"
   ]
  },
  {
   "cell_type": "code",
   "execution_count": 2,
   "id": "c9a4de21",
   "metadata": {},
   "outputs": [
    {
     "data": {
      "text/html": [
       "<ol class=list-inline>\n",
       "\t<li>201</li>\n",
       "\t<li>18</li>\n",
       "</ol>\n"
      ],
      "text/latex": [
       "\\begin{enumerate*}\n",
       "\\item 201\n",
       "\\item 18\n",
       "\\end{enumerate*}\n"
      ],
      "text/markdown": [
       "1. 201\n",
       "2. 18\n",
       "\n",
       "\n"
      ],
      "text/plain": [
       "[1] 201  18"
      ]
     },
     "metadata": {},
     "output_type": "display_data"
    },
    {
     "data": {
      "text/html": [
       "<table>\n",
       "<thead><tr><th></th><th scope=col>country</th><th scope=col>year</th><th scope=col>m014</th><th scope=col>m1524</th><th scope=col>m2534</th><th scope=col>m3544</th><th scope=col>m4554</th><th scope=col>m5564</th><th scope=col>m65</th><th scope=col>mu</th><th scope=col>f014</th><th scope=col>f1524</th><th scope=col>f2534</th><th scope=col>f3544</th><th scope=col>f4554</th><th scope=col>f5564</th><th scope=col>f65</th><th scope=col>fu</th></tr></thead>\n",
       "<tbody>\n",
       "\t<tr><th scope=row>11</th><td>AD  </td><td>2000</td><td> 0  </td><td>  0 </td><td>  1 </td><td>  0 </td><td>  0 </td><td> 0  </td><td> 0  </td><td>NA  </td><td>NA  </td><td> NA </td><td> NA </td><td> NA </td><td> NA </td><td>NA  </td><td>NA  </td><td>NA  </td></tr>\n",
       "\t<tr><th scope=row>37</th><td>AE  </td><td>2000</td><td> 2  </td><td>  4 </td><td>  4 </td><td>  6 </td><td>  5 </td><td>12  </td><td>10  </td><td>NA  </td><td> 3  </td><td> 16 </td><td>  1 </td><td>  3 </td><td>  0 </td><td> 0  </td><td> 4  </td><td>NA  </td></tr>\n",
       "\t<tr><th scope=row>61</th><td>AF  </td><td>2000</td><td>52  </td><td>228 </td><td>183 </td><td>149 </td><td>129 </td><td>94  </td><td>80  </td><td>NA  </td><td>93  </td><td>414 </td><td>565 </td><td>339 </td><td>205 </td><td>99  </td><td>36  </td><td>NA  </td></tr>\n",
       "\t<tr><th scope=row>88</th><td>AG  </td><td>2000</td><td> 0  </td><td>  0 </td><td>  0 </td><td>  0 </td><td>  0 </td><td> 0  </td><td> 1  </td><td>NA  </td><td> 1  </td><td>  1 </td><td>  1 </td><td>  0 </td><td>  0 </td><td> 0  </td><td> 0  </td><td>NA  </td></tr>\n",
       "\t<tr><th scope=row>137</th><td>AL  </td><td>2000</td><td> 2  </td><td> 19 </td><td> 21 </td><td> 14 </td><td> 24 </td><td>19  </td><td>16  </td><td>NA  </td><td> 3  </td><td> 11 </td><td> 10 </td><td>  8 </td><td>  8 </td><td> 5  </td><td>11  </td><td>NA  </td></tr>\n",
       "\t<tr><th scope=row>166</th><td>AM  </td><td>2000</td><td> 2  </td><td>152 </td><td>130 </td><td>131 </td><td> 63 </td><td>26  </td><td>21  </td><td>NA  </td><td> 1  </td><td> 24 </td><td> 27 </td><td> 24 </td><td>  8 </td><td> 8  </td><td> 4  </td><td>NA  </td></tr>\n",
       "</tbody>\n",
       "</table>\n"
      ],
      "text/latex": [
       "\\begin{tabular}{r|llllllllllllllllll}\n",
       "  & country & year & m014 & m1524 & m2534 & m3544 & m4554 & m5564 & m65 & mu & f014 & f1524 & f2534 & f3544 & f4554 & f5564 & f65 & fu\\\\\n",
       "\\hline\n",
       "\t11 & AD   & 2000 &  0   &   0  &   1  &   0  &   0  &  0   &  0   & NA   & NA   &  NA  &  NA  &  NA  &  NA  & NA   & NA   & NA  \\\\\n",
       "\t37 & AE   & 2000 &  2   &   4  &   4  &   6  &   5  & 12   & 10   & NA   &  3   &  16  &   1  &   3  &   0  &  0   &  4   & NA  \\\\\n",
       "\t61 & AF   & 2000 & 52   & 228  & 183  & 149  & 129  & 94   & 80   & NA   & 93   & 414  & 565  & 339  & 205  & 99   & 36   & NA  \\\\\n",
       "\t88 & AG   & 2000 &  0   &   0  &   0  &   0  &   0  &  0   &  1   & NA   &  1   &   1  &   1  &   0  &   0  &  0   &  0   & NA  \\\\\n",
       "\t137 & AL   & 2000 &  2   &  19  &  21  &  14  &  24  & 19   & 16   & NA   &  3   &  11  &  10  &   8  &   8  &  5   & 11   & NA  \\\\\n",
       "\t166 & AM   & 2000 &  2   & 152  & 130  & 131  &  63  & 26   & 21   & NA   &  1   &  24  &  27  &  24  &   8  &  8   &  4   & NA  \\\\\n",
       "\\end{tabular}\n"
      ],
      "text/markdown": [
       "\n",
       "| <!--/--> | country | year | m014 | m1524 | m2534 | m3544 | m4554 | m5564 | m65 | mu | f014 | f1524 | f2534 | f3544 | f4554 | f5564 | f65 | fu |\n",
       "|---|---|---|---|---|---|---|---|---|---|---|---|---|---|---|---|---|---|---|\n",
       "| 11 | AD   | 2000 |  0   |   0  |   1  |   0  |   0  |  0   |  0   | NA   | NA   |  NA  |  NA  |  NA  |  NA  | NA   | NA   | NA   |\n",
       "| 37 | AE   | 2000 |  2   |   4  |   4  |   6  |   5  | 12   | 10   | NA   |  3   |  16  |   1  |   3  |   0  |  0   |  4   | NA   |\n",
       "| 61 | AF   | 2000 | 52   | 228  | 183  | 149  | 129  | 94   | 80   | NA   | 93   | 414  | 565  | 339  | 205  | 99   | 36   | NA   |\n",
       "| 88 | AG   | 2000 |  0   |   0  |   0  |   0  |   0  |  0   |  1   | NA   |  1   |   1  |   1  |   0  |   0  |  0   |  0   | NA   |\n",
       "| 137 | AL   | 2000 |  2   |  19  |  21  |  14  |  24  | 19   | 16   | NA   |  3   |  11  |  10  |   8  |   8  |  5   | 11   | NA   |\n",
       "| 166 | AM   | 2000 |  2   | 152  | 130  | 131  |  63  | 26   | 21   | NA   |  1   |  24  |  27  |  24  |   8  |  8   |  4   | NA   |\n",
       "\n"
      ],
      "text/plain": [
       "    country year m014 m1524 m2534 m3544 m4554 m5564 m65 mu f014 f1524 f2534\n",
       "11  AD      2000  0     0     1     0     0    0     0  NA NA    NA    NA  \n",
       "37  AE      2000  2     4     4     6     5   12    10  NA  3    16     1  \n",
       "61  AF      2000 52   228   183   149   129   94    80  NA 93   414   565  \n",
       "88  AG      2000  0     0     0     0     0    0     1  NA  1     1     1  \n",
       "137 AL      2000  2    19    21    14    24   19    16  NA  3    11    10  \n",
       "166 AM      2000  2   152   130   131    63   26    21  NA  1    24    27  \n",
       "    f3544 f4554 f5564 f65 fu\n",
       "11   NA    NA   NA    NA  NA\n",
       "37    3     0    0     4  NA\n",
       "61  339   205   99    36  NA\n",
       "88    0     0    0     0  NA\n",
       "137   8     8    5    11  NA\n",
       "166  24     8    8     4  NA"
      ]
     },
     "metadata": {},
     "output_type": "display_data"
    }
   ],
   "source": [
    "dim(raw)\n",
    "head(raw)"
   ]
  },
  {
   "cell_type": "code",
   "execution_count": 3,
   "id": "22e3a76d",
   "metadata": {},
   "outputs": [],
   "source": [
    "# Melt -----------------------------------------------------------------------\n",
    "\n",
    "clean <- melt(raw, id = c(\"country\", \"year\"), na.rm = TRUE)\n",
    "names(clean)[3] <- \"column\"\n",
    "names(clean)[4] <- \"cases\"\n",
    "\n",
    "clean <- arrange(clean, country, column, year)\n"
   ]
  },
  {
   "cell_type": "code",
   "execution_count": 4,
   "id": "f9deb117",
   "metadata": {},
   "outputs": [
    {
     "data": {
      "text/html": [
       "<ol class=list-inline>\n",
       "\t<li>2273</li>\n",
       "\t<li>4</li>\n",
       "</ol>\n"
      ],
      "text/latex": [
       "\\begin{enumerate*}\n",
       "\\item 2273\n",
       "\\item 4\n",
       "\\end{enumerate*}\n"
      ],
      "text/markdown": [
       "1. 2273\n",
       "2. 4\n",
       "\n",
       "\n"
      ],
      "text/plain": [
       "[1] 2273    4"
      ]
     },
     "metadata": {},
     "output_type": "display_data"
    },
    {
     "data": {
      "text/html": [
       "<table>\n",
       "<thead><tr><th scope=col>country</th><th scope=col>year</th><th scope=col>column</th><th scope=col>cases</th></tr></thead>\n",
       "<tbody>\n",
       "\t<tr><td>AD   </td><td>2000 </td><td>m014 </td><td>0    </td></tr>\n",
       "\t<tr><td>AD   </td><td>2000 </td><td>m1524</td><td>0    </td></tr>\n",
       "\t<tr><td>AD   </td><td>2000 </td><td>m2534</td><td>1    </td></tr>\n",
       "\t<tr><td>AD   </td><td>2000 </td><td>m3544</td><td>0    </td></tr>\n",
       "\t<tr><td>AD   </td><td>2000 </td><td>m4554</td><td>0    </td></tr>\n",
       "\t<tr><td>AD   </td><td>2000 </td><td>m5564</td><td>0    </td></tr>\n",
       "</tbody>\n",
       "</table>\n"
      ],
      "text/latex": [
       "\\begin{tabular}{r|llll}\n",
       " country & year & column & cases\\\\\n",
       "\\hline\n",
       "\t AD    & 2000  & m014  & 0    \\\\\n",
       "\t AD    & 2000  & m1524 & 0    \\\\\n",
       "\t AD    & 2000  & m2534 & 1    \\\\\n",
       "\t AD    & 2000  & m3544 & 0    \\\\\n",
       "\t AD    & 2000  & m4554 & 0    \\\\\n",
       "\t AD    & 2000  & m5564 & 0    \\\\\n",
       "\\end{tabular}\n"
      ],
      "text/markdown": [
       "\n",
       "| country | year | column | cases |\n",
       "|---|---|---|---|\n",
       "| AD    | 2000  | m014  | 0     |\n",
       "| AD    | 2000  | m1524 | 0     |\n",
       "| AD    | 2000  | m2534 | 1     |\n",
       "| AD    | 2000  | m3544 | 0     |\n",
       "| AD    | 2000  | m4554 | 0     |\n",
       "| AD    | 2000  | m5564 | 0     |\n",
       "\n"
      ],
      "text/plain": [
       "  country year column cases\n",
       "1 AD      2000 m014   0    \n",
       "2 AD      2000 m1524  0    \n",
       "3 AD      2000 m2534  1    \n",
       "4 AD      2000 m3544  0    \n",
       "5 AD      2000 m4554  0    \n",
       "6 AD      2000 m5564  0    "
      ]
     },
     "metadata": {},
     "output_type": "display_data"
    }
   ],
   "source": [
    "dim(clean)\n",
    "head(clean)"
   ]
  },
  {
   "cell_type": "code",
   "execution_count": 5,
   "id": "a020d057",
   "metadata": {},
   "outputs": [
    {
     "data": {
      "text/html": [
       "<table>\n",
       "<thead><tr><th scope=col>country</th><th scope=col>year</th><th scope=col>sex</th><th scope=col>age</th><th scope=col>cases</th></tr></thead>\n",
       "<tbody>\n",
       "\t<tr><td>AD   </td><td>2000 </td><td>m    </td><td>0-14 </td><td> 0   </td></tr>\n",
       "\t<tr><td>AD   </td><td>2000 </td><td>m    </td><td>15-24</td><td> 0   </td></tr>\n",
       "\t<tr><td>AD   </td><td>2000 </td><td>m    </td><td>25-34</td><td> 1   </td></tr>\n",
       "\t<tr><td>AD   </td><td>2000 </td><td>m    </td><td>35-44</td><td> 0   </td></tr>\n",
       "\t<tr><td>AD   </td><td>2000 </td><td>m    </td><td>45-54</td><td> 0   </td></tr>\n",
       "\t<tr><td>AD   </td><td>2000 </td><td>m    </td><td>55-64</td><td> 0   </td></tr>\n",
       "\t<tr><td>AD   </td><td>2000 </td><td>m    </td><td>65+  </td><td> 0   </td></tr>\n",
       "\t<tr><td>AE   </td><td>2000 </td><td>m    </td><td>0-14 </td><td> 2   </td></tr>\n",
       "\t<tr><td>AE   </td><td>2000 </td><td>m    </td><td>15-24</td><td> 4   </td></tr>\n",
       "\t<tr><td>AE   </td><td>2000 </td><td>m    </td><td>25-34</td><td> 4   </td></tr>\n",
       "\t<tr><td>AE   </td><td>2000 </td><td>m    </td><td>35-44</td><td> 6   </td></tr>\n",
       "\t<tr><td>AE   </td><td>2000 </td><td>m    </td><td>45-54</td><td> 5   </td></tr>\n",
       "\t<tr><td>AE   </td><td>2000 </td><td>m    </td><td>55-64</td><td>12   </td></tr>\n",
       "\t<tr><td>AE   </td><td>2000 </td><td>m    </td><td>65+  </td><td>10   </td></tr>\n",
       "\t<tr><td>AE   </td><td>2000 </td><td>f    </td><td>0-14 </td><td> 3   </td></tr>\n",
       "</tbody>\n",
       "</table>\n"
      ],
      "text/latex": [
       "\\begin{tabular}{r|lllll}\n",
       " country & year & sex & age & cases\\\\\n",
       "\\hline\n",
       "\t AD    & 2000  & m     & 0-14  &  0   \\\\\n",
       "\t AD    & 2000  & m     & 15-24 &  0   \\\\\n",
       "\t AD    & 2000  & m     & 25-34 &  1   \\\\\n",
       "\t AD    & 2000  & m     & 35-44 &  0   \\\\\n",
       "\t AD    & 2000  & m     & 45-54 &  0   \\\\\n",
       "\t AD    & 2000  & m     & 55-64 &  0   \\\\\n",
       "\t AD    & 2000  & m     & 65+   &  0   \\\\\n",
       "\t AE    & 2000  & m     & 0-14  &  2   \\\\\n",
       "\t AE    & 2000  & m     & 15-24 &  4   \\\\\n",
       "\t AE    & 2000  & m     & 25-34 &  4   \\\\\n",
       "\t AE    & 2000  & m     & 35-44 &  6   \\\\\n",
       "\t AE    & 2000  & m     & 45-54 &  5   \\\\\n",
       "\t AE    & 2000  & m     & 55-64 & 12   \\\\\n",
       "\t AE    & 2000  & m     & 65+   & 10   \\\\\n",
       "\t AE    & 2000  & f     & 0-14  &  3   \\\\\n",
       "\\end{tabular}\n"
      ],
      "text/markdown": [
       "\n",
       "| country | year | sex | age | cases |\n",
       "|---|---|---|---|---|\n",
       "| AD    | 2000  | m     | 0-14  |  0    |\n",
       "| AD    | 2000  | m     | 15-24 |  0    |\n",
       "| AD    | 2000  | m     | 25-34 |  1    |\n",
       "| AD    | 2000  | m     | 35-44 |  0    |\n",
       "| AD    | 2000  | m     | 45-54 |  0    |\n",
       "| AD    | 2000  | m     | 55-64 |  0    |\n",
       "| AD    | 2000  | m     | 65+   |  0    |\n",
       "| AE    | 2000  | m     | 0-14  |  2    |\n",
       "| AE    | 2000  | m     | 15-24 |  4    |\n",
       "| AE    | 2000  | m     | 25-34 |  4    |\n",
       "| AE    | 2000  | m     | 35-44 |  6    |\n",
       "| AE    | 2000  | m     | 45-54 |  5    |\n",
       "| AE    | 2000  | m     | 55-64 | 12    |\n",
       "| AE    | 2000  | m     | 65+   | 10    |\n",
       "| AE    | 2000  | f     | 0-14  |  3    |\n",
       "\n"
      ],
      "text/plain": [
       "   country year sex age   cases\n",
       "1  AD      2000 m   0-14   0   \n",
       "2  AD      2000 m   15-24  0   \n",
       "3  AD      2000 m   25-34  1   \n",
       "4  AD      2000 m   35-44  0   \n",
       "5  AD      2000 m   45-54  0   \n",
       "6  AD      2000 m   55-64  0   \n",
       "7  AD      2000 m   65+    0   \n",
       "8  AE      2000 m   0-14   2   \n",
       "9  AE      2000 m   15-24  4   \n",
       "10 AE      2000 m   25-34  4   \n",
       "11 AE      2000 m   35-44  6   \n",
       "12 AE      2000 m   45-54  5   \n",
       "13 AE      2000 m   55-64 12   \n",
       "14 AE      2000 m   65+   10   \n",
       "15 AE      2000 f   0-14   3   "
      ]
     },
     "metadata": {},
     "output_type": "display_data"
    }
   ],
   "source": [
    "# Break up variable in to sex and age ----------------------------------------\n",
    "\n",
    "clean$sex <- str_sub(clean$column, 1, 1)\n",
    "\n",
    "ages <- c(\"04\" = \"0-4\", \"514\" = \"5-14\", \"014\" = \"0-14\", \"1524\" = \"15-24\", \"2534\" = \"25-34\", \"3544\" = \"35-44\", \"4554\" = \"45-54\", \"5564\" = \"55-64\", \"65\"= \"65+\", \"u\" = NA)\n",
    "\n",
    "clean$age <- factor(ages[str_sub(clean$column, 2)], levels = ages)\n",
    "\n",
    "clean <- clean[c(\"country\", \"year\", \"sex\", \"age\", \"cases\")]\n",
    "\n",
    "clean[1:15, ]\n"
   ]
  }
 ],
 "metadata": {
  "kernelspec": {
   "display_name": "R",
   "language": "R",
   "name": "ir"
  },
  "language_info": {
   "codemirror_mode": "r",
   "file_extension": ".r",
   "mimetype": "text/x-r-source",
   "name": "R",
   "pygments_lexer": "r",
   "version": "3.6.1"
  }
 },
 "nbformat": 4,
 "nbformat_minor": 5
}
